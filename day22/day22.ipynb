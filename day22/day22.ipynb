{
 "cells": [
  {
   "cell_type": "code",
   "execution_count": 6,
   "id": "ffc3e0f3-6741-40a1-88bb-4fa7f275e6f5",
   "metadata": {},
   "outputs": [],
   "source": [
    "inputExample = open('day22-example.txt', 'r').read().split('\\n\\n')\n",
    "# inputExample = open('day22-example-inf.txt','r').read().split('\\n\\n')\n",
    "inputReal = open('day22.txt', 'r').read().split('\\n\\n')"
   ]
  },
  {
   "cell_type": "code",
   "execution_count": 22,
   "id": "7f9f5512-9c0c-49fe-80fc-74a65e60d1cc",
   "metadata": {
    "jupyter": {
     "source_hidden": true
    },
    "tags": []
   },
   "outputs": [],
   "source": [
    "def part1(input):\n",
    "    player1 = list(map(int, input[0].split('\\n')[1:]))\n",
    "    player2 = list(map(int, input[1].split('\\n')[1:]))\n",
    "    \n",
    "    print(player1, player2)\n",
    "    \n",
    "    while len(player1) > 0 and len(player2) > 0:\n",
    "        card1 = player1.pop(0)\n",
    "        card2 = player2.pop(0)\n",
    "        \n",
    "        if(card1 > card2):\n",
    "            player1.append(card1)\n",
    "            player1.append(card2)\n",
    "        else:\n",
    "            player2.append(card2)\n",
    "            player2.append(card1)\n",
    "        \n",
    "    winner = player1 if len(player1) > 0 else player2\n",
    "    \n",
    "    print(winner)\n",
    "    \n",
    "    print(sum(map(lambda i: i[0] * i[1], zip(winner, range(len(winner), 0, -1)))))\n",
    "    \n",
    "    "
   ]
  },
  {
   "cell_type": "code",
   "execution_count": 23,
   "id": "9df36d86-6b4d-4b7c-a9e6-bc604d4437bc",
   "metadata": {
    "collapsed": true,
    "jupyter": {
     "outputs_hidden": true,
     "source_hidden": true
    },
    "tags": []
   },
   "outputs": [
    {
     "name": "stdout",
     "output_type": "stream",
     "text": [
      "[9, 2, 6, 3, 1] [5, 8, 4, 7, 10]\n",
      "[3, 2, 10, 6, 8, 5, 9, 4, 7, 1]\n",
      "306\n"
     ]
    }
   ],
   "source": [
    "part1(inputExample)"
   ]
  },
  {
   "cell_type": "code",
   "execution_count": 24,
   "id": "cbcf1e08-e193-4915-9aea-05c1c8b0eaf0",
   "metadata": {
    "collapsed": true,
    "jupyter": {
     "outputs_hidden": true,
     "source_hidden": true
    },
    "tags": []
   },
   "outputs": [
    {
     "name": "stdout",
     "output_type": "stream",
     "text": [
      "[28, 3, 35, 27, 19, 40, 14, 15, 17, 22, 45, 47, 26, 13, 32, 38, 43, 24, 29, 5, 31, 48, 49, 41, 25] [34, 12, 2, 50, 16, 1, 44, 11, 36, 6, 10, 42, 20, 8, 46, 9, 37, 4, 7, 18, 23, 39, 30, 33, 21]\n",
      "[38, 9, 35, 5, 28, 27, 36, 29, 18, 3, 48, 22, 40, 21, 42, 17, 43, 10, 25, 8, 45, 32, 19, 11, 31, 24, 14, 7, 23, 13, 15, 2, 49, 44, 46, 33, 26, 16, 12, 4, 6, 1, 50, 39, 47, 34, 41, 30, 37, 20]\n",
      "31781\n"
     ]
    }
   ],
   "source": [
    "part1(inputReal)"
   ]
  },
  {
   "cell_type": "code",
   "execution_count": 13,
   "id": "75aabef9-248a-4929-b0da-e76f69075794",
   "metadata": {},
   "outputs": [],
   "source": [
    "def part2(input):\n",
    "    player1 = list(map(int, input[0].split('\\n')[1:]))\n",
    "    player2 = list(map(int, input[1].split('\\n')[1:]))\n",
    "    \n",
    "    fp = None # open(\"day22-progress.txt\", \"w\")\n",
    "    \n",
    "    (winner, score, gameId) = playGame(player1, player2, 0, 1, fp)\n",
    "    print(\"winner\", winner, \"score\", score)\n",
    "    \n",
    "    pass"
   ]
  },
  {
   "cell_type": "code",
   "execution_count": 14,
   "id": "9883e824-6e32-412d-ba2a-c6e099f35507",
   "metadata": {},
   "outputs": [],
   "source": [
    "gameCache = {}\n",
    "\n",
    "def playGame(player1, player2, depth, gameId, f):\n",
    "    originalDecks = serialise(player1, player2)\n",
    "    if originalDecks in gameCache:\n",
    "        # print('| ' * depth, \"Game loaded from cache\", file=f)\n",
    "        return gameCache[originalDecks]\n",
    "    \n",
    "    roundCache = []\n",
    "    thisGame = gameId\n",
    "    # print('| ' * depth, \"Starting game ID\", gameId, \"with decks\", player1, player2, file=f)\n",
    "    \n",
    "    roundNo = 0\n",
    "    \n",
    "    while len(player1) > 0 and len(player2) > 0:\n",
    "        roundNo += 1\n",
    "        decks = serialise(player1, player2)\n",
    "        if decks in roundCache:\n",
    "            score = calcScoreFromDeck(player1)\n",
    "            # print('| ' * depth, \"Decks seen before this game\", file=f)\n",
    "            # print('| ' * depth, \"Game ID\", gameId, \"P1 win, score\", score, file=f)\n",
    "            gameCache.update({originalDecks: (1, score, gameId)})\n",
    "            return (1, score, gameId)\n",
    "        else:\n",
    "            roundCache.append(decks)\n",
    "        \n",
    "        \n",
    "        card1 = player1.pop(0)\n",
    "        card2 = player2.pop(0)\n",
    "        \n",
    "        if len(player1) >= card1 and len(player2) >= card2:\n",
    "            # recurse\n",
    "            # print('| ' * depth, \"Round\", roundNo, \"recursing...\", file=f)\n",
    "            gameId += 1\n",
    "            (winner, score, gameId) = playGame(player1[0:card1], player2[0:card2], depth + 1, gameId, f)\n",
    "        else:\n",
    "            if(card1 > card2):\n",
    "                winner = 1\n",
    "            else:\n",
    "                winner = 2\n",
    "                        \n",
    "        if winner == 1:\n",
    "            player1.append(card1)\n",
    "            player1.append(card2)\n",
    "        else:\n",
    "            player2.append(card2)\n",
    "            player2.append(card1)\n",
    "        \n",
    "        # print('| ' * depth, \"Round\", roundNo, \"player\", winner, \"wins\", \"cards:\", [card1, card2],\"decks:\",player1, player2, file=f)\n",
    "\n",
    "            \n",
    "    if len(player1) > 0:\n",
    "        score = calcScoreFromDeck(player1)\n",
    "        # print('| ' * depth, \"Game ID\", thisGame, \"P1 win, score\", score, file=f)\n",
    "        gameCache.update({originalDecks: (1, score, thisGame)})\n",
    "        return (1, score, gameId)\n",
    "    else:\n",
    "        score = calcScoreFromDeck(player2)\n",
    "        # print('| ' * depth, \"Game ID\", thisGame, \"P2 win, score\", score, file=f)\n",
    "        gameCache.update({originalDecks: (2, score, thisGame)})\n",
    "        return (2, score, gameId)\n"
   ]
  },
  {
   "cell_type": "code",
   "execution_count": 15,
   "id": "15de7ca5-634e-478f-a828-fdf238998031",
   "metadata": {},
   "outputs": [],
   "source": [
    "def serialise(p1, p2):\n",
    "    return ','.join(map(str,p1)) + '/' + ','.join(map(str, p2))"
   ]
  },
  {
   "cell_type": "code",
   "execution_count": 16,
   "id": "f2ddb08e-01c5-48a3-9069-b56f45c50da1",
   "metadata": {},
   "outputs": [],
   "source": [
    "def calcScoreFromDeck(winner):\n",
    "    return sum(map(lambda i: i[0] * i[1], zip(winner, range(len(winner), 0, -1))))"
   ]
  },
  {
   "cell_type": "code",
   "execution_count": 17,
   "id": "191c45db-8104-4dea-82aa-0beeb3116fec",
   "metadata": {},
   "outputs": [
    {
     "name": "stdout",
     "output_type": "stream",
     "text": [
      "winner 2 score 291\n"
     ]
    }
   ],
   "source": [
    "part2(inputExample)"
   ]
  },
  {
   "cell_type": "code",
   "execution_count": 18,
   "id": "84c687fc-5c28-45c3-9a37-72fbc731c703",
   "metadata": {},
   "outputs": [
    {
     "name": "stdout",
     "output_type": "stream",
     "text": [
      "winner 2 score 35154\n"
     ]
    }
   ],
   "source": [
    "part2(inputReal)"
   ]
  }
 ],
 "metadata": {
  "kernelspec": {
   "display_name": "Python 3 (ipykernel)",
   "language": "python",
   "name": "python3"
  },
  "language_info": {
   "codemirror_mode": {
    "name": "ipython",
    "version": 3
   },
   "file_extension": ".py",
   "mimetype": "text/x-python",
   "name": "python",
   "nbconvert_exporter": "python",
   "pygments_lexer": "ipython3",
   "version": "3.9.10"
  }
 },
 "nbformat": 4,
 "nbformat_minor": 5
}
