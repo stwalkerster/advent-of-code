{
 "cells": [
  {
   "cell_type": "code",
   "execution_count": 115,
   "id": "ffc3e0f3-6741-40a1-88bb-4fa7f275e6f5",
   "metadata": {},
   "outputs": [],
   "source": [
    "inputExample = open('day14-example.txt', 'r').read().split('\\n')\n",
    "inputExample2 = open('day14-example2.txt', 'r').read().split('\\n')\n",
    "inputReal = open('day14.txt', 'r').read().split('\\n')"
   ]
  },
  {
   "cell_type": "code",
   "execution_count": 52,
   "id": "7f9f5512-9c0c-49fe-80fc-74a65e60d1cc",
   "metadata": {
    "jupyter": {
     "source_hidden": true
    },
    "tags": []
   },
   "outputs": [],
   "source": [
    "import re\n",
    "\n",
    "def part1(input):\n",
    "    currentMask = \"\"\n",
    "    currentAndMask = \"\"\n",
    "    currentOrMask = \"\"\n",
    "    \n",
    "    mem = {}\n",
    "    \n",
    "    for line in input:\n",
    "        if line[:7] == 'mask = ':\n",
    "            currentMask = line[7:]\n",
    "            currentAndMask = int(line[7:].replace('X','1'), 2)\n",
    "            currentOrMask = int(line[7:].replace('X','0'), 2)\n",
    "            continue\n",
    "        \n",
    "        m = re.search('^mem\\[([0-9]+)\\] = ([0-9]+)$', line)\n",
    "        address = int(m.group(1))\n",
    "        rawValue = int(m.group(2))\n",
    "        \n",
    "        # \"{0:036b}\".format(rawValue)\n",
    "        \n",
    "        # print(address)\n",
    "        # print(\"{0:036b}\".format(rawValue), rawValue)\n",
    "        # print(currentMask, currentAndMask, currentOrMask)\n",
    "        value = (rawValue & currentAndMask) | currentOrMask\n",
    "        # print(\"{0:036b}\".format(value), value)\n",
    "        \n",
    "        mem.update({address: value})\n",
    "\n",
    "    # print(mem)\n",
    "    print(sum(list(mem.values())))"
   ]
  },
  {
   "cell_type": "code",
   "execution_count": 53,
   "id": "9df36d86-6b4d-4b7c-a9e6-bc604d4437bc",
   "metadata": {
    "jupyter": {
     "source_hidden": true
    },
    "tags": []
   },
   "outputs": [
    {
     "name": "stdout",
     "output_type": "stream",
     "text": [
      "165\n"
     ]
    }
   ],
   "source": [
    "part1(inputExample)"
   ]
  },
  {
   "cell_type": "code",
   "execution_count": 54,
   "id": "cbcf1e08-e193-4915-9aea-05c1c8b0eaf0",
   "metadata": {
    "jupyter": {
     "source_hidden": true
    },
    "tags": []
   },
   "outputs": [
    {
     "name": "stdout",
     "output_type": "stream",
     "text": [
      "2346881602152\n"
     ]
    }
   ],
   "source": [
    "part1(inputReal)"
   ]
  },
  {
   "cell_type": "code",
   "execution_count": 121,
   "id": "75aabef9-248a-4929-b0da-e76f69075794",
   "metadata": {},
   "outputs": [],
   "source": [
    "import re\n",
    "\n",
    "def part2(input):\n",
    "    currentMask = \"\"\n",
    "    \n",
    "    mem = {}\n",
    "    \n",
    "    for line in input:\n",
    "        if line[:7] == 'mask = ':\n",
    "            currentMask = line[7:]\n",
    "            # print(currentMask.count('X'))\n",
    "            continue\n",
    "        \n",
    "        m = re.search('^mem\\[([0-9]+)\\] = ([0-9]+)$', line)\n",
    "        rawAddress = \"{0:036b}\".format(int(m.group(1)))\n",
    "        rawValue = int(m.group(2))\n",
    "        \n",
    "        addressMask = applyMask(rawAddress, currentMask)\n",
    "        #print(list(zip(list(rawAddress),list(currentMask))))\n",
    "        \n",
    "        applyChange(mem, addressMask, rawValue)\n",
    "        \n",
    "    # print(mem)\n",
    "    print(sum(list(mem.values())))"
   ]
  },
  {
   "cell_type": "code",
   "execution_count": 117,
   "id": "97983ba7-1287-497a-b536-eaa8ff035ba9",
   "metadata": {},
   "outputs": [],
   "source": [
    "def applyMask(address, mask):\n",
    "    def applySingle(t):\n",
    "        if t[1] == '0':\n",
    "            return t[0]\n",
    "        else:\n",
    "            return t[1]\n",
    "    \n",
    "    zipped = list(zip(list(address),list(mask)))\n",
    "    combined = \"\".join(map(applySingle, zipped))\n",
    "    return combined"
   ]
  },
  {
   "cell_type": "code",
   "execution_count": 118,
   "id": "f7f78ca9-5ec2-489e-a62d-14ca0b3c2057",
   "metadata": {},
   "outputs": [],
   "source": [
    "def applyChange(mem, addressMask, value):\n",
    "    factor = addressMask.count('X')\n",
    "    \n",
    "    fmt = addressMask.replace('X','{}')\n",
    "    \n",
    "    for i in range(pow(2, factor)):\n",
    "        bits = ('{0:0' + str(factor) + 'b}').format(i)\n",
    "        addr = fmt.format(*list(bits))\n",
    "        mem.update({addr: value})\n",
    "    "
   ]
  },
  {
   "cell_type": "code",
   "execution_count": 119,
   "id": "191c45db-8104-4dea-82aa-0beeb3116fec",
   "metadata": {},
   "outputs": [
    {
     "name": "stdout",
     "output_type": "stream",
     "text": [
      "{'000000000000000000000000000000011010': 1, '000000000000000000000000000000011011': 1, '000000000000000000000000000000111010': 100, '000000000000000000000000000000111011': 100, '000000000000000000000000000000010000': 1, '000000000000000000000000000000010001': 1, '000000000000000000000000000000010010': 1, '000000000000000000000000000000010011': 1, '000000000000000000000000000000011000': 1, '000000000000000000000000000000011001': 1}\n",
      "208\n"
     ]
    }
   ],
   "source": [
    "part2(inputExample2)"
   ]
  },
  {
   "cell_type": "code",
   "execution_count": 122,
   "id": "84c687fc-5c28-45c3-9a37-72fbc731c703",
   "metadata": {},
   "outputs": [
    {
     "name": "stdout",
     "output_type": "stream",
     "text": [
      "3885232834169\n"
     ]
    }
   ],
   "source": [
    "part2(inputReal)"
   ]
  }
 ],
 "metadata": {
  "kernelspec": {
   "display_name": "Python 3 (ipykernel)",
   "language": "python",
   "name": "python3"
  },
  "language_info": {
   "codemirror_mode": {
    "name": "ipython",
    "version": 3
   },
   "file_extension": ".py",
   "mimetype": "text/x-python",
   "name": "python",
   "nbconvert_exporter": "python",
   "pygments_lexer": "ipython3",
   "version": "3.9.10"
  }
 },
 "nbformat": 4,
 "nbformat_minor": 5
}
