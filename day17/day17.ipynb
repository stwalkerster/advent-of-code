{
 "cells": [
  {
   "cell_type": "code",
   "execution_count": 1,
   "id": "ffc3e0f3-6741-40a1-88bb-4fa7f275e6f5",
   "metadata": {},
   "outputs": [],
   "source": [
    "inputExample = open('day17-example.txt', 'r').read().split('\\n')\n",
    "inputReal = open('day17.txt', 'r').read().split('\\n')"
   ]
  },
  {
   "cell_type": "code",
   "execution_count": 52,
   "id": "cf359a0e-6963-4843-9ad3-e8184c4ce866",
   "metadata": {
    "jupyter": {
     "source_hidden": true
    },
    "tags": []
   },
   "outputs": [],
   "source": [
    "def printData(data):\n",
    "       \n",
    "    for x in range(len(data)):\n",
    "        for z in range(len(data[x][0])):\n",
    "            for y in range(len(data[x])):\n",
    "                print( data[x][y][z], end = \"\")\n",
    "            print(end = \"  \")\n",
    "        print()"
   ]
  },
  {
   "cell_type": "code",
   "execution_count": 74,
   "id": "6f532389-ff75-4c04-88d7-cc33d667a3f3",
   "metadata": {
    "tags": []
   },
   "outputs": [],
   "source": [
    "def isActive(data, x, y, z):\n",
    "    lenX = len(data)\n",
    "    lenY = len(data[0])\n",
    "    lenZ = len(data[0][0])\n",
    "    \n",
    "    if x < 0 or y < 0 or z < 0:\n",
    "        return False\n",
    "    \n",
    "    if x >= lenX or y >= lenY or z >= lenZ:\n",
    "        return False\n",
    "    \n",
    "    return True if data[x][y][z] == '#' else False"
   ]
  },
  {
   "cell_type": "code",
   "execution_count": 83,
   "id": "ec95a000-ae2a-43f9-aba0-d1d1f2635799",
   "metadata": {
    "tags": []
   },
   "outputs": [],
   "source": [
    "def neighbourCount(data, x, y, z):\n",
    "    count = 0\n",
    "    for x2 in range(x-1, x+2):\n",
    "        for y2 in range(y-1, y+2):\n",
    "            for z2 in range(z-1, z+2):\n",
    "                if x == x2 and y == y2 and z == z2:\n",
    "                    continue\n",
    "                count += 1 if isActive(data, x2, y2, z2) else 0\n",
    "    return count"
   ]
  },
  {
   "cell_type": "code",
   "execution_count": 102,
   "id": "7f9f5512-9c0c-49fe-80fc-74a65e60d1cc",
   "metadata": {
    "jupyter": {
     "source_hidden": true
    },
    "tags": []
   },
   "outputs": [],
   "source": [
    "def part1(input):\n",
    "    startOffset = 7 # we run six cycles, layer *can* grow in [-x, -y, -z] by 1 each cycle.\n",
    "    lenY = len(input) + startOffset + startOffset\n",
    "    lenX = len(input[0]) + startOffset + startOffset\n",
    "    lenZ = 1 + startOffset + startOffset\n",
    "    \n",
    "    # fill\n",
    "    data = [[['.' for _ in range(lenZ)] for _ in range(lenY)] for _ in range(lenX)]\n",
    "        \n",
    "    # load\n",
    "    z = 0 + startOffset\n",
    "    x = 0 + startOffset\n",
    "    for line in input:\n",
    "        y = 0 + startOffset\n",
    "        for char in list(line):\n",
    "            data[x][y][z] = '#' if char == '#' else '.'\n",
    "            y += 1\n",
    "        x += 1\n",
    "    \n",
    "    for i in range(6):\n",
    "        newData = [[['.' for _ in range(lenZ)] for _ in range(lenY)] for _ in range(lenX)]\n",
    "        active = 0\n",
    "        for x in range(lenX):\n",
    "            for y in range(lenY):\n",
    "                for z in range(lenZ):\n",
    "                    c = neighbourCount(data, x, y, z)\n",
    "                    if data[x][y][z] == '#':\n",
    "                        if c == 2 or c == 3:\n",
    "                            newData[x][y][z] = '#'\n",
    "                            active += 1\n",
    "                        else:\n",
    "                            newData[x][y][z] = '.'\n",
    "                    else:\n",
    "                        if c == 3:\n",
    "                            newData[x][y][z] = '#'\n",
    "                            active += 1\n",
    "                        else:\n",
    "                            newData[x][y][z] = '.'\n",
    "                        \n",
    "        data = newData       \n",
    "        # printData(data)\n",
    "        print(i+1, active)\n",
    "    "
   ]
  },
  {
   "cell_type": "code",
   "execution_count": 103,
   "id": "9df36d86-6b4d-4b7c-a9e6-bc604d4437bc",
   "metadata": {
    "collapsed": true,
    "jupyter": {
     "outputs_hidden": true
    },
    "tags": []
   },
   "outputs": [
    {
     "name": "stdout",
     "output_type": "stream",
     "text": [
      "1 11\n",
      "2 21\n",
      "3 38\n",
      "4 58\n",
      "5 101\n",
      "6 112\n"
     ]
    }
   ],
   "source": [
    "part1(inputExample)"
   ]
  },
  {
   "cell_type": "code",
   "execution_count": 104,
   "id": "cbcf1e08-e193-4915-9aea-05c1c8b0eaf0",
   "metadata": {
    "tags": []
   },
   "outputs": [
    {
     "name": "stdout",
     "output_type": "stream",
     "text": [
      "1 66\n",
      "2 96\n",
      "3 181\n",
      "4 210\n",
      "5 233\n",
      "6 388\n"
     ]
    }
   ],
   "source": [
    "part1(inputReal)"
   ]
  },
  {
   "cell_type": "code",
   "execution_count": 105,
   "id": "8f061761-0f5a-4f38-97f0-45a090b64a12",
   "metadata": {},
   "outputs": [],
   "source": [
    "def neighbourCount2(data, x, y, z, w):\n",
    "    count = 0\n",
    "    for x2 in range(x-1, x+2):\n",
    "        for y2 in range(y-1, y+2):\n",
    "            for z2 in range(z-1, z+2):\n",
    "                for w2 in range(w-1, w+2):\n",
    "                    if x == x2 and y == y2 and z == z2 and w == w2:\n",
    "                        continue\n",
    "                    count += 1 if isActive2(data, x2, y2, z2, w2) else 0\n",
    "    return count\n",
    "\n",
    "def isActive2(data, x, y, z, w):\n",
    "    lenX = len(data)\n",
    "    lenY = len(data[0])\n",
    "    lenZ = len(data[0][0])\n",
    "    lenW = len(data[0][0][0])\n",
    "    \n",
    "    if x < 0 or y < 0 or z < 0 or w < 0:\n",
    "        return False\n",
    "    \n",
    "    if x >= lenX or y >= lenY or z >= lenZ or w >= lenW:\n",
    "        return False\n",
    "    \n",
    "    return True if data[x][y][z][w] == '#' else False"
   ]
  },
  {
   "cell_type": "code",
   "execution_count": 106,
   "id": "75aabef9-248a-4929-b0da-e76f69075794",
   "metadata": {
    "tags": []
   },
   "outputs": [],
   "source": [
    "def part2(input):\n",
    "    startOffset = 7 # we run six cycles, layer *can* grow in [-x, -y, -z] by 1 each cycle.\n",
    "    lenY = len(input) + startOffset + startOffset\n",
    "    lenX = len(input[0]) + startOffset + startOffset\n",
    "    lenZ = 1 + startOffset + startOffset\n",
    "    lenW = 1 + startOffset + startOffset\n",
    "    \n",
    "    # fill\n",
    "    data = [[[['.' for _ in range(lenW)] for _ in range(lenZ)] for _ in range(lenY)] for _ in range(lenX)]\n",
    "        \n",
    "    # load\n",
    "    \n",
    "    w = 0 + startOffset\n",
    "    z = 0 + startOffset\n",
    "    x = 0 + startOffset\n",
    "    for line in input:\n",
    "        y = 0 + startOffset\n",
    "        for char in list(line):\n",
    "            data[x][y][z][w] = '#' if char == '#' else '.'\n",
    "            y += 1\n",
    "        x += 1\n",
    "    \n",
    "    for i in range(6):\n",
    "        newData = [[[['.' for _ in range(lenW)] for _ in range(lenZ)] for _ in range(lenY)] for _ in range(lenX)]\n",
    "        active = 0\n",
    "        for x in range(lenX):\n",
    "            for y in range(lenY):\n",
    "                for z in range(lenZ):\n",
    "                    for w in range(lenW):\n",
    "                        c = neighbourCount2(data, x, y, z, w)\n",
    "                        if data[x][y][z][w] == '#':\n",
    "                            if c == 2 or c == 3:\n",
    "                                newData[x][y][z][w] = '#'\n",
    "                                active += 1\n",
    "                            else:\n",
    "                                newData[x][y][z][w] = '.'\n",
    "                        else:\n",
    "                            if c == 3:\n",
    "                                newData[x][y][z][w] = '#'\n",
    "                                active += 1\n",
    "                            else:\n",
    "                                newData[x][y][z][w] = '.'\n",
    "                        \n",
    "        data = newData       \n",
    "        # printData(data)\n",
    "        print(i+1, active)\n",
    "    "
   ]
  },
  {
   "cell_type": "code",
   "execution_count": 107,
   "id": "191c45db-8104-4dea-82aa-0beeb3116fec",
   "metadata": {},
   "outputs": [
    {
     "name": "stdout",
     "output_type": "stream",
     "text": [
      "1 29\n",
      "2 60\n",
      "3 320\n",
      "4 188\n",
      "5 1056\n",
      "6 848\n"
     ]
    }
   ],
   "source": [
    "part2(inputExample)"
   ]
  },
  {
   "cell_type": "code",
   "execution_count": 108,
   "id": "84c687fc-5c28-45c3-9a37-72fbc731c703",
   "metadata": {},
   "outputs": [
    {
     "name": "stdout",
     "output_type": "stream",
     "text": [
      "1 186\n",
      "2 228\n",
      "3 1088\n",
      "4 580\n",
      "5 2644\n",
      "6 2280\n"
     ]
    }
   ],
   "source": [
    "part2(inputReal)"
   ]
  }
 ],
 "metadata": {
  "kernelspec": {
   "display_name": "Python 3 (ipykernel)",
   "language": "python",
   "name": "python3"
  },
  "language_info": {
   "codemirror_mode": {
    "name": "ipython",
    "version": 3
   },
   "file_extension": ".py",
   "mimetype": "text/x-python",
   "name": "python",
   "nbconvert_exporter": "python",
   "pygments_lexer": "ipython3",
   "version": "3.9.10"
  }
 },
 "nbformat": 4,
 "nbformat_minor": 5
}
