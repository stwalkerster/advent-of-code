{
 "cells": [
  {
   "cell_type": "code",
   "execution_count": 1,
   "id": "ffc3e0f3-6741-40a1-88bb-4fa7f275e6f5",
   "metadata": {},
   "outputs": [],
   "source": [
    "inputExample = open('example.txt', 'r').read().split('\\n')\n",
    "inputReal = open('input.txt', 'r').read().split('\\n')\n",
    "\n",
    "import re\n",
    "from datetime import datetime\n"
   ]
  },
  {
   "cell_type": "code",
   "execution_count": 2,
   "id": "7f9f5512-9c0c-49fe-80fc-74a65e60d1cc",
   "metadata": {},
   "outputs": [],
   "source": [
    "def parse(input):\n",
    "    pairs = []\n",
    "\n",
    "    for i in input:\n",
    "        if i == '':\n",
    "            continue\n",
    "\n",
    "        m =  re.match(r'^Sensor at x=(-?[0-9]+), y=(-?[0-9]+): closest beacon is at x=(-?[0-9]+), y=(-?[0-9]+)$', i)\n",
    "        pairs.append([(int(m.group(1)),int(m.group(2))), (int(m.group(3)),int(m.group(4)))])\n",
    "\n",
    "    return pairs"
   ]
  },
  {
   "cell_type": "code",
   "execution_count": 92,
   "id": "7b7981c2",
   "metadata": {
    "collapsed": false
   },
   "outputs": [],
   "source": [
    "def part1(input, target_y):\n",
    "    pairs = parse(input)\n",
    "\n",
    "    # sensor coord -> taxicab distance to beacon\n",
    "    beacon_distances = [[p[0], abs(p[0][0] - p[1][0]) + abs(p[0][1] - p[1][1])] for p in pairs]\n",
    "\n",
    "    # sensor x -> remaining X distance after navigating to Y\n",
    "    capable = [\n",
    "        [b[0][0], b[1] - abs(target_y - b[0][1])] for b\n",
    "        in beacon_distances\n",
    "        if abs(target_y - b[0][1]) <= b[1]\n",
    "    ]\n",
    "\n",
    "    # ranges of impossible values based on spare distance\n",
    "    ranges = [list(range(r[0]-r[1], r[0]+r[1]+1)) for r in capable]\n",
    "\n",
    "    # combine ranges\n",
    "    total = []\n",
    "    for r in ranges:\n",
    "        total.extend(r)\n",
    "\n",
    "    total.sort()\n",
    "    ts = set(total)\n",
    "\n",
    "    # total contains all the positions unavailable, but the answer doesn't include the known beacon locations!\n",
    "    for r in list(set([p[1][0] for p in pairs if p[1][1] == target_y])):\n",
    "        if r in ts:\n",
    "            ts.remove(r)\n",
    "\n",
    "    print(len(ts))\n",
    "\n"
   ]
  },
  {
   "cell_type": "code",
   "execution_count": 93,
   "id": "9df36d86-6b4d-4b7c-a9e6-bc604d4437bc",
   "metadata": {},
   "outputs": [
    {
     "name": "stdout",
     "output_type": "stream",
     "text": [
      "26\n"
     ]
    }
   ],
   "source": [
    "part1(inputExample, 10)"
   ]
  },
  {
   "cell_type": "code",
   "execution_count": 94,
   "id": "cbcf1e08-e193-4915-9aea-05c1c8b0eaf0",
   "metadata": {},
   "outputs": [
    {
     "name": "stdout",
     "output_type": "stream",
     "text": [
      "4737443\n"
     ]
    }
   ],
   "source": [
    "part1(inputReal, 2000000)"
   ]
  },
  {
   "cell_type": "code",
   "execution_count": 6,
   "id": "75aabef9-248a-4929-b0da-e76f69075794",
   "metadata": {},
   "outputs": [],
   "source": [
    "def part2(input, max_xy):\n",
    "    pairs = parse(input)\n",
    "\n",
    "    beacon_distances = [[p[0], abs(p[0][0] - p[1][0]) + abs(p[0][1] - p[1][1])] for p in pairs]\n",
    "\n",
    "    delta_set = set(range(0, max_xy+1))\n",
    "\n",
    "    def check_row(target_y):\n",
    "        capable = [\n",
    "            [b[0][0], b[1] - abs(target_y - b[0][1])] for b\n",
    "            in beacon_distances\n",
    "            if abs(target_y - b[0][1]) <= b[1]\n",
    "        ]\n",
    "\n",
    "        ranges = [list(range(r[0]-r[1], r[0]+r[1]+1)) for r in capable]\n",
    "\n",
    "        total = []\n",
    "        for r in ranges:\n",
    "            total.extend(r)\n",
    "\n",
    "        delta = delta_set - set(total)\n",
    "        if len(delta) > 0:\n",
    "            result = open('result.txt', 'w')\n",
    "            x = delta.pop()\n",
    "            print(x, target_y, (x * 4000000) + target_y)\n",
    "            print(x, target_y, (x * 4000000) + target_y, file=result)\n",
    "\n",
    "\n",
    "            return True\n",
    "\n",
    "        return False\n",
    "\n",
    "    f = open('progress.txt', 'w')\n",
    "    for y in range(0, max_xy+1):\n",
    "        if y % 10 == 0:\n",
    "            now = datetime.now()\n",
    "            print(now.strftime(\"%d/%m/%Y %H:%M:%S\"), y, file=f, flush=True)\n",
    "\n",
    "        if check_row(y):\n",
    "            break\n"
   ]
  },
  {
   "cell_type": "code",
   "execution_count": 5,
   "id": "191c45db-8104-4dea-82aa-0beeb3116fec",
   "metadata": {},
   "outputs": [
    {
     "name": "stdout",
     "output_type": "stream",
     "text": [
      "14 11 56000011\n"
     ]
    }
   ],
   "source": [
    "part2(inputExample, 20)"
   ]
  },
  {
   "cell_type": "code",
   "execution_count": null,
   "id": "84c687fc-5c28-45c3-9a37-72fbc731c703",
   "metadata": {
    "pycharm": {
     "is_executing": true
    }
   },
   "outputs": [],
   "source": [
    "part2(inputReal, 4000000)"
   ]
  }
 ],
 "metadata": {
  "kernelspec": {
   "display_name": "Python 3 (ipykernel)",
   "language": "python",
   "name": "python3"
  },
  "language_info": {
   "codemirror_mode": {
    "name": "ipython",
    "version": 3
   },
   "file_extension": ".py",
   "mimetype": "text/x-python",
   "name": "python",
   "nbconvert_exporter": "python",
   "pygments_lexer": "ipython3",
   "version": "3.9.10"
  }
 },
 "nbformat": 4,
 "nbformat_minor": 5
}
