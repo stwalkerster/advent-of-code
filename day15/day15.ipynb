{
 "cells": [
  {
   "cell_type": "code",
   "execution_count": 1,
   "id": "ffc3e0f3-6741-40a1-88bb-4fa7f275e6f5",
   "metadata": {},
   "outputs": [],
   "source": [
    "inputExample = [0,3,6]\n",
    "inputReal = [0,5,4,1,10,14,7]"
   ]
  },
  {
   "cell_type": "code",
   "execution_count": 124,
   "id": "7f9f5512-9c0c-49fe-80fc-74a65e60d1cc",
   "metadata": {},
   "outputs": [],
   "source": [
    "def part1(input):\n",
    "    simulate(input, 2020)\n",
    "    \n",
    "def simulate(input, n):\n",
    "    last = 0\n",
    "    mem = {}\n",
    "    \n",
    "    for i in range(1,len(input) + 1):\n",
    "        # print(\"Turn\", \"{0:04d}\".format(i), input[i - 1])\n",
    "        last = input[i-1]\n",
    "        prior = mem.get(last, [])\n",
    "        if len(prior) == 2:\n",
    "            prior.pop(0)\n",
    "        prior.append(i)\n",
    "        mem.update({last:prior})\n",
    "        \n",
    "    # print(\"  \", mem)\n",
    "        \n",
    "    for i in range(len(input)+1, n+1):\n",
    "        #print(\"Turn\", \"#\"+str(i), \"last=\" + str(last))\n",
    "        lastHistory = mem.get(last, [])\n",
    "        #print(\".  \", \"hist of\", last, lastHistory)\n",
    "        \n",
    "        if len(lastHistory) < 2:\n",
    "            value = 0\n",
    "            #print(\".  \", \"declaring 0 due to lack of history\")\n",
    "        else:\n",
    "            value = lastHistory[1] - lastHistory[0]\n",
    "            #print(\".  \", \"declaring\", value, \"from history\")\n",
    "    \n",
    "        prior = mem.get(value, [])\n",
    "        #print(\".  \", \"hist of\", value, prior)\n",
    "        if len(prior) == 2:\n",
    "            rm = prior.pop(0)\n",
    "            #print(\".  \", \"removed\", rm, \"from history\")\n",
    "        prior.append(i)\n",
    "        mem.update({value:prior})\n",
    "        \n",
    "        \n",
    "        last = value\n",
    "        \n",
    "        # print(\"Turn\", \"{0:04d}\".format(i), value)\n",
    "        #print()\n",
    "    \n",
    "    print(input, last)\n",
    "        "
   ]
  },
  {
   "cell_type": "code",
   "execution_count": 125,
   "id": "9df36d86-6b4d-4b7c-a9e6-bc604d4437bc",
   "metadata": {},
   "outputs": [
    {
     "name": "stdout",
     "output_type": "stream",
     "text": [
      "[0, 3, 6] 436\n",
      "[1, 3, 2] 1\n",
      "[2, 1, 3] 10\n",
      "[1, 2, 3] 27\n",
      "[2, 3, 1] 78\n",
      "[3, 2, 1] 438\n",
      "[3, 1, 2] 1836\n"
     ]
    }
   ],
   "source": [
    "part1(inputExample)\n",
    "part1([1,3,2])\n",
    "part1([2,1,3])\n",
    "part1([1,2,3])\n",
    "part1([2,3,1])\n",
    "part1([3,2,1])\n",
    "part1([3,1,2])\n"
   ]
  },
  {
   "cell_type": "code",
   "execution_count": 126,
   "id": "cbcf1e08-e193-4915-9aea-05c1c8b0eaf0",
   "metadata": {},
   "outputs": [
    {
     "name": "stdout",
     "output_type": "stream",
     "text": [
      "[0, 5, 4, 1, 10, 14, 7] 203\n"
     ]
    }
   ],
   "source": [
    "part1(inputReal)"
   ]
  },
  {
   "cell_type": "code",
   "execution_count": 127,
   "id": "75aabef9-248a-4929-b0da-e76f69075794",
   "metadata": {},
   "outputs": [],
   "source": [
    "def part2(input):\n",
    "    simulate(input, 30000000)"
   ]
  },
  {
   "cell_type": "code",
   "execution_count": 128,
   "id": "191c45db-8104-4dea-82aa-0beeb3116fec",
   "metadata": {},
   "outputs": [
    {
     "name": "stdout",
     "output_type": "stream",
     "text": [
      "[0, 3, 6] 175594\n"
     ]
    }
   ],
   "source": [
    "part2(inputExample)"
   ]
  },
  {
   "cell_type": "code",
   "execution_count": 129,
   "id": "84c687fc-5c28-45c3-9a37-72fbc731c703",
   "metadata": {},
   "outputs": [
    {
     "name": "stdout",
     "output_type": "stream",
     "text": [
      "[0, 5, 4, 1, 10, 14, 7] 9007186\n"
     ]
    }
   ],
   "source": [
    "part2(inputReal)"
   ]
  }
 ],
 "metadata": {
  "kernelspec": {
   "display_name": "Python 3 (ipykernel)",
   "language": "python",
   "name": "python3"
  },
  "language_info": {
   "codemirror_mode": {
    "name": "ipython",
    "version": 3
   },
   "file_extension": ".py",
   "mimetype": "text/x-python",
   "name": "python",
   "nbconvert_exporter": "python",
   "pygments_lexer": "ipython3",
   "version": "3.9.10"
  }
 },
 "nbformat": 4,
 "nbformat_minor": 5
}
