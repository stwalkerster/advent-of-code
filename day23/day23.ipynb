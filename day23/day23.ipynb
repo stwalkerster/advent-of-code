{
 "cells": [
  {
   "cell_type": "code",
   "execution_count": 3,
   "id": "ffc3e0f3-6741-40a1-88bb-4fa7f275e6f5",
   "metadata": {},
   "outputs": [],
   "source": [
    "inputExample = '389125467'\n",
    "inputReal = '871369452'\n",
    "\n",
    "from collections import deque\n",
    "import cProfile, pstats, io\n",
    "from pstats import SortKey\n",
    "import datetime"
   ]
  },
  {
   "cell_type": "code",
   "execution_count": 4,
   "id": "1efaced6",
   "metadata": {
    "collapsed": false
   },
   "outputs": [],
   "source": [
    "def part1(input):\n",
    "    cups = [int(x) for x in list(input)]\n",
    "\n",
    "    for move in range(100):\n",
    "        # print('-- move', move + 1, '--')\n",
    "        cups = doRoundList(cups, 9)\n",
    "\n",
    "    while cups[0] != 1:\n",
    "        cups.append(cups.pop(0))\n",
    "\n",
    "    cups.pop(0)\n",
    "    print(\"\".join(map(str,cups)))"
   ]
  },
  {
   "cell_type": "code",
   "execution_count": 5,
   "id": "2aa9b66d",
   "metadata": {
    "collapsed": false
   },
   "outputs": [],
   "source": [
    "def doRoundList(cups, maxNum):\n",
    "    #print('cups:', *cups)\n",
    "    currentCup = cups[0]\n",
    "    #print('current:', currentCup)\n",
    "\n",
    "    pickedUp = cups[1:4]\n",
    "    #print('pick up:', *pickedUp)\n",
    "\n",
    "    newCups = cups\n",
    "    cups.pop(1)\n",
    "    cups.pop(1)\n",
    "    cups.pop(1)\n",
    "\n",
    "    ## find destination\n",
    "    destination = currentCup - 1\n",
    "    if destination == 0:\n",
    "        destination = maxNum\n",
    "\n",
    "    while True:\n",
    "        if destination in newCups:\n",
    "            found = True\n",
    "            break\n",
    "        destination -= 1\n",
    "        if destination == 0:\n",
    "            destination = maxNum\n",
    "\n",
    "    #print('destination:', destination)\n",
    "    destIdx = newCups.index(destination)\n",
    "\n",
    "    pickedUp.reverse()\n",
    "    for x in pickedUp:\n",
    "        newCups.insert(destIdx + 1, x)\n",
    "\n",
    "    newCups.append(newCups.pop(0))\n",
    "    #print(\"result:\", *newCups)\n",
    "\n",
    "    return newCups"
   ]
  },
  {
   "cell_type": "code",
   "execution_count": 6,
   "id": "90d47b62",
   "metadata": {
    "collapsed": false
   },
   "outputs": [
    {
     "name": "stdout",
     "output_type": "stream",
     "text": [
      "67384529\n"
     ]
    }
   ],
   "source": [
    "part1(inputExample)"
   ]
  },
  {
   "cell_type": "code",
   "execution_count": 7,
   "id": "fc5fc650",
   "metadata": {
    "collapsed": false
   },
   "outputs": [
    {
     "name": "stdout",
     "output_type": "stream",
     "text": [
      "28793654\n"
     ]
    }
   ],
   "source": [
    "part1(inputReal)"
   ]
  },
  {
   "cell_type": "markdown",
   "id": "d38e3d8c",
   "metadata": {
    "collapsed": false
   },
   "source": [
    "## Part 2. Run it ten million times, with a million cups\n",
    "\n",
    "OK, so we need to be a bit smarter here.\n",
    "\n",
    "Using a list, the above code is expected to run for about 16 days. Using a deque instead, it ran for almost exactly four days (and produced the wrong answer).\n",
    "\n",
    "For this to work, I need a low O(...) score for moving items around the list, and a low O(...) score for random access. For the former, a linked list sounds great (`O(1)`) at the cost of random access (`O(n)`). For the latter, moving around isn't great (`O(n)`) but random access is fine (`O(1)`).\n",
    "\n",
    "I'm going to cheat a bit, and use a combination of both.\n",
    "\n",
    "I'm going to use a list, with the **indexes** referring to the cup label minus one (such that cup 5 has index 4), and the list value refers to the **index** of the next cup in the circle. This way, I should get `O(1)` for movement, and `O(1)` for access, at the risk of off-by-one errors. It is my hope that by writing everything with indexes rather than labels, I can isolate the off-by-one errors to the parsing and the output display parts of the code."
   ]
  },
  {
   "cell_type": "code",
   "execution_count": 21,
   "id": "4eb1c80e",
   "metadata": {
    "collapsed": false
   },
   "outputs": [],
   "source": [
    "def part1(input):\n",
    "    cups = run_game(input, 9, 100)\n",
    "\n",
    "    print(\"-- final --\")\n",
    "    print_cups(cups, cups[0])\n",
    "\n",
    "def part2(input):\n",
    "    cups = run_game(input, 1_000_000, 10_000_000)\n",
    "\n",
    "    print(\"-- final --\")\n",
    "    print(cups[0] +1, cups[cups[0]] + 1)\n",
    "    print((cups[0]+1) * (cups[cups[0]]+1))"
   ]
  },
  {
   "cell_type": "code",
   "execution_count": 9,
   "id": "da728b71",
   "metadata": {
    "collapsed": false
   },
   "outputs": [],
   "source": [
    "def build_cups(input, total_cups):\n",
    "    input_cups = [int(x) - 1 for x in list(input)]\n",
    "    len_input = len(input_cups)\n",
    "    #print(\"input\", input_cups, len_input)\n",
    "    # build initial range of cups such that each cup holds the next sequential index\n",
    "    cups = list(range(1, total_cups + 1))\n",
    "    # put the cups in the correct places with the correct next jumps\n",
    "    first_cup = input_cups.pop(0)\n",
    "    current_cup = first_cup\n",
    "    while len(input_cups) > 0:\n",
    "        next_cup = input_cups.pop(0)\n",
    "        cups[current_cup] = next_cup\n",
    "        current_cup = next_cup\n",
    "    # connect the end of the input and extra cups correctly\n",
    "    if len_input == total_cups:\n",
    "        cups[current_cup] = first_cup\n",
    "    else:\n",
    "        cups[current_cup] = len_input\n",
    "        cups[-1] = first_cup\n",
    "    #print(\"data   \", cups)\n",
    "    #print(\"indexes\", list(range(total_cups)))\n",
    "    #print(\"rebuild\", end=\" \")\n",
    "    #print_cups(cups, 2)\n",
    "    return cups, first_cup"
   ]
  },
  {
   "cell_type": "code",
   "execution_count": 10,
   "id": "a9d860e7",
   "metadata": {
    "collapsed": false
   },
   "outputs": [],
   "source": [
    "def print_cups(cups, current):\n",
    "    cup_list = []\n",
    "    last = current\n",
    "    for i in range(15):\n",
    "        # print(last)\n",
    "        cup_list.append(last + 1)\n",
    "        last = cups[last]\n",
    "        if last == current:\n",
    "            break\n",
    "    print(\"CUPS\", cup_list)"
   ]
  },
  {
   "cell_type": "code",
   "execution_count": 11,
   "id": "186cd0e5",
   "metadata": {
    "collapsed": false
   },
   "outputs": [],
   "source": [
    "def run_game(input, total_cups, total_moves):\n",
    "    (cups, first_cup) = build_cups(input, total_cups)\n",
    "\n",
    "    current_cup = first_cup\n",
    "    for move in range(total_moves):\n",
    "        #print('-- move', move + 1, '--')\n",
    "\n",
    "        #print_cups(cups, current_cup)\n",
    "\n",
    "        # the picked up cup(-chain)\n",
    "        picked_up = cups[current_cup]\n",
    "        all_picked_up = [picked_up, cups[picked_up], cups[cups[picked_up]]]\n",
    "\n",
    "        # work out where the current cup should now link to\n",
    "        next_after_pickup = cups[cups[cups[picked_up]]]\n",
    "\n",
    "        cups[cups[cups[picked_up]]] = picked_up # make a loop\n",
    "        #print(\"picked up \", end='')\n",
    "        #print_cups(cups, picked_up)\n",
    "\n",
    "        #print(\"next\", next_after_pickup)\n",
    "        cups[current_cup] = next_after_pickup\n",
    "\n",
    "        destination = current_cup - 1\n",
    "        if destination == -1:\n",
    "            destination = total_cups - 1\n",
    "        while True:\n",
    "            if destination in all_picked_up:\n",
    "                destination -= 1\n",
    "            else:\n",
    "                break\n",
    "            if destination == -1:\n",
    "                destination = total_cups - 1\n",
    "\n",
    "        #print(\"destination\", destination)\n",
    "\n",
    "        new_target = cups[destination]\n",
    "        cups[destination] = picked_up\n",
    "        cups[all_picked_up[-1]] = new_target\n",
    "\n",
    "        #print(\"Resulting\", end=' ')\n",
    "        #print_cups(cups, current_cup)\n",
    "\n",
    "        current_cup = cups[current_cup]\n",
    "\n",
    "    return cups\n"
   ]
  },
  {
   "cell_type": "code",
   "execution_count": 12,
   "id": "f7bc2379",
   "metadata": {
    "collapsed": false
   },
   "outputs": [
    {
     "name": "stdout",
     "output_type": "stream",
     "text": [
      "-- final --\n",
      "CUPS [6, 7, 3, 8, 4, 5, 2, 9, 1]\n"
     ]
    }
   ],
   "source": [
    "part1(inputExample)"
   ]
  },
  {
   "cell_type": "code",
   "execution_count": 13,
   "id": "a558a35b",
   "metadata": {
    "collapsed": false
   },
   "outputs": [
    {
     "name": "stdout",
     "output_type": "stream",
     "text": [
      "-- final --\n",
      "CUPS [2, 8, 7, 9, 3, 6, 5, 4, 1]\n"
     ]
    }
   ],
   "source": [
    "part1(inputReal)"
   ]
  },
  {
   "cell_type": "code",
   "execution_count": 22,
   "id": "84c687fc-5c28-45c3-9a37-72fbc731c703",
   "metadata": {},
   "outputs": [
    {
     "name": "stdout",
     "output_type": "stream",
     "text": [
      "-- final --\n",
      "934001 159792\n",
      "149245887792\n"
     ]
    }
   ],
   "source": [
    "part2(inputExample)"
   ]
  },
  {
   "cell_type": "code",
   "execution_count": 23,
   "id": "40b070a2",
   "metadata": {
    "collapsed": false
   },
   "outputs": [
    {
     "name": "stdout",
     "output_type": "stream",
     "text": [
      "-- final --\n",
      "385778 931123\n",
      "359206768694\n"
     ]
    }
   ],
   "source": [
    "part2(inputReal)"
   ]
  }
 ],
 "metadata": {
  "kernelspec": {
   "display_name": "Python 3 (ipykernel)",
   "language": "python",
   "name": "python3"
  },
  "language_info": {
   "codemirror_mode": {
    "name": "ipython",
    "version": 3
   },
   "file_extension": ".py",
   "mimetype": "text/x-python",
   "name": "python",
   "nbconvert_exporter": "python",
   "pygments_lexer": "ipython3",
   "version": "3.9.10"
  }
 },
 "nbformat": 4,
 "nbformat_minor": 5
}
