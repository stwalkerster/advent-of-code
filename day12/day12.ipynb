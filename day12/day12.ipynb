{
 "cells": [
  {
   "cell_type": "code",
   "execution_count": 7,
   "id": "ffc3e0f3-6741-40a1-88bb-4fa7f275e6f5",
   "metadata": {},
   "outputs": [],
   "source": [
    "inputExample = ['F10','N3','F7','R90','F11']\n",
    "inputReal = open('day12.txt', 'r').read().split('\\n')"
   ]
  },
  {
   "cell_type": "code",
   "execution_count": 9,
   "id": "7f9f5512-9c0c-49fe-80fc-74a65e60d1cc",
   "metadata": {},
   "outputs": [],
   "source": [
    "def part1(input):\n",
    "    direction = 90\n",
    "    x = 0\n",
    "    y = 0\n",
    "\n",
    "    for instruction in input:\n",
    "        command = instruction[:1]\n",
    "        arg = int(instruction[1:])\n",
    "\n",
    "        if command == 'N' or (command == 'F' and direction == 0):\n",
    "            y += arg\n",
    "        elif command == 'S' or (command == 'F' and direction == 180):\n",
    "            y -= arg\n",
    "        elif command == 'E' or (command == 'F' and direction == 90):\n",
    "            x += arg\n",
    "        elif command == 'W' or (command == 'F' and direction == 270):\n",
    "            x -= arg\n",
    "        elif command == 'L':\n",
    "            direction = (direction - arg) % 360\n",
    "        elif command == 'R':\n",
    "            direction = (direction + arg) % 360\n",
    "\n",
    "    print(x, y, direction, abs(x) + abs(y))\n"
   ]
  },
  {
   "cell_type": "code",
   "execution_count": 10,
   "id": "9df36d86-6b4d-4b7c-a9e6-bc604d4437bc",
   "metadata": {},
   "outputs": [
    {
     "name": "stdout",
     "output_type": "stream",
     "text": [
      "17 -8 180 25\n"
     ]
    }
   ],
   "source": [
    "part1(inputExample)"
   ]
  },
  {
   "cell_type": "code",
   "execution_count": 11,
   "id": "cbcf1e08-e193-4915-9aea-05c1c8b0eaf0",
   "metadata": {},
   "outputs": [
    {
     "name": "stdout",
     "output_type": "stream",
     "text": [
      "-225 -296 0 521\n"
     ]
    }
   ],
   "source": [
    "part1(inputReal)"
   ]
  },
  {
   "cell_type": "code",
   "execution_count": 35,
   "id": "75aabef9-248a-4929-b0da-e76f69075794",
   "metadata": {},
   "outputs": [],
   "source": [
    "import math\n",
    "\n",
    "def part2(input):\n",
    "    waypointX = 10\n",
    "    waypointY = 1\n",
    "    shipX = 0\n",
    "    shipY = 0\n",
    "\n",
    "    for instruction in input:\n",
    "        command = instruction[:1]\n",
    "        arg = int(instruction[1:])\n",
    "\n",
    "        if command == 'N':\n",
    "            waypointY += arg\n",
    "        elif command == 'S':\n",
    "            waypointY -= arg\n",
    "        elif command == 'E':\n",
    "            waypointX += arg\n",
    "        elif command == 'W':\n",
    "            waypointX -= arg\n",
    "        elif command == 'L':\n",
    "            # print(waypointX, waypointY)\n",
    "            rads = math.radians(arg)\n",
    "            # print(\"rotate LEFT by\", arg, \"degrees =\", rads, \"radians\")\n",
    "\n",
    "            newX = waypointX * math.cos(rads) - waypointY * math.sin(rads)\n",
    "            newY = waypointY * math.cos(rads) + waypointX * math.sin(rads)\n",
    "\n",
    "            waypointX = round(newX)\n",
    "            waypointY = round(newY)\n",
    "\n",
    "            # print(waypointX, waypointY)\n",
    "        elif command == 'R':\n",
    "            # print(waypointX, waypointY)\n",
    "            rads = math.radians(-arg)\n",
    "            # print(\"rotate RIGHT by\", arg, \"degrees =\", rads, \"radians\")\n",
    "\n",
    "            newX = waypointX * math.cos(rads) - waypointY * math.sin(rads)\n",
    "            newY = waypointY * math.cos(rads) + waypointX * math.sin(rads)\n",
    "\n",
    "            waypointX = round(newX)\n",
    "            waypointY = round(newY)\n",
    "\n",
    "            # print(waypointX, waypointY)\n",
    "        elif command == 'F':\n",
    "            for i in range(arg):\n",
    "                shipX += waypointX\n",
    "                shipY += waypointY\n",
    "\n",
    "    print(shipX, shipY, waypointX, waypointY, abs(shipX) + abs(shipY))\n",
    "\n"
   ]
  },
  {
   "cell_type": "code",
   "execution_count": 36,
   "id": "191c45db-8104-4dea-82aa-0beeb3116fec",
   "metadata": {},
   "outputs": [
    {
     "name": "stdout",
     "output_type": "stream",
     "text": [
      "214 -72 4 -10 286\n"
     ]
    }
   ],
   "source": [
    "part2(inputExample)"
   ]
  },
  {
   "cell_type": "code",
   "execution_count": 37,
   "id": "84c687fc-5c28-45c3-9a37-72fbc731c703",
   "metadata": {},
   "outputs": [
    {
     "name": "stdout",
     "output_type": "stream",
     "text": [
      "20290 -2558 52 -31 22848\n"
     ]
    }
   ],
   "source": [
    "part2(inputReal)"
   ]
  }
 ],
 "metadata": {
  "kernelspec": {
   "display_name": "Python 3 (ipykernel)",
   "language": "python",
   "name": "python3"
  },
  "language_info": {
   "codemirror_mode": {
    "name": "ipython",
    "version": 3
   },
   "file_extension": ".py",
   "mimetype": "text/x-python",
   "name": "python",
   "nbconvert_exporter": "python",
   "pygments_lexer": "ipython3",
   "version": "3.9.10"
  }
 },
 "nbformat": 4,
 "nbformat_minor": 5
}
