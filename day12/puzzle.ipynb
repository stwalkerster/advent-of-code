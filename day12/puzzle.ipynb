{
 "cells": [
  {
   "cell_type": "code",
   "execution_count": 1,
   "id": "ffc3e0f3-6741-40a1-88bb-4fa7f275e6f5",
   "metadata": {},
   "outputs": [],
   "source": [
    "inputExample = open('example.txt', 'r').read().split('\\n')\n",
    "inputReal = open('input.txt', 'r').read().split('\\n')\n",
    "\n",
    "from queue import PriorityQueue\n",
    "from sys import maxsize\n"
   ]
  },
  {
   "cell_type": "code",
   "execution_count": 60,
   "id": "7f9f5512-9c0c-49fe-80fc-74a65e60d1cc",
   "metadata": {},
   "outputs": [],
   "source": [
    "def part1(input):\n",
    "    area_height_map = [[ord(x) for x in list(line)] for line in input if line != \"\"]\n",
    "\n",
    "    start = (0,0)\n",
    "    end = (0,0)\n",
    "\n",
    "    for y in range(len(area_height_map)):\n",
    "        for x in range(len(area_height_map[0])):\n",
    "            if area_height_map[y][x] == ord('S'):\n",
    "                area_height_map[y][x] = ord('a')\n",
    "                start = (x,y)\n",
    "            elif area_height_map[y][x] == ord('E'):\n",
    "                area_height_map[y][x] = ord('z')\n",
    "                end = (x,y)\n",
    "\n",
    "    print(dijkstra_2d_grid(area_height_map, start, end))"
   ]
  },
  {
   "cell_type": "code",
   "execution_count": 53,
   "id": "aaf118e0-b37e-41db-8fdf-224915393e1e",
   "metadata": {},
   "outputs": [],
   "source": [
    "def dijkstra_2d_grid(nodes, start, end):\n",
    "    distances = [[None for x in range(len(nodes[0]))] for y in range(len(nodes))]\n",
    "    visited = [[False for x in range(len(nodes[0]))] for y in range(len(nodes))]\n",
    "\n",
    "    distances[start[1]][start[0]] = 0\n",
    "\n",
    "    visit_queue = PriorityQueue()    \n",
    "    visit_queue.put((0, start))\n",
    "    \n",
    "    while not visit_queue.empty():\n",
    "        current = visit_queue.get()[1]\n",
    "        if current[0] == end[0] and current[1] == end[1]:\n",
    "            # We found the end\n",
    "            break\n",
    "            \n",
    "        unvisited = []\n",
    "\n",
    "        # consider unvisited neighbours\n",
    "        if current[0] > 0 and not visited[current[1]][current[0]-1]:\n",
    "            unvisited.append((current[0]-1, current[1]))\n",
    "        if current[0] < len(nodes[0])-1 and not visited[current[1]][current[0]+1]:\n",
    "            unvisited.append((current[0]+1, current[1]))\n",
    "        if current[1] > 0 and not visited[current[1]-1][current[0]]:\n",
    "            unvisited.append((current[0], current[1]-1))\n",
    "        if current[1] < len(nodes)-1 and not visited[current[1]+1][current[0]]:\n",
    "            unvisited.append((current[0], current[1]+1))\n",
    "\n",
    "        for neighbour in unvisited:\n",
    "            \n",
    "            # HOOK\n",
    "            if (nodes[current[1]][current[0]] + 1) < nodes[neighbour[1]][neighbour[0]]:\n",
    "                # too big a jump for elven legs\n",
    "                continue\n",
    "            # END HOOK\n",
    "            \n",
    "            dist = distances[current[1]][current[0]] + nodes[neighbour[1]][neighbour[0]]\n",
    "\n",
    "            # HOOK\n",
    "            dist = distances[current[1]][current[0]] + 1\n",
    "            # END HOOK\n",
    "            \n",
    "            if distances[neighbour[1]][neighbour[0]] is None or distances[neighbour[1]][neighbour[0]] > dist:\n",
    "                distances[neighbour[1]][neighbour[0]] = dist\n",
    "                visit_queue.put((dist, neighbour))\n",
    "\n",
    "        visited[current[1]][current[0]] = True\n",
    "        \n",
    "    min_path = distances[end[1]][end[0]]\n",
    "    \n",
    "    return min_path"
   ]
  },
  {
   "cell_type": "code",
   "execution_count": 61,
   "id": "9df36d86-6b4d-4b7c-a9e6-bc604d4437bc",
   "metadata": {},
   "outputs": [
    {
     "name": "stdout",
     "output_type": "stream",
     "text": [
      "31\n"
     ]
    }
   ],
   "source": [
    "part1(inputExample)"
   ]
  },
  {
   "cell_type": "code",
   "execution_count": 62,
   "id": "cbcf1e08-e193-4915-9aea-05c1c8b0eaf0",
   "metadata": {},
   "outputs": [
    {
     "name": "stdout",
     "output_type": "stream",
     "text": [
      "534\n"
     ]
    }
   ],
   "source": [
    "part1(inputReal)"
   ]
  },
  {
   "cell_type": "code",
   "execution_count": 69,
   "id": "75aabef9-248a-4929-b0da-e76f69075794",
   "metadata": {},
   "outputs": [],
   "source": [
    "def part2(input):\n",
    "    area_height_map = [[ord(x) for x in list(line)] for line in input if line != \"\"]\n",
    "\n",
    "    start = []\n",
    "    end = (0,0)\n",
    "\n",
    "    for y in range(len(area_height_map)):\n",
    "        for x in range(len(area_height_map[0])):\n",
    "            if area_height_map[y][x] == ord('S'):\n",
    "                area_height_map[y][x] = ord('a')\n",
    "                start.append((x,y))\n",
    "            elif area_height_map[y][x] == ord('a'):\n",
    "                start.append((x,y))\n",
    "            elif area_height_map[y][x] == ord('E'):\n",
    "                area_height_map[y][x] = ord('z')\n",
    "                end = (x,y)\n",
    "\n",
    "    dijkstra_runs = [dijkstra_2d_grid(area_height_map, x, end) for x in start]\n",
    "    print(min([x for x in dijkstra_runs if x is not None]))"
   ]
  },
  {
   "cell_type": "code",
   "execution_count": 70,
   "id": "191c45db-8104-4dea-82aa-0beeb3116fec",
   "metadata": {},
   "outputs": [
    {
     "name": "stdout",
     "output_type": "stream",
     "text": [
      "29\n"
     ]
    }
   ],
   "source": [
    "part2(inputExample)"
   ]
  },
  {
   "cell_type": "code",
   "execution_count": 71,
   "id": "84c687fc-5c28-45c3-9a37-72fbc731c703",
   "metadata": {},
   "outputs": [
    {
     "name": "stdout",
     "output_type": "stream",
     "text": [
      "525\n"
     ]
    }
   ],
   "source": [
    "part2(inputReal)"
   ]
  }
 ],
 "metadata": {
  "kernelspec": {
   "display_name": "Python 3 (ipykernel)",
   "language": "python",
   "name": "python3"
  },
  "language_info": {
   "codemirror_mode": {
    "name": "ipython",
    "version": 3
   },
   "file_extension": ".py",
   "mimetype": "text/x-python",
   "name": "python",
   "nbconvert_exporter": "python",
   "pygments_lexer": "ipython3",
   "version": "3.9.10"
  }
 },
 "nbformat": 4,
 "nbformat_minor": 5
}
