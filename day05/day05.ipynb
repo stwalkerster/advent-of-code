{
 "cells": [
  {
   "cell_type": "code",
   "execution_count": 1,
   "id": "ffc3e0f3-6741-40a1-88bb-4fa7f275e6f5",
   "metadata": {},
   "outputs": [],
   "source": [
    "inputExample = ['FBFBBFFRLR','BFFFBBFRRR','FFFBBBFRRR','BBFFBBFRLL']\n",
    "inputReal = open('day05.txt', 'r').read().split('\\n')"
   ]
  },
  {
   "cell_type": "code",
   "execution_count": 3,
   "id": "7efc9585-5756-4acc-9146-60f89c0446fc",
   "metadata": {},
   "outputs": [],
   "source": [
    "def decode(seatRef):\n",
    "    rowMax = 127\n",
    "    rowMin = 0\n",
    "    \n",
    "    colMax = 7\n",
    "    colMin = 0\n",
    "    \n",
    "    for c in seatRef:\n",
    "        if c in ['F', 'B']:\n",
    "            rangeMid = ((rowMax + 1 - rowMin) / 2) + rowMin\n",
    "            # print(c, rowMin, rangeMid, rowMax)\n",
    "            if c == 'F':\n",
    "                rowMax = rangeMid - 1\n",
    "            elif c == 'B':\n",
    "                rowMin = rangeMid\n",
    "            \n",
    "        elif c in ['L','R']:\n",
    "            rangeMid = ((colMax + 1 - colMin) / 2) + colMin\n",
    "            # print(c, colMin, rangeMid, colMax)\n",
    "            if c == 'L':\n",
    "                colMax = rangeMid - 1\n",
    "            elif c == 'R':\n",
    "                colMin = rangeMid\n",
    "    \n",
    "    return (rowMin, colMin)"
   ]
  },
  {
   "cell_type": "code",
   "execution_count": 2,
   "id": "7f9f5512-9c0c-49fe-80fc-74a65e60d1cc",
   "metadata": {},
   "outputs": [],
   "source": [
    "def part1(input):\n",
    "    maxId = -1;\n",
    "    for seat in input:\n",
    "        (row, col) = decode(seat)\n",
    "        id = (row * 8) + col\n",
    "        if id > maxId:\n",
    "            maxId = id\n",
    "    \n",
    "    print(maxId)"
   ]
  },
  {
   "cell_type": "code",
   "execution_count": 4,
   "id": "9df36d86-6b4d-4b7c-a9e6-bc604d4437bc",
   "metadata": {},
   "outputs": [
    {
     "name": "stdout",
     "output_type": "stream",
     "text": [
      "820.0\n"
     ]
    }
   ],
   "source": [
    "part1(inputExample)"
   ]
  },
  {
   "cell_type": "code",
   "execution_count": 5,
   "id": "cbcf1e08-e193-4915-9aea-05c1c8b0eaf0",
   "metadata": {},
   "outputs": [
    {
     "name": "stdout",
     "output_type": "stream",
     "text": [
      "874.0\n"
     ]
    }
   ],
   "source": [
    "part1(inputReal)"
   ]
  },
  {
   "cell_type": "code",
   "execution_count": 44,
   "id": "75aabef9-248a-4929-b0da-e76f69075794",
   "metadata": {},
   "outputs": [],
   "source": [
    "def part2(input):\n",
    "    takenSeats = set(map(lambda x: (x[0] * 8) + x[1], map(lambda x: decode(x), input)))\n",
    "    \n",
    "    last = min(takenSeats) -1\n",
    "    for x in takenSeats:\n",
    "        if x - last > 1:\n",
    "            print(x -1)\n",
    "        last = x\n",
    "    "
   ]
  },
  {
   "cell_type": "code",
   "execution_count": 38,
   "id": "191c45db-8104-4dea-82aa-0beeb3116fec",
   "metadata": {},
   "outputs": [
    {
     "name": "stdout",
     "output_type": "stream",
     "text": [
      "last 118.0\n",
      "### 357.0 119.0\n",
      "### 820.0 357.0\n"
     ]
    }
   ],
   "source": [
    "part2(inputExample)"
   ]
  },
  {
   "cell_type": "code",
   "execution_count": 45,
   "id": "84c687fc-5c28-45c3-9a37-72fbc731c703",
   "metadata": {},
   "outputs": [
    {
     "name": "stdout",
     "output_type": "stream",
     "text": [
      "594.0\n"
     ]
    }
   ],
   "source": [
    "part2(inputReal)"
   ]
  }
 ],
 "metadata": {
  "kernelspec": {
   "display_name": "Python 3 (ipykernel)",
   "language": "python",
   "name": "python3"
  },
  "language_info": {
   "codemirror_mode": {
    "name": "ipython",
    "version": 3
   },
   "file_extension": ".py",
   "mimetype": "text/x-python",
   "name": "python",
   "nbconvert_exporter": "python",
   "pygments_lexer": "ipython3",
   "version": "3.9.10"
  }
 },
 "nbformat": 4,
 "nbformat_minor": 5
}
