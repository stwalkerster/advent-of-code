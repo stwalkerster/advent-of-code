{
 "cells": [
  {
   "cell_type": "code",
   "execution_count": 21,
   "id": "ffc3e0f3-6741-40a1-88bb-4fa7f275e6f5",
   "metadata": {},
   "outputs": [],
   "source": [
    "inputExample = open('example.txt', 'r').read().split('\\n\\n')\n",
    "inputReal = open('input.txt', 'r').read().split('\\n\\n')"
   ]
  },
  {
   "cell_type": "code",
   "execution_count": 22,
   "id": "7f9f5512-9c0c-49fe-80fc-74a65e60d1cc",
   "metadata": {},
   "outputs": [],
   "source": [
    "def part1(input):\n",
    "    (stacks, instructions) = parse(input)\n",
    "    \n",
    "    for i in instructions:\n",
    "        for x in range(i[0]):\n",
    "            stacks[i[2]-1].append(stacks[i[1]-1].pop())\n",
    "    \n",
    "    print(\"\".join([s.pop() for s in stacks]))"
   ]
  },
  {
   "cell_type": "code",
   "execution_count": 10,
   "id": "2f465cda-426d-4acb-a211-094870c82af4",
   "metadata": {
    "jupyter": {
     "source_hidden": true
    },
    "tags": []
   },
   "outputs": [],
   "source": [
    "from collections import deque\n",
    "import re\n",
    "\n",
    "def parse(input):\n",
    "    drawing = input[0].split('\\n')\n",
    "    steps = input[1].split('\\n')\n",
    "    \n",
    "    stacks = [deque() for x in drawing[-1].split(' ') if x != '']\n",
    "    del drawing[-1]\n",
    "    \n",
    "    for r in drawing[::-1]:\n",
    "        for s in range(len(stacks)):\n",
    "            if r[s*4+1] != ' ':\n",
    "                stacks[s].append(r[s*4+1])\n",
    "            \n",
    "    instructions = []\n",
    "    for i in steps:\n",
    "        if i == '':\n",
    "            continue\n",
    "        m = re.match('move ([0-9]+) from ([0-9]) to ([0-9])', i)\n",
    "        instructions.append((int(m.group(1)), int(m.group(2)), int(m.group(3))))\n",
    "    \n",
    "    return stacks, instructions"
   ]
  },
  {
   "cell_type": "code",
   "execution_count": 23,
   "id": "9df36d86-6b4d-4b7c-a9e6-bc604d4437bc",
   "metadata": {},
   "outputs": [
    {
     "name": "stdout",
     "output_type": "stream",
     "text": [
      "CMZ\n"
     ]
    }
   ],
   "source": [
    "part1(inputExample)"
   ]
  },
  {
   "cell_type": "code",
   "execution_count": 24,
   "id": "cbcf1e08-e193-4915-9aea-05c1c8b0eaf0",
   "metadata": {},
   "outputs": [
    {
     "name": "stdout",
     "output_type": "stream",
     "text": [
      "VJSFHWGFT\n"
     ]
    }
   ],
   "source": [
    "part1(inputReal)"
   ]
  },
  {
   "cell_type": "code",
   "execution_count": 25,
   "id": "75aabef9-248a-4929-b0da-e76f69075794",
   "metadata": {},
   "outputs": [],
   "source": [
    "def part2(input):\n",
    "    (stacks, instructions) = parse(input)\n",
    "    \n",
    "    for i in instructions:\n",
    "        cache = deque()\n",
    "        for x in range(i[0]):\n",
    "            cache.append(stacks[i[1]-1].pop())\n",
    "        for x in range(i[0]):\n",
    "            stacks[i[2]-1].append(cache.pop())\n",
    "    \n",
    "    print(\"\".join([s.pop() for s in stacks]))"
   ]
  },
  {
   "cell_type": "code",
   "execution_count": 26,
   "id": "191c45db-8104-4dea-82aa-0beeb3116fec",
   "metadata": {},
   "outputs": [
    {
     "name": "stdout",
     "output_type": "stream",
     "text": [
      "MCD\n"
     ]
    }
   ],
   "source": [
    "part2(inputExample)"
   ]
  },
  {
   "cell_type": "code",
   "execution_count": 27,
   "id": "84c687fc-5c28-45c3-9a37-72fbc731c703",
   "metadata": {},
   "outputs": [
    {
     "name": "stdout",
     "output_type": "stream",
     "text": [
      "LCTQFBVZV\n"
     ]
    }
   ],
   "source": [
    "part2(inputReal)"
   ]
  }
 ],
 "metadata": {
  "kernelspec": {
   "display_name": "Python 3 (ipykernel)",
   "language": "python",
   "name": "python3"
  },
  "language_info": {
   "codemirror_mode": {
    "name": "ipython",
    "version": 3
   },
   "file_extension": ".py",
   "mimetype": "text/x-python",
   "name": "python",
   "nbconvert_exporter": "python",
   "pygments_lexer": "ipython3",
   "version": "3.9.10"
  }
 },
 "nbformat": 4,
 "nbformat_minor": 5
}
