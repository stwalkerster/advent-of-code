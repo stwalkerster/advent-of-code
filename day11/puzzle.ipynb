{
 "cells": [
  {
   "cell_type": "code",
   "execution_count": 1,
   "id": "ffc3e0f3-6741-40a1-88bb-4fa7f275e6f5",
   "metadata": {},
   "outputs": [],
   "source": [
    "inputExample = open('example.txt', 'r').read().split('\\n\\n')\n",
    "inputReal = open('input.txt', 'r').read().split('\\n\\n')\n",
    "\n",
    "import re\n",
    "from math import floor, prod"
   ]
  },
  {
   "cell_type": "code",
   "execution_count": 2,
   "id": "7f9f5512-9c0c-49fe-80fc-74a65e60d1cc",
   "metadata": {},
   "outputs": [],
   "source": [
    "class Monkey:\n",
    "    def __init__(self, items, operation, test, true_action, false_action):\n",
    "        self.items = items\n",
    "        self.operation = operation\n",
    "        self.test = test\n",
    "        self.true_action = true_action\n",
    "        self.false_action = false_action\n",
    "        self.inspection_count = 0"
   ]
  },
  {
   "cell_type": "code",
   "execution_count": 3,
   "id": "4df1caa3",
   "metadata": {
    "collapsed": false
   },
   "outputs": [],
   "source": [
    "def parse(input):\n",
    "    monkeys = []\n",
    "\n",
    "    for m in input:\n",
    "        regex = r\"Monkey [0-9]:\\n  Starting items: (.+)\\n  Operation: new = (.*)\\n  Test: divisible by ([0-9]+)\\n    If true: throw to monkey ([0-9])\\n    If false: throw to monkey ([0-9])\"\n",
    "        match = re.match(regex, m)\n",
    "        monkeys.append(Monkey([int(x) for x in match.group(1).split(', ')], match.group(2), int(match.group(3)), int(match.group(4)), int(match.group(5))))\n",
    "\n",
    "    return monkeys"
   ]
  },
  {
   "cell_type": "code",
   "execution_count": 4,
   "id": "d7a0c563",
   "metadata": {
    "collapsed": false
   },
   "outputs": [],
   "source": [
    "def part1(input):\n",
    "    monkeys = parse(input)\n",
    "\n",
    "    for round in range(20):\n",
    "        for monkey in monkeys:\n",
    "            while len(monkey.items) > 0:\n",
    "                item = monkey.items.pop(0)\n",
    "\n",
    "                # inspect\n",
    "                old = item\n",
    "                item = eval(monkey.operation)\n",
    "\n",
    "                # increment inspection count\n",
    "                monkey.inspection_count += 1\n",
    "\n",
    "                # worry / 3\n",
    "                item = floor(item / 3)\n",
    "\n",
    "                # test\n",
    "                if item % monkey.test == 0:\n",
    "                    monkeys[monkey.true_action].items.append(item)\n",
    "                else:\n",
    "                    monkeys[monkey.false_action].items.append(item)\n",
    "\n",
    "        # for i in range(len(monkeys)):\n",
    "        #     print(\"Monkey\", i, monkeys[i].items)\n",
    "\n",
    "\n",
    "    for i in range(len(monkeys)):\n",
    "        print(\"Monkey\", i, monkeys[i].inspection_count)\n",
    "\n",
    "    counts = [x.inspection_count for x in monkeys]\n",
    "    counts.sort()\n",
    "    print(counts[-1] * counts[-2])"
   ]
  },
  {
   "cell_type": "code",
   "execution_count": 5,
   "id": "9df36d86-6b4d-4b7c-a9e6-bc604d4437bc",
   "metadata": {},
   "outputs": [
    {
     "name": "stdout",
     "output_type": "stream",
     "text": [
      "Monkey 0 101\n",
      "Monkey 1 95\n",
      "Monkey 2 7\n",
      "Monkey 3 105\n",
      "10605\n"
     ]
    }
   ],
   "source": [
    "part1(inputExample)"
   ]
  },
  {
   "cell_type": "code",
   "execution_count": 6,
   "id": "cbcf1e08-e193-4915-9aea-05c1c8b0eaf0",
   "metadata": {},
   "outputs": [
    {
     "name": "stdout",
     "output_type": "stream",
     "text": [
      "Monkey 0 348\n",
      "Monkey 1 22\n",
      "Monkey 2 9\n",
      "Monkey 3 330\n",
      "Monkey 4 347\n",
      "Monkey 5 335\n",
      "Monkey 6 336\n",
      "Monkey 7 45\n",
      "120756\n"
     ]
    }
   ],
   "source": [
    "part1(inputReal)"
   ]
  },
  {
   "cell_type": "code",
   "execution_count": 14,
   "id": "75aabef9-248a-4929-b0da-e76f69075794",
   "metadata": {},
   "outputs": [],
   "source": [
    "def part2(input):\n",
    "    monkeys = parse(input)\n",
    "\n",
    "    # lowest common multiple of all division values means that reducing worry by this much\n",
    "    # guarantees we don't change the result, even if it's not the most efficient.\n",
    "    # Since squaring doesn't change factors, we get away with this even for *that* monkey...\n",
    "    worry_divisor = prod([m.test for m in monkeys])\n",
    "\n",
    "    for round in range(10000):\n",
    "        for monkey in monkeys:\n",
    "            while len(monkey.items) > 0:\n",
    "                item = monkey.items.pop(0)\n",
    "\n",
    "                # inspect\n",
    "                old = item\n",
    "                item = eval(monkey.operation)\n",
    "\n",
    "                # increment inspection count\n",
    "                monkey.inspection_count += 1\n",
    "\n",
    "                # reduce worry by modulo\n",
    "                item = item % worry_divisor\n",
    "\n",
    "                # test\n",
    "                if item % monkey.test == 0:\n",
    "                    monkeys[monkey.true_action].items.append(item)\n",
    "                else:\n",
    "                    monkeys[monkey.false_action].items.append(item)\n",
    "\n",
    "        # for i in range(len(monkeys)):\n",
    "        #     print(\"Monkey\", i, monkeys[i].items)\n",
    "\n",
    "        # print(\"round\", round)\n",
    "\n",
    "    for i in range(len(monkeys)):\n",
    "        print(\"Monkey\", i, monkeys[i].inspection_count)\n",
    "\n",
    "    counts = [x.inspection_count for x in monkeys]\n",
    "    counts.sort()\n",
    "    print(counts[-1] * counts[-2])"
   ]
  },
  {
   "cell_type": "code",
   "execution_count": 12,
   "id": "191c45db-8104-4dea-82aa-0beeb3116fec",
   "metadata": {},
   "outputs": [
    {
     "name": "stdout",
     "output_type": "stream",
     "text": [
      "Monkey 0 52166\n",
      "Monkey 1 47830\n",
      "Monkey 2 1938\n",
      "Monkey 3 52013\n",
      "2713310158\n"
     ]
    }
   ],
   "source": [
    "part2(inputExample)"
   ]
  },
  {
   "cell_type": "code",
   "execution_count": 13,
   "id": "84c687fc-5c28-45c3-9a37-72fbc731c703",
   "metadata": {},
   "outputs": [
    {
     "name": "stdout",
     "output_type": "stream",
     "text": [
      "Monkey 0 192836\n",
      "Monkey 1 19711\n",
      "Monkey 2 18259\n",
      "Monkey 3 195229\n",
      "Monkey 4 126789\n",
      "Monkey 5 200326\n",
      "Monkey 6 183570\n",
      "Monkey 7 187056\n",
      "39109444654\n"
     ]
    }
   ],
   "source": [
    "part2(inputReal)"
   ]
  }
 ],
 "metadata": {
  "kernelspec": {
   "display_name": "Python 3 (ipykernel)",
   "language": "python",
   "name": "python3"
  },
  "language_info": {
   "codemirror_mode": {
    "name": "ipython",
    "version": 3
   },
   "file_extension": ".py",
   "mimetype": "text/x-python",
   "name": "python",
   "nbconvert_exporter": "python",
   "pygments_lexer": "ipython3",
   "version": "3.9.10"
  }
 },
 "nbformat": 4,
 "nbformat_minor": 5
}
