{
 "cells": [
  {
   "cell_type": "code",
   "execution_count": 39,
   "id": "ffc3e0f3-6741-40a1-88bb-4fa7f275e6f5",
   "metadata": {},
   "outputs": [],
   "source": [
    "inputExample = open('day11-example.txt', 'r').read().split('\\n')\n",
    "inputReal = open('day11.txt', 'r').read().split('\\n')"
   ]
  },
  {
   "cell_type": "code",
   "execution_count": 44,
   "id": "7f9f5512-9c0c-49fe-80fc-74a65e60d1cc",
   "metadata": {},
   "outputs": [],
   "source": [
    "OCCUPIED='#'\n",
    "EMPTY='L'\n",
    "FLOOR='.'\n",
    "\n",
    "def part1(input):\n",
    "    changed = True\n",
    "    result = input\n",
    "\n",
    "    while changed:\n",
    "        (changed, result) = apply(result)\n",
    "\n",
    "    #print('\\n'.join(result))\n",
    "    #print()\n",
    "    print(''.join(result).count('#'))"
   ]
  },
  {
   "cell_type": "code",
   "execution_count": 41,
   "id": "7aed7ee3",
   "metadata": {
    "collapsed": false
   },
   "outputs": [],
   "source": [
    "def apply(seatMap):\n",
    "    rows = len(seatMap)\n",
    "    cols = len(seatMap[0])\n",
    "    changed = False\n",
    "\n",
    "    seatMap = list(map(lambda i: list(i), seatMap))\n",
    "    newMap = list(map(lambda i: list(i), seatMap))\n",
    "\n",
    "    for x in range(rows):\n",
    "        for y in range(cols):\n",
    "            occupied = adjacentOccupied(seatMap, x, y, rows, cols)\n",
    "            if occupied == 0 and seatMap[x][y] == EMPTY:\n",
    "                newMap[x][y] = OCCUPIED\n",
    "                changed = True\n",
    "            elif occupied >= 4 and seatMap[x][y] == OCCUPIED:\n",
    "                newMap[x][y] = EMPTY\n",
    "                changed = True\n",
    "\n",
    "    return changed, list(map(lambda i: ''.join(i), newMap))\n"
   ]
  },
  {
   "cell_type": "code",
   "execution_count": 8,
   "id": "c2ad9ac1",
   "metadata": {
    "collapsed": false
   },
   "outputs": [],
   "source": [
    "def adjacentOccupied(seatMap, x, y, maxX, maxY):\n",
    "    count = 0\n",
    "    if (x-1) >= 0:\n",
    "        if (y-1) >= 0:\n",
    "            count += 1 if seatMap[x-1][y-1] == OCCUPIED else 0\n",
    "        count += 1 if seatMap[x-1][y] == OCCUPIED else 0\n",
    "        if (y+1) < maxY:\n",
    "            count += 1 if seatMap[x-1][y+1] == OCCUPIED else 0\n",
    "\n",
    "    if (y-1) >= 0:\n",
    "        count += 1 if seatMap[x][y-1] == OCCUPIED else 0\n",
    "    if (y+1) < maxY:\n",
    "        count += 1 if seatMap[x][y+1] == OCCUPIED else 0\n",
    "\n",
    "    if x+1 < maxX:\n",
    "        if (y-1) >= 0:\n",
    "            count += 1 if seatMap[x+1][y-1] == OCCUPIED else 0\n",
    "        count += 1 if seatMap[x+1][y] == OCCUPIED else 0\n",
    "        if (y+1) < maxY:\n",
    "            count += 1 if seatMap[x+1][y+1] == OCCUPIED else 0\n",
    "\n",
    "    return count"
   ]
  },
  {
   "cell_type": "code",
   "execution_count": 45,
   "id": "9df36d86-6b4d-4b7c-a9e6-bc604d4437bc",
   "metadata": {},
   "outputs": [
    {
     "name": "stdout",
     "output_type": "stream",
     "text": [
      "37\n"
     ]
    }
   ],
   "source": [
    "part1(inputExample)"
   ]
  },
  {
   "cell_type": "code",
   "execution_count": 46,
   "id": "cbcf1e08-e193-4915-9aea-05c1c8b0eaf0",
   "metadata": {},
   "outputs": [
    {
     "name": "stdout",
     "output_type": "stream",
     "text": [
      "2441\n"
     ]
    }
   ],
   "source": [
    "part1(inputReal)"
   ]
  },
  {
   "cell_type": "code",
   "execution_count": 55,
   "id": "09e1cc63",
   "metadata": {
    "collapsed": false
   },
   "outputs": [],
   "source": [
    "def adjacentOccupiedPart2(seatMap, x, y, maxX, maxY):\n",
    "    return [\n",
    "        findNextSeat(seatMap, x, y, maxX, maxY, -1, -1),\n",
    "        findNextSeat(seatMap, x, y, maxX, maxY, -1, 0),\n",
    "        findNextSeat(seatMap, x, y, maxX, maxY, -1, 1),\n",
    "        findNextSeat(seatMap, x, y, maxX, maxY, 0, -1),\n",
    "        findNextSeat(seatMap, x, y, maxX, maxY, 0, 1),\n",
    "        findNextSeat(seatMap, x, y, maxX, maxY, 1, -1),\n",
    "        findNextSeat(seatMap, x, y, maxX, maxY, 1, 0),\n",
    "        findNextSeat(seatMap, x, y, maxX, maxY, 1, 1)\n",
    "    ].count(OCCUPIED)"
   ]
  },
  {
   "cell_type": "code",
   "execution_count": 51,
   "id": "b90ee8d3",
   "metadata": {
    "collapsed": false
   },
   "outputs": [],
   "source": [
    "def findNextSeat(seatMap, x, y, maxX, maxY, dX, dY):\n",
    "    while True:\n",
    "        x += dX\n",
    "        y += dY\n",
    "\n",
    "        if x < 0 or x >= maxX or y < 0 or y >= maxY:\n",
    "            # fail, outside map bounds\n",
    "            return EMPTY\n",
    "\n",
    "        if seatMap[x][y] == FLOOR:\n",
    "            continue\n",
    "\n",
    "        return seatMap[x][y]"
   ]
  },
  {
   "cell_type": "code",
   "execution_count": 47,
   "id": "e4f67b75",
   "metadata": {
    "collapsed": false
   },
   "outputs": [],
   "source": [
    "def applyPart2(seatMap):\n",
    "    rows = len(seatMap)\n",
    "    cols = len(seatMap[0])\n",
    "    changed = False\n",
    "\n",
    "    seatMap = list(map(lambda i: list(i), seatMap))\n",
    "    newMap = list(map(lambda i: list(i), seatMap))\n",
    "\n",
    "    for x in range(rows):\n",
    "        for y in range(cols):\n",
    "            occupied = adjacentOccupiedPart2(seatMap, x, y, rows, cols)\n",
    "            if occupied == 0 and seatMap[x][y] == EMPTY:\n",
    "                newMap[x][y] = OCCUPIED\n",
    "                changed = True\n",
    "            elif occupied >= 5 and seatMap[x][y] == OCCUPIED:\n",
    "                newMap[x][y] = EMPTY\n",
    "                changed = True\n",
    "\n",
    "    return changed, list(map(lambda i: ''.join(i), newMap))\n"
   ]
  },
  {
   "cell_type": "code",
   "execution_count": 62,
   "id": "ebc340c5",
   "metadata": {
    "collapsed": false
   },
   "outputs": [],
   "source": [
    "def part2(input):\n",
    "    changed = True\n",
    "    result = input\n",
    "\n",
    "    while changed:\n",
    "        (changed, result) = applyPart2(result)\n",
    "\n",
    "    print(''.join(result).count('#'))"
   ]
  },
  {
   "cell_type": "code",
   "execution_count": 63,
   "id": "191c45db-8104-4dea-82aa-0beeb3116fec",
   "metadata": {},
   "outputs": [
    {
     "name": "stdout",
     "output_type": "stream",
     "text": [
      "26\n"
     ]
    }
   ],
   "source": [
    "part2(inputExample)"
   ]
  },
  {
   "cell_type": "code",
   "execution_count": 64,
   "id": "84c687fc-5c28-45c3-9a37-72fbc731c703",
   "metadata": {},
   "outputs": [
    {
     "name": "stdout",
     "output_type": "stream",
     "text": [
      "2190\n"
     ]
    }
   ],
   "source": [
    "part2(inputReal)"
   ]
  }
 ],
 "metadata": {
  "kernelspec": {
   "display_name": "Python 3 (ipykernel)",
   "language": "python",
   "name": "python3"
  },
  "language_info": {
   "codemirror_mode": {
    "name": "ipython",
    "version": 3
   },
   "file_extension": ".py",
   "mimetype": "text/x-python",
   "name": "python",
   "nbconvert_exporter": "python",
   "pygments_lexer": "ipython3",
   "version": "3.9.10"
  }
 },
 "nbformat": 4,
 "nbformat_minor": 5
}
