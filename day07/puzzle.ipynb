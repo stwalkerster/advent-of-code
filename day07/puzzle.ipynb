{
 "cells": [
  {
   "cell_type": "code",
   "execution_count": 45,
   "id": "ffc3e0f3-6741-40a1-88bb-4fa7f275e6f5",
   "metadata": {},
   "outputs": [],
   "source": [
    "inputExample = open('example.txt', 'r').read().split('\\n$ ')\n",
    "inputReal = open('input.txt', 'r').read().split('\\n$ ')"
   ]
  },
  {
   "cell_type": "code",
   "execution_count": 85,
   "id": "7f9f5512-9c0c-49fe-80fc-74a65e60d1cc",
   "metadata": {},
   "outputs": [],
   "source": [
    "def part1(input):\n",
    "    (fs, dirs) = create_fs(input)\n",
    "                \n",
    "    print(sum([d.get_size() for d in dirs if d.get_size() <= 100000]))\n",
    "    \n",
    "    pass"
   ]
  },
  {
   "cell_type": "code",
   "execution_count": 81,
   "id": "0280607d-5373-475f-b771-8f07fa2b31d3",
   "metadata": {},
   "outputs": [],
   "source": [
    "def create_fs(input):\n",
    "    fs = Directory('/', '/')\n",
    "    cwd = fs\n",
    "    \n",
    "    dirs = [fs]\n",
    "    \n",
    "    for cmd in input[1:]:\n",
    "        lines = cmd.split('\\n')\n",
    "        argv = lines[0].split(' ')\n",
    "        \n",
    "        if argv[0] == 'cd':\n",
    "            if argv[1] == '..':\n",
    "                cwd = cwd.parent\n",
    "            else:\n",
    "                cwd = [d for d in cwd.children if d.name == argv[1]].pop()\n",
    "        elif argv[0] == 'ls':\n",
    "            for fs_entry in lines[1:]:\n",
    "                if fs_entry == '':\n",
    "                    continue\n",
    "                    \n",
    "                (st, name) = fs_entry.split(' ')\n",
    "                \n",
    "                if st == 'dir':\n",
    "                    entry = Directory(name, cwd)\n",
    "                    dirs.append(entry)\n",
    "                else:\n",
    "                    entry = File(name, int(st))\n",
    "                \n",
    "                cwd.children.append(entry)\n",
    "            \n",
    "        else:\n",
    "            raise Exception(argv[0] + ': command not found')\n",
    "            \n",
    "    return fs, dirs"
   ]
  },
  {
   "cell_type": "code",
   "execution_count": 72,
   "id": "e6751319-5097-43ff-ad7b-bbe31fc0499d",
   "metadata": {},
   "outputs": [],
   "source": [
    "class Directory:\n",
    "    def __init__(self, name: str, parent: \"__class__\"):\n",
    "        self.name = name\n",
    "        self.parent = parent\n",
    "        self.children = []\n",
    "        \n",
    "    def get_size(self):\n",
    "        total = 0\n",
    "        \n",
    "        for c in self.children:\n",
    "            total += c.get_size()\n",
    "        return total"
   ]
  },
  {
   "cell_type": "code",
   "execution_count": 73,
   "id": "a4dc8122-d64b-45b8-a2ab-8136b40f552f",
   "metadata": {},
   "outputs": [],
   "source": [
    "class File:\n",
    "    def __init__(self, name: str, size: int):\n",
    "        self.name = name\n",
    "        self.size = size\n",
    "    \n",
    "    def get_size(self):\n",
    "        return self.size"
   ]
  },
  {
   "cell_type": "code",
   "execution_count": 57,
   "id": "3bc53be0-10de-45d2-ae87-59437895fbe9",
   "metadata": {},
   "outputs": [],
   "source": [
    "def print_dir(dir: Directory, indent: int):\n",
    "    print((' ' * indent) + '-', dir.name, '(dir)')\n",
    "    \n",
    "    for c in dir.children:\n",
    "        if type(c ) is Directory:\n",
    "            print_dir(c, indent + 2)\n",
    "        else:\n",
    "            print((' ' * (indent + 2)) + '-', c.name, '(file, size=' + str(c.size) + ')')"
   ]
  },
  {
   "cell_type": "code",
   "execution_count": 83,
   "id": "9df36d86-6b4d-4b7c-a9e6-bc604d4437bc",
   "metadata": {},
   "outputs": [
    {
     "name": "stdout",
     "output_type": "stream",
     "text": [
      "95437\n"
     ]
    }
   ],
   "source": [
    "part1(inputExample)"
   ]
  },
  {
   "cell_type": "code",
   "execution_count": 84,
   "id": "cbcf1e08-e193-4915-9aea-05c1c8b0eaf0",
   "metadata": {},
   "outputs": [
    {
     "name": "stdout",
     "output_type": "stream",
     "text": [
      "1182909\n"
     ]
    }
   ],
   "source": [
    "part1(inputReal)"
   ]
  },
  {
   "cell_type": "code",
   "execution_count": 91,
   "id": "75aabef9-248a-4929-b0da-e76f69075794",
   "metadata": {},
   "outputs": [],
   "source": [
    "def part2(input):\n",
    "    (fs, dirs) = create_fs(input)\n",
    "    \n",
    "    fs_capacity = 70000000\n",
    "    update_space_reqd = 30000000\n",
    "    \n",
    "    fs_free = fs_capacity - fs.get_size()\n",
    "    update_space_reqd = update_space_reqd - fs_free\n",
    "        \n",
    "    print(min([d.get_size() for d in dirs if d.get_size() >= update_space_reqd]))\n"
   ]
  },
  {
   "cell_type": "code",
   "execution_count": 92,
   "id": "191c45db-8104-4dea-82aa-0beeb3116fec",
   "metadata": {},
   "outputs": [
    {
     "name": "stdout",
     "output_type": "stream",
     "text": [
      "24933642\n"
     ]
    }
   ],
   "source": [
    "part2(inputExample)"
   ]
  },
  {
   "cell_type": "code",
   "execution_count": 93,
   "id": "84c687fc-5c28-45c3-9a37-72fbc731c703",
   "metadata": {},
   "outputs": [
    {
     "name": "stdout",
     "output_type": "stream",
     "text": [
      "2832508\n"
     ]
    }
   ],
   "source": [
    "part2(inputReal)"
   ]
  }
 ],
 "metadata": {
  "kernelspec": {
   "display_name": "Python 3 (ipykernel)",
   "language": "python",
   "name": "python3"
  },
  "language_info": {
   "codemirror_mode": {
    "name": "ipython",
    "version": 3
   },
   "file_extension": ".py",
   "mimetype": "text/x-python",
   "name": "python",
   "nbconvert_exporter": "python",
   "pygments_lexer": "ipython3",
   "version": "3.9.10"
  }
 },
 "nbformat": 4,
 "nbformat_minor": 5
}
