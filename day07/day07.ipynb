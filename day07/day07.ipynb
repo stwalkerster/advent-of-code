{
 "cells": [
  {
   "cell_type": "code",
   "execution_count": 77,
   "id": "ffc3e0f3-6741-40a1-88bb-4fa7f275e6f5",
   "metadata": {},
   "outputs": [],
   "source": [
    "inputExample = open('day07-example2.txt', 'r').read().split('\\n')\n",
    "inputReal = open('day07.txt', 'r').read().split('\\n')"
   ]
  },
  {
   "cell_type": "code",
   "execution_count": 2,
   "id": "7f9f5512-9c0c-49fe-80fc-74a65e60d1cc",
   "metadata": {},
   "outputs": [],
   "source": [
    "import re\n",
    "\n",
    "def parse(input):\n",
    "    bagData = {}\n",
    "    \n",
    "    for line in input:\n",
    "        m = re.match('^([^ ]+ [^ ]+) bags contain (.*)\\.', line)\n",
    "        #print(line)\n",
    "        bagType = m.groups()[0]\n",
    "        bagRawContents = m.groups()[1]\n",
    "\n",
    "        bagContents = {}\n",
    "        if bagRawContents == \"no other bags\":\n",
    "            pass\n",
    "        else:\n",
    "            childBags = bagRawContents.split(', ')\n",
    "            for bag in childBags:\n",
    "                m = re.match('^([0-9]+) ([^ ]+ [^ ]+) bag', bag)\n",
    "                bagContents.update({m.groups()[1] : m.groups()[0]})\n",
    "        bagData.update({bagType: bagContents})\n",
    "    return bagData"
   ]
  },
  {
   "cell_type": "code",
   "execution_count": 37,
   "id": "416e9530-cf04-4e12-b31b-ce6bfa66034c",
   "metadata": {},
   "outputs": [],
   "source": [
    "def part1(input):\n",
    "    bagData = parse(input)\n",
    "    \n",
    "    containers = []\n",
    "    potentialContainers = []\n",
    "    \n",
    "    \n",
    "    for b in bagData:\n",
    "        if 'shiny gold' in list(bagData[b].keys()):\n",
    "            containers.append(b)\n",
    "    \n",
    "    print('preloop', containers)\n",
    "    \n",
    "    modified = True\n",
    "    while modified:\n",
    "        modified = False\n",
    "      #  print('loopstart')\n",
    "        for bag in bagData:\n",
    "            potentialContainers = []    \n",
    "            \n",
    "            # print(':: bag', bag)\n",
    "            containedBags = list(bagData[bag].keys())\n",
    "            \n",
    "            # loop over all bags which we know to contain the target bag\n",
    "            for knownContainingBag in containers:\n",
    "                # print(' :: :: testing container', knownContainingBag)\n",
    "                # if a bag known to contain the target bag `knownContainingBag` is in this bag's contained bags, then add the bag to the potential containers list\n",
    "                if knownContainingBag in containedBags and bag not in containers:\n",
    "                    potentialContainers.append(bag)     \n",
    "                   # print(':: :: match! adding bag', bag, 'which contains', knownContainingBag)\n",
    "                    modified = True\n",
    "                    break\n",
    "            \n",
    "            if len(potentialContainers) > 0:\n",
    "                containers = containers + potentialContainers\n",
    "                \n",
    "            \n",
    "    print('result', set(containers))\n",
    "    print(len(set(containers)))"
   ]
  },
  {
   "cell_type": "code",
   "execution_count": 38,
   "id": "9df36d86-6b4d-4b7c-a9e6-bc604d4437bc",
   "metadata": {},
   "outputs": [
    {
     "name": "stdout",
     "output_type": "stream",
     "text": [
      "preloop ['bright white', 'muted yellow']\n",
      "result {'bright white', 'light red', 'dark orange', 'muted yellow'}\n",
      "4\n"
     ]
    }
   ],
   "source": [
    "part1(inputExample)"
   ]
  },
  {
   "cell_type": "code",
   "execution_count": 39,
   "id": "cbcf1e08-e193-4915-9aea-05c1c8b0eaf0",
   "metadata": {},
   "outputs": [
    {
     "name": "stdout",
     "output_type": "stream",
     "text": [
      "preloop ['wavy crimson', 'dim lime', 'drab plum', 'dull orange', 'faded lavender', 'mirrored silver', 'bright bronze', 'drab green']\n",
      "result {'muted plum', 'light magenta', 'striped turquoise', 'dotted silver', 'shiny orange', 'light green', 'wavy tomato', 'dark fuchsia', 'wavy chartreuse', 'dull blue', 'striped blue', 'striped plum', 'plaid magenta', 'dotted bronze', 'faded lime', 'dotted crimson', 'dark aqua', 'light black', 'muted red', 'dotted maroon', 'dark black', 'striped violet', 'shiny black', 'bright beige', 'dim purple', 'bright aqua', 'mirrored coral', 'striped yellow', 'dotted chartreuse', 'dotted aqua', 'clear olive', 'posh turquoise', 'drab silver', 'pale red', 'wavy orange', 'wavy salmon', 'dim silver', 'dim red', 'bright black', 'shiny teal', 'dull crimson', 'muted salmon', 'plaid turquoise', 'mirrored chartreuse', 'light chartreuse', 'dim indigo', 'clear gold', 'shiny maroon', 'dim turquoise', 'posh purple', 'wavy brown', 'wavy white', 'muted aqua', 'dim orange', 'vibrant turquoise', 'light gold', 'clear gray', 'clear crimson', 'faded maroon', 'dim teal', 'clear plum', 'mirrored purple', 'muted brown', 'mirrored blue', 'dim maroon', 'drab gray', 'bright fuchsia', 'dull fuchsia', 'faded black', 'plaid orange', 'light gray', 'mirrored green', 'pale cyan', 'faded lavender', 'drab plum', 'dim white', 'pale orange', 'drab violet', 'faded silver', 'muted beige', 'vibrant teal', 'pale tomato', 'dim olive', 'posh tomato', 'pale gray', 'dark lavender', 'drab turquoise', 'pale bronze', 'pale maroon', 'dotted tomato', 'posh blue', 'clear teal', 'posh teal', 'light lavender', 'faded teal', 'drab green', 'wavy maroon', 'posh orange', 'plaid crimson', 'faded white', 'striped white', 'clear magenta', 'muted gold', 'plaid olive', 'clear white', 'plaid violet', 'muted silver', 'bright purple', 'bright turquoise', 'bright indigo', 'mirrored orange', 'striped purple', 'shiny chartreuse', 'dull indigo', 'posh gold', 'dotted fuchsia', 'wavy magenta', 'dotted beige', 'vibrant coral', 'dark salmon', 'dotted black', 'vibrant green', 'wavy coral', 'mirrored maroon', 'mirrored lime', 'dim brown', 'mirrored aqua', 'muted green', 'clear lavender', 'plaid indigo', 'wavy fuchsia', 'posh bronze', 'dotted coral', 'light bronze', 'dark yellow', 'vibrant violet', 'wavy tan', 'vibrant beige', 'clear cyan', 'drab coral', 'pale magenta', 'vibrant blue', 'dull turquoise', 'light white', 'bright green', 'shiny coral', 'muted fuchsia', 'dotted brown', 'dark red', 'vibrant lavender', 'dull gold', 'dotted magenta', 'muted crimson', 'muted orange', 'clear salmon', 'striped lime', 'striped aqua', 'pale white', 'posh maroon', 'light olive', 'pale teal', 'striped beige', 'posh olive', 'dull coral', 'dotted salmon', 'vibrant chartreuse', 'clear blue', 'dark teal', 'dull red', 'shiny magenta', 'vibrant olive', 'wavy gray', 'striped red', 'striped crimson', 'muted gray', 'pale fuchsia', 'bright bronze', 'dull yellow', 'dim black', 'mirrored silver', 'striped chartreuse', 'bright teal', 'dull chartreuse', 'posh fuchsia', 'posh beige', 'mirrored brown', 'drab crimson', 'vibrant black', 'light blue', 'shiny olive', 'dark beige', 'striped bronze', 'shiny gray', 'posh cyan', 'plaid plum', 'faded tan', 'plaid coral', 'muted violet', 'light coral', 'pale beige', 'dim violet', 'plaid cyan', 'wavy silver', 'faded orange', 'dark indigo', 'clear maroon', 'clear beige', 'light brown', 'drab yellow', 'light aqua', 'wavy purple', 'drab tan', 'bright olive', 'pale lime', 'dim cyan', 'shiny violet', 'vibrant tomato', 'mirrored turquoise', 'posh indigo', 'mirrored plum', 'dim green', 'dark purple', 'dark coral', 'mirrored tomato', 'pale plum', 'muted turquoise', 'light indigo', 'dim tan', 'mirrored cyan', 'vibrant bronze', 'dull orange', 'dim yellow', 'bright red', 'faded aqua', 'muted olive', 'muted purple', 'vibrant tan', 'faded purple', 'shiny fuchsia', 'wavy crimson', 'bright tan', 'dim lime', 'pale lavender', 'dark olive', 'faded plum', 'drab beige', 'dull maroon', 'posh magenta', 'light silver', 'light purple', 'faded bronze', 'bright coral', 'light turquoise', 'mirrored yellow', 'faded gold', 'posh red', 'muted lavender', 'vibrant cyan', 'mirrored fuchsia', 'faded blue', 'shiny brown', 'striped coral', 'shiny tomato', 'drab aqua', 'dull tomato', 'posh lavender', 'vibrant magenta', 'dotted green', 'mirrored gold', 'mirrored lavender', 'pale aqua', 'drab lime', 'bright lime', 'dull black', 'muted chartreuse', 'muted blue', 'posh crimson', 'dark maroon', 'dotted olive', 'mirrored teal', 'faded brown', 'dull purple', 'drab indigo', 'clear chartreuse', 'faded olive', 'dull teal', 'plaid blue'}\n",
      "287\n"
     ]
    }
   ],
   "source": [
    "part1(inputReal)"
   ]
  },
  {
   "cell_type": "code",
   "execution_count": 51,
   "id": "75aabef9-248a-4929-b0da-e76f69075794",
   "metadata": {},
   "outputs": [],
   "source": [
    "def part2(input):\n",
    "    bagData = parse(input)\n",
    "    \n",
    "    print('', 1, 'shiny gold')\n",
    "    print(totalBagsInside('shiny gold', bagData, 1))\n",
    "\n",
    "    pass"
   ]
  },
  {
   "cell_type": "code",
   "execution_count": 80,
   "id": "ba8d736d-a3af-45fd-8077-485f37e1467a",
   "metadata": {},
   "outputs": [],
   "source": [
    "def totalBagsInside(bag, bagData, level):\n",
    "    total = 0\n",
    "    \n",
    "    for childBag in bagData[bag].keys():\n",
    "        print(' |' * level, bagData[bag][childBag], childBag)\n",
    "        subtotal = totalBagsInside(childBag, bagData, level+1) * int(bagData[bag][childBag])\n",
    "        total += int(subtotal)\n",
    "        total += int(bagData[bag][childBag])\n",
    "\n",
    "    return total"
   ]
  },
  {
   "cell_type": "code",
   "execution_count": 81,
   "id": "191c45db-8104-4dea-82aa-0beeb3116fec",
   "metadata": {},
   "outputs": [
    {
     "name": "stdout",
     "output_type": "stream",
     "text": [
      " 1 shiny gold\n",
      " | 2 dark red\n",
      " | | 2 dark orange\n",
      " | | | 2 dark yellow\n",
      " | | | | 2 dark green\n",
      " | | | | | 2 dark blue\n",
      " | | | | | | 2 dark violet\n",
      "126\n"
     ]
    }
   ],
   "source": [
    "part2(inputExample)"
   ]
  },
  {
   "cell_type": "code",
   "execution_count": 82,
   "id": "84c687fc-5c28-45c3-9a37-72fbc731c703",
   "metadata": {},
   "outputs": [
    {
     "name": "stdout",
     "output_type": "stream",
     "text": [
      " 1 shiny gold\n",
      " | 1 plaid tan\n",
      " | 3 light beige\n",
      " | | 5 clear purple\n",
      " | | | 4 muted bronze\n",
      " | | | | 4 dotted blue\n",
      " | | | | | 3 clear turquoise\n",
      " | | | | | | 4 pale black\n",
      " | | | | | | 5 plaid purple\n",
      " | | | | | | 4 bright gold\n",
      " | | | | | 2 shiny silver\n",
      " | | | | 3 pale purple\n",
      " | | | | 5 drab magenta\n",
      " | | | 3 shiny silver\n",
      " | | | 4 pale salmon\n",
      " | | | | 3 vibrant orange\n",
      " | | | | | 3 plaid tan\n",
      " | | | | | 4 dotted blue\n",
      " | | | | | | 3 clear turquoise\n",
      " | | | | | | | 4 pale black\n",
      " | | | | | | | 5 plaid purple\n",
      " | | | | | | | 4 bright gold\n",
      " | | | | | | 2 shiny silver\n",
      " | | | | | 3 bright gold\n",
      " | | | | | 3 bright white\n",
      " | | | | | | 1 pale black\n",
      " | | | 3 plaid fuchsia\n",
      " | | 2 plaid teal\n",
      " | 1 posh brown\n",
      " | | 5 plaid fuchsia\n",
      " | | 1 clear turquoise\n",
      " | | | 4 pale black\n",
      " | | | 5 plaid purple\n",
      " | | | 4 bright gold\n",
      " | | 5 drab white\n",
      " | | | 5 plaid teal\n",
      " | | | 3 shiny silver\n",
      " | | | 3 wavy plum\n",
      " | | | | 1 plaid tan\n",
      " | | | | 3 pale black\n",
      " | | | | 2 wavy lime\n",
      " | | | | | 3 pale purple\n",
      " | | | | | 5 plaid teal\n",
      " | | | | | 5 bright gold\n",
      " | | | | | 3 clear turquoise\n",
      " | | | | | | 4 pale black\n",
      " | | | | | | 5 plaid purple\n",
      " | | | | | | 4 bright gold\n",
      " | | | | 5 pale purple\n",
      " | | | 1 bright white\n",
      " | | | | 1 pale black\n",
      "48160\n"
     ]
    }
   ],
   "source": [
    "part2(inputReal)"
   ]
  }
 ],
 "metadata": {
  "kernelspec": {
   "display_name": "Python 3 (ipykernel)",
   "language": "python",
   "name": "python3"
  },
  "language_info": {
   "codemirror_mode": {
    "name": "ipython",
    "version": 3
   },
   "file_extension": ".py",
   "mimetype": "text/x-python",
   "name": "python",
   "nbconvert_exporter": "python",
   "pygments_lexer": "ipython3",
   "version": "3.9.10"
  }
 },
 "nbformat": 4,
 "nbformat_minor": 5
}
