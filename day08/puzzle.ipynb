{
 "cells": [
  {
   "cell_type": "code",
   "execution_count": 1,
   "id": "ffc3e0f3-6741-40a1-88bb-4fa7f275e6f5",
   "metadata": {},
   "outputs": [],
   "source": [
    "inputExample = open('example.txt', 'r').read().split('\\n')\n",
    "inputReal = open('input.txt', 'r').read().split('\\n')"
   ]
  },
  {
   "cell_type": "code",
   "execution_count": 88,
   "id": "7f9f5512-9c0c-49fe-80fc-74a65e60d1cc",
   "metadata": {},
   "outputs": [],
   "source": [
    "def part1(input):\n",
    "    grid = []\n",
    "    visible = []\n",
    "    for x in input:\n",
    "        if x == '':\n",
    "            continue\n",
    "            \n",
    "        grid.append([int(i) for i in list(x)])\n",
    "        visible.append([False for i in list(x)])\n",
    "        \n",
    "    # print_grid(grid, visible)\n",
    "\n",
    "    for y in range(len(grid)):\n",
    "        for x in range(len(grid[0])):\n",
    "            # from top\n",
    "            top = [grid[dy][x] for dy in range(0, y)]\n",
    "            if grid[y][x] > max(top, default=-1):\n",
    "                visible[y][x] = True\n",
    "                # print(x, y, '=', grid[y][x], \"from top\", top)\n",
    "                continue\n",
    "                \n",
    "            # from bottom\n",
    "            bottom = [grid[dy][x] for dy in range(y+1, len(grid))]\n",
    "            if grid[y][x] > max(bottom, default=-1):\n",
    "                visible[y][x] = True\n",
    "                # print(x, y, '=', grid[y][x], \"from bottom\", bottom)\n",
    "                continue\n",
    "            \n",
    "            # from left\n",
    "            left = [grid[y][dx] for dx in range(0, x)]\n",
    "            if grid[y][x] > max(left, default=-1):\n",
    "                visible[y][x] = True\n",
    "                # print(x, y, '=', grid[y][x], \"from left\", left)\n",
    "                continue\n",
    "            \n",
    "            right = [grid[y][dx] for dx in range(x+1, len(grid[0]))]\n",
    "            if grid[y][x] > max(right, default=-1):\n",
    "                visible[y][x] = True\n",
    "                # print(x, y, '=', grid[y][x],\"from right\",right)\n",
    "                continue\n",
    "\n",
    "    # print_grid(grid, visible)\n",
    "    \n",
    "    print((\"\".join([\"\".join(['X' if x else '.' for x in y]) for y in visible])).count('X'))\n",
    "    \n",
    "    \n",
    "    pass"
   ]
  },
  {
   "cell_type": "code",
   "execution_count": 2,
   "id": "577c0e36",
   "metadata": {},
   "outputs": [],
   "source": [
    "def print_grid(grid, visible):\n",
    "    print()\n",
    "    print('grid')\n",
    "    for y in range(len(grid)):\n",
    "        print(\"\".join([str(s) for s in grid[y]]))\n",
    "    print('visible')\n",
    "    for y in range(len(visible)):\n",
    "        print(\"\".join(['X' if y else '.' for y in visible[y]]))\n",
    "    "
   ]
  },
  {
   "cell_type": "code",
   "execution_count": 89,
   "id": "9df36d86-6b4d-4b7c-a9e6-bc604d4437bc",
   "metadata": {},
   "outputs": [
    {
     "name": "stdout",
     "output_type": "stream",
     "text": [
      "21\n"
     ]
    }
   ],
   "source": [
    "part1(inputExample)"
   ]
  },
  {
   "cell_type": "code",
   "execution_count": 90,
   "id": "cbcf1e08-e193-4915-9aea-05c1c8b0eaf0",
   "metadata": {},
   "outputs": [
    {
     "name": "stdout",
     "output_type": "stream",
     "text": [
      "1763\n"
     ]
    }
   ],
   "source": [
    "part1(inputReal)"
   ]
  },
  {
   "cell_type": "code",
   "execution_count": 26,
   "id": "75aabef9-248a-4929-b0da-e76f69075794",
   "metadata": {},
   "outputs": [],
   "source": [
    "def part2(input):\n",
    "    grid = []\n",
    "    score = [ ]\n",
    "    for x in input:\n",
    "        if x == '':\n",
    "            continue\n",
    "            \n",
    "        grid.append([int(i) for i in list(x)])\n",
    "        score.append([0 for i in list(x)])\n",
    "\n",
    "    max_score = 0\n",
    "    \n",
    "    #for y in range(len(grid)):\n",
    "    #    print(\"\".join([str(s) for s in grid[y]]))\n",
    "        \n",
    "    for y in range(len(grid)):\n",
    "        for x in range(len(grid[0])):\n",
    "            #print(x, y, \"value\", grid[y][x])\n",
    "            top = [grid[dy][x] for dy in range(0, y)]\n",
    "            top.reverse()\n",
    "            bottom = [grid[dy][x] for dy in range(y+1, len(grid))]\n",
    "            left = [grid[y][dx] for dx in range(0, x)]\n",
    "            right = [grid[y][dx] for dx in range(x+1, len(grid[0]))]\n",
    "            left.reverse()\n",
    "            \n",
    "            total_score = 1\n",
    "            \n",
    "            \n",
    "            \n",
    "            #print(top, right, bottom, left)\n",
    "\n",
    "            total_score = total_score * find_distance(grid[y][x], top)\n",
    "            total_score = total_score * find_distance(grid[y][x], right)\n",
    "            total_score = total_score * find_distance(grid[y][x], bottom)\n",
    "            total_score = total_score * find_distance(grid[y][x], left)\n",
    "\n",
    "            #print(\"total\", total_score)\n",
    "            score[y][x] = total_score\n",
    "            if max_score < total_score:\n",
    "                max_score = total_score\n",
    "            #print()\n",
    "            \n",
    "    \n",
    "    #for y in range(len(score)):\n",
    "    #    print(\"\".join([str(s) for s in score[y]]))\n",
    "\n",
    "    print(max_score)\n",
    "\n",
    "def find_distance(tree, visible):\n",
    "    if(len(visible) == 0):\n",
    "        #print(\"distance 0\")\n",
    "        return 0\n",
    "    \n",
    "    for i in range(len(visible)):\n",
    "        if tree <= visible[i]:\n",
    "            #print(\"distance\", i+1)\n",
    "            return i+1\n",
    "    #print(\"distance max\")\n",
    "    return len(visible)\n"
   ]
  },
  {
   "cell_type": "code",
   "execution_count": 27,
   "id": "191c45db-8104-4dea-82aa-0beeb3116fec",
   "metadata": {},
   "outputs": [
    {
     "name": "stdout",
     "output_type": "stream",
     "text": [
      "8\n"
     ]
    }
   ],
   "source": [
    "part2(inputExample)"
   ]
  },
  {
   "cell_type": "code",
   "execution_count": 28,
   "id": "84c687fc-5c28-45c3-9a37-72fbc731c703",
   "metadata": {},
   "outputs": [
    {
     "name": "stdout",
     "output_type": "stream",
     "text": [
      "671160\n"
     ]
    }
   ],
   "source": [
    "part2(inputReal)"
   ]
  }
 ],
 "metadata": {
  "kernelspec": {
   "display_name": "Python 3 (ipykernel)",
   "language": "python",
   "name": "python3"
  },
  "language_info": {
   "codemirror_mode": {
    "name": "ipython",
    "version": 3
   },
   "file_extension": ".py",
   "mimetype": "text/x-python",
   "name": "python",
   "nbconvert_exporter": "python",
   "pygments_lexer": "ipython3",
   "version": "3.10.7"
  }
 },
 "nbformat": 4,
 "nbformat_minor": 5
}
