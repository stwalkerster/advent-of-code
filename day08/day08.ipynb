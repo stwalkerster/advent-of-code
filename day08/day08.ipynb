{
 "cells": [
  {
   "cell_type": "code",
   "execution_count": 1,
   "id": "ffc3e0f3-6741-40a1-88bb-4fa7f275e6f5",
   "metadata": {},
   "outputs": [],
   "source": [
    "inputExample = open('day08-example.txt', 'r').read().split('\\n')\n",
    "inputReal = open('day08.txt', 'r').read().split('\\n')"
   ]
  },
  {
   "cell_type": "code",
   "execution_count": 6,
   "id": "b29c7eb0-803b-4fe6-9567-03278d371eb7",
   "metadata": {},
   "outputs": [],
   "source": [
    "def parse(line):\n",
    "    parts = line.split(' ')\n",
    "    return (parts[0], int(parts[1]))"
   ]
  },
  {
   "cell_type": "code",
   "execution_count": 43,
   "id": "e4295bed-a9cf-4302-b4f5-f394e39d2a9b",
   "metadata": {},
   "outputs": [],
   "source": [
    "def execProg(input):\n",
    "    executedLines = []\n",
    "    accumulator = 0\n",
    "    programCounter = 0\n",
    "    dupeHit = False\n",
    "    error = False\n",
    "    \n",
    "    while not dupeHit:\n",
    "        if programCounter >= len(input):\n",
    "            break;\n",
    "        \n",
    "        if programCounter in executedLines:\n",
    "            error = True\n",
    "            break;\n",
    "            \n",
    "        executedLines.append(programCounter)\n",
    "        \n",
    "        (cmd, arg) = parse(input[programCounter])\n",
    "        \n",
    "        if cmd == 'nop':\n",
    "            programCounter += 1\n",
    "        elif cmd == 'acc':\n",
    "            accumulator += arg\n",
    "            programCounter += 1\n",
    "        elif cmd == 'jmp':\n",
    "            programCounter += arg\n",
    "        \n",
    "    return (programCounter, error, executedLines, accumulator)"
   ]
  },
  {
   "cell_type": "code",
   "execution_count": 44,
   "id": "90c3aebd-a901-476a-9331-bb726d0c4d59",
   "metadata": {},
   "outputs": [],
   "source": [
    "def part1(input):\n",
    "    (programCounter, error, executedLines, accumulator) = execProg(input)\n",
    "    \n",
    "    if error:\n",
    "        print(\"Hit duplicate\")\n",
    "    else:\n",
    "        print(\"End of program\")\n",
    "       \n",
    "        \n",
    "    print('ACC', accumulator)\n",
    "    print('PC', programCounter)\n",
    "    print('Exec', executedLines)"
   ]
  },
  {
   "cell_type": "code",
   "execution_count": 45,
   "id": "9df36d86-6b4d-4b7c-a9e6-bc604d4437bc",
   "metadata": {},
   "outputs": [
    {
     "name": "stdout",
     "output_type": "stream",
     "text": [
      "Hit duplicate\n",
      "ACC 5\n",
      "PC 1\n",
      "Exec [0, 1, 2, 6, 7, 3, 4]\n"
     ]
    }
   ],
   "source": [
    "part1(inputExample)"
   ]
  },
  {
   "cell_type": "code",
   "execution_count": 46,
   "id": "cbcf1e08-e193-4915-9aea-05c1c8b0eaf0",
   "metadata": {},
   "outputs": [
    {
     "name": "stdout",
     "output_type": "stream",
     "text": [
      "Hit duplicate\n",
      "ACC 1753\n",
      "PC 238\n",
      "Exec [0, 1, 2, 3, 295, 296, 297, 298, 299, 91, 92, 238, 239, 240, 66, 67, 68, 69, 70, 449, 450, 451, 452, 568, 303, 304, 305, 306, 307, 602, 28, 84, 191, 192, 193, 194, 195, 278, 279, 280, 281, 345, 346, 232, 16, 17, 18, 180, 286, 287, 288, 289, 520, 618, 619, 157, 158, 159, 269, 270, 271, 272, 533, 534, 535, 96, 578, 579, 580, 581, 205, 206, 54, 55, 539, 540, 541, 542, 470, 22, 23, 408, 409, 622, 623, 185, 186, 187, 188, 251, 252, 253, 254, 104, 105, 106, 107, 108, 265, 266, 267, 612, 123, 124, 125, 126, 127, 208, 209, 210, 211, 212, 114, 333, 334, 335, 336, 441, 442, 402, 403, 404, 405, 406, 140, 141, 142, 143, 144, 445, 446, 447, 370, 371, 359, 118, 119, 397, 398, 224, 225, 226, 227, 40, 41, 42, 597, 598, 599, 341, 342, 60, 318, 319, 320, 321, 322, 547, 548, 549, 550, 245, 246, 247, 248, 571, 572, 573, 511, 512, 513, 514, 515, 32, 33, 256, 257, 454, 455, 381, 382, 383, 384, 606, 607, 608, 609, 150, 151, 484, 485, 486, 487, 488, 490, 491, 492]\n"
     ]
    }
   ],
   "source": [
    "part1(inputReal)"
   ]
  },
  {
   "cell_type": "code",
   "execution_count": 55,
   "id": "75aabef9-248a-4929-b0da-e76f69075794",
   "metadata": {},
   "outputs": [],
   "source": [
    "def part2(input):\n",
    "    (_, _, executedLines, _) = execProg(input)\n",
    "    \n",
    "    requdPcValue = len(input)\n",
    "    print(\"End of program at\", requdPcValue)\n",
    "        \n",
    "    for i in executedLines:\n",
    "        newProgram = input.copy()\n",
    "        \n",
    "        (cmd, arg) = parse(input[i])\n",
    "       \n",
    "        if cmd == \"acc\":\n",
    "            continue;\n",
    "        \n",
    "        if cmd == \"nop\":\n",
    "            newcmd = \"jmp\"\n",
    "        elif cmd == \"jmp\":\n",
    "            newcmd = \"nop\"\n",
    "            \n",
    "        newProgram[i] = newcmd + \" \" + str(arg)\n",
    "        \n",
    "        (_, error, _, acc) = execProg(newProgram)\n",
    "        if not error:\n",
    "            print(\"changed\", input[i], \"to\", newProgram[i])\n",
    "            print(\"no error, acc:\", acc)\n",
    "    pass"
   ]
  },
  {
   "cell_type": "code",
   "execution_count": 56,
   "id": "191c45db-8104-4dea-82aa-0beeb3116fec",
   "metadata": {},
   "outputs": [
    {
     "name": "stdout",
     "output_type": "stream",
     "text": [
      "End of program at 9\n",
      "changed jmp -4 to nop -4\n",
      "no error, acc: 8\n"
     ]
    }
   ],
   "source": [
    "part2(inputExample)"
   ]
  },
  {
   "cell_type": "code",
   "execution_count": 57,
   "id": "84c687fc-5c28-45c3-9a37-72fbc731c703",
   "metadata": {},
   "outputs": [
    {
     "name": "stdout",
     "output_type": "stream",
     "text": [
      "End of program at 641\n",
      "changed jmp +106 to nop 106\n",
      "no error, acc: 733\n"
     ]
    }
   ],
   "source": [
    "part2(inputReal)"
   ]
  }
 ],
 "metadata": {
  "kernelspec": {
   "display_name": "Python 3 (ipykernel)",
   "language": "python",
   "name": "python3"
  },
  "language_info": {
   "codemirror_mode": {
    "name": "ipython",
    "version": 3
   },
   "file_extension": ".py",
   "mimetype": "text/x-python",
   "name": "python",
   "nbconvert_exporter": "python",
   "pygments_lexer": "ipython3",
   "version": "3.9.10"
  }
 },
 "nbformat": 4,
 "nbformat_minor": 5
}
