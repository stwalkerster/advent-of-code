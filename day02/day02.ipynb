{
 "cells": [
  {
   "cell_type": "code",
   "execution_count": 1,
   "id": "ffc3e0f3-6741-40a1-88bb-4fa7f275e6f5",
   "metadata": {},
   "outputs": [],
   "source": [
    "inputExample = [\n",
    "    '1-3 a: abcde',\n",
    "    '1-3 b: cdefg',\n",
    "    '2-9 c: ccccccccc'\n",
    "]\n",
    "inputReal = open('day02.txt', 'r').read().split('\\n')"
   ]
  },
  {
   "cell_type": "code",
   "execution_count": 2,
   "id": "5145b1ab-2f63-494a-ac90-fbaed708fbb5",
   "metadata": {},
   "outputs": [],
   "source": [
    "import re\n",
    "\n",
    "def parse(line):\n",
    "    m = re.match('^([0-9]+)-([0-9]+) ([a-z]): ([a-z]+)', line)\n",
    "    return m.groups()"
   ]
  },
  {
   "cell_type": "code",
   "execution_count": 3,
   "id": "7f9f5512-9c0c-49fe-80fc-74a65e60d1cc",
   "metadata": {},
   "outputs": [],
   "source": [
    "def part1(input):\n",
    "    valid = 0\n",
    "    \n",
    "    for p in input:\n",
    "        (charmin, charmax, char, pw) = parse(p)\n",
    "        \n",
    "        instances = pw.count(char)\n",
    "        if int(charmin) <= instances and instances <= int(charmax):\n",
    "            valid += 1\n",
    "    \n",
    "    print(valid)"
   ]
  },
  {
   "cell_type": "code",
   "execution_count": 4,
   "id": "9df36d86-6b4d-4b7c-a9e6-bc604d4437bc",
   "metadata": {},
   "outputs": [
    {
     "name": "stdout",
     "output_type": "stream",
     "text": [
      "2\n"
     ]
    }
   ],
   "source": [
    "part1(inputExample)"
   ]
  },
  {
   "cell_type": "code",
   "execution_count": 5,
   "id": "cbcf1e08-e193-4915-9aea-05c1c8b0eaf0",
   "metadata": {},
   "outputs": [
    {
     "name": "stdout",
     "output_type": "stream",
     "text": [
      "465\n"
     ]
    }
   ],
   "source": [
    "part1(inputReal)"
   ]
  },
  {
   "cell_type": "code",
   "execution_count": 21,
   "id": "75aabef9-248a-4929-b0da-e76f69075794",
   "metadata": {},
   "outputs": [],
   "source": [
    "def part2(input):\n",
    "    valid = 0\n",
    "    \n",
    "    for p in input:\n",
    "        (char1, char2, char, pw) = parse(p)\n",
    "        \n",
    "        if pw[int(char1)-1] == char and ( int(char2)-1 ) > len(pw):\n",
    "            valid += 1\n",
    "        elif pw[int(char1)-1] == char and pw[int(char2)-1] != char:\n",
    "            valid += 1\n",
    "        elif pw[int(char1)-1] != char and pw[int(char2)-1] == char:\n",
    "            valid += 1\n",
    "    print(valid)\n",
    "        "
   ]
  },
  {
   "cell_type": "code",
   "execution_count": 23,
   "id": "191c45db-8104-4dea-82aa-0beeb3116fec",
   "metadata": {},
   "outputs": [
    {
     "name": "stdout",
     "output_type": "stream",
     "text": [
      "1\n"
     ]
    }
   ],
   "source": [
    "part2(inputExample)"
   ]
  },
  {
   "cell_type": "code",
   "execution_count": 22,
   "id": "84c687fc-5c28-45c3-9a37-72fbc731c703",
   "metadata": {},
   "outputs": [
    {
     "name": "stdout",
     "output_type": "stream",
     "text": [
      "294\n"
     ]
    }
   ],
   "source": [
    "part2(inputReal)"
   ]
  }
 ],
 "metadata": {
  "kernelspec": {
   "display_name": "Python 3 (ipykernel)",
   "language": "python",
   "name": "python3"
  },
  "language_info": {
   "codemirror_mode": {
    "name": "ipython",
    "version": 3
   },
   "file_extension": ".py",
   "mimetype": "text/x-python",
   "name": "python",
   "nbconvert_exporter": "python",
   "pygments_lexer": "ipython3",
   "version": "3.9.10"
  }
 },
 "nbformat": 4,
 "nbformat_minor": 5
}
