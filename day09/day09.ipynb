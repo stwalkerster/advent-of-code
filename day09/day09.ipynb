{
 "cells": [
  {
   "cell_type": "code",
   "execution_count": 5,
   "id": "ffc3e0f3-6741-40a1-88bb-4fa7f275e6f5",
   "metadata": {},
   "outputs": [],
   "source": [
    "inputExample = open('day09-example.txt', 'r').read().split('\\n')\n",
    "inputReal = open('day09.txt', 'r').read().split('\\n')"
   ]
  },
  {
   "cell_type": "code",
   "execution_count": 13,
   "id": "da7b7405-a3a4-408a-9eac-c8a4a7fb1639",
   "metadata": {},
   "outputs": [],
   "source": [
    "def findTarget(input, target):\n",
    "    i = 0\n",
    "    while i < (len(input)-1):\n",
    "        j = i + 1\n",
    "\n",
    "        while j < len(input):\n",
    "            if input[i]+input[j] == target:\n",
    "                return True\n",
    "            j += 1\n",
    "        i += 1\n",
    "        \n",
    "    return False"
   ]
  },
  {
   "cell_type": "code",
   "execution_count": 22,
   "id": "a9e245a2-7e99-47e4-8cd6-563555fd709d",
   "metadata": {},
   "outputs": [],
   "source": [
    "def findInvalid(parsedInput, preambleLength):\n",
    "    position = preambleLength\n",
    "    while(position < len(parsedInput)):\n",
    "        target = parsedInput[position]\n",
    "        availableItems = parsedInput[position - preambleLength:position:1]\n",
    "        if not findTarget(availableItems, target):\n",
    "            return target        \n",
    "        \n",
    "        position +=1\n",
    "    \n",
    "    return False"
   ]
  },
  {
   "cell_type": "code",
   "execution_count": 34,
   "id": "7f9f5512-9c0c-49fe-80fc-74a65e60d1cc",
   "metadata": {},
   "outputs": [],
   "source": [
    "def part1(input, preambleLength):\n",
    "    parsedInput = list(map(lambda x: int(x), input))\n",
    "    invalid = findInvalid(parsedInput, preambleLength)\n",
    "    print(\"target\", invalid, \"not reached.\")\n"
   ]
  },
  {
   "cell_type": "code",
   "execution_count": 35,
   "id": "9df36d86-6b4d-4b7c-a9e6-bc604d4437bc",
   "metadata": {},
   "outputs": [
    {
     "name": "stdout",
     "output_type": "stream",
     "text": [
      "target 127 not reached.\n"
     ]
    }
   ],
   "source": [
    "part1(inputExample, 5)"
   ]
  },
  {
   "cell_type": "code",
   "execution_count": 36,
   "id": "cbcf1e08-e193-4915-9aea-05c1c8b0eaf0",
   "metadata": {},
   "outputs": [
    {
     "name": "stdout",
     "output_type": "stream",
     "text": [
      "target 15353384 not reached.\n"
     ]
    }
   ],
   "source": [
    "part1(inputReal, 25)"
   ]
  },
  {
   "cell_type": "code",
   "execution_count": 43,
   "id": "75aabef9-248a-4929-b0da-e76f69075794",
   "metadata": {},
   "outputs": [],
   "source": [
    "import sys\n",
    "\n",
    "def part2(input, preambleLength):\n",
    "    parsedInput = list(map(lambda x: int(x), input))\n",
    "    invalid = findInvalid(parsedInput, preambleLength)\n",
    "    \n",
    "    for i in range(len(parsedInput)-1):\n",
    "        total = 0\n",
    "        j = i\n",
    "        minNum = sys.maxsize\n",
    "        maxNum = 0\n",
    "        while total < invalid:\n",
    "            total += parsedInput[j]\n",
    "            minNum = min(minNum, parsedInput[j])\n",
    "            maxNum = max(maxNum, parsedInput[j])\n",
    "            j+=1\n",
    "            \n",
    "        if total == invalid:\n",
    "            print(minNum, maxNum, minNum + maxNum)\n",
    "            break;"
   ]
  },
  {
   "cell_type": "code",
   "execution_count": 44,
   "id": "191c45db-8104-4dea-82aa-0beeb3116fec",
   "metadata": {},
   "outputs": [
    {
     "name": "stdout",
     "output_type": "stream",
     "text": [
      "15 47 62\n"
     ]
    }
   ],
   "source": [
    "part2(inputExample, 5)"
   ]
  },
  {
   "cell_type": "code",
   "execution_count": 45,
   "id": "84c687fc-5c28-45c3-9a37-72fbc731c703",
   "metadata": {},
   "outputs": [
    {
     "name": "stdout",
     "output_type": "stream",
     "text": [
      "578925 1887631 2466556\n"
     ]
    }
   ],
   "source": [
    "part2(inputReal, 25)"
   ]
  }
 ],
 "metadata": {
  "kernelspec": {
   "display_name": "Python 3 (ipykernel)",
   "language": "python",
   "name": "python3"
  },
  "language_info": {
   "codemirror_mode": {
    "name": "ipython",
    "version": 3
   },
   "file_extension": ".py",
   "mimetype": "text/x-python",
   "name": "python",
   "nbconvert_exporter": "python",
   "pygments_lexer": "ipython3",
   "version": "3.9.10"
  }
 },
 "nbformat": 4,
 "nbformat_minor": 5
}
