{
 "cells": [
  {
   "cell_type": "code",
   "execution_count": 9,
   "id": "ffc3e0f3-6741-40a1-88bb-4fa7f275e6f5",
   "metadata": {},
   "outputs": [],
   "source": [
    "inputExample = open('example.txt', 'r').read().split('\\n')\n",
    "inputReal = open('input.txt', 'r').read().split('\\n')"
   ]
  },
  {
   "cell_type": "code",
   "execution_count": 41,
   "id": "7f9f5512-9c0c-49fe-80fc-74a65e60d1cc",
   "metadata": {},
   "outputs": [],
   "source": [
    "def part1(input):\n",
    "    tail = [0, 0]\n",
    "    head = [0, 0]\n",
    "    \n",
    "    directions = {\n",
    "        'U': [0, -1],\n",
    "        'D': [0, 1],\n",
    "        'L': [-1, 0],\n",
    "        'R': [1, 0]\n",
    "    }\n",
    "    \n",
    "    visited_positions = [[0, 0]]\n",
    "    \n",
    "    for line in input:\n",
    "        if line == \"\":\n",
    "            continue\n",
    "            \n",
    "        (cmd, steps) = line.split(' ')\n",
    "        \n",
    "        for step in range(int(steps)):\n",
    "            # apply step\n",
    "            #print(\"moving head\", cmd, \"from\", head, \"to\", \"\", end=\"\")\n",
    "            head = [sum(x) for x in zip(head, directions[cmd])]\n",
    "            #print(head)\n",
    "            \n",
    "            tail = calc_tail(head, tail)\n",
    "            \n",
    "            if tail not in visited_positions:\n",
    "                visited_positions.append(tail)\n",
    "    \n",
    "    print(len(visited_positions))\n",
    "        "
   ]
  },
  {
   "cell_type": "code",
   "execution_count": 40,
   "id": "65ca1efc",
   "metadata": {},
   "outputs": [],
   "source": [
    "def calc_tail(head, tail):\n",
    "    # first, does tail need to move?\n",
    "    deltas = [x[0] - x[1] for x in zip(head, tail)]\n",
    "    if max([abs(t) for t in deltas]) <= 1:\n",
    "        #print('  not moving tail from', tail, \"deltas\", deltas)\n",
    "        # no\n",
    "        return tail\n",
    "    \n",
    "    elif (deltas[0] == 0 and deltas[1] != 0):\n",
    "        # dy\n",
    "        if deltas[1] > 0:\n",
    "            new_tail = [tail[0], tail[1] + 1]\n",
    "        else:\n",
    "            new_tail = [tail[0], tail[1] - 1]\n",
    "\n",
    "        #print('  moving tail from', tail, \"to\", new_tail)\n",
    "        return new_tail\n",
    "    elif (deltas[0] != 0 and deltas[1] == 0):\n",
    "        # dx\n",
    "        \n",
    "        if deltas[0] > 0:\n",
    "            new_tail = [tail[0] + 1, tail[1]]\n",
    "        else:\n",
    "            new_tail = [tail[0] - 1, tail[1]]\n",
    "\n",
    "        #print('  moving tail from', tail, \"to\", new_tail)\n",
    "        return new_tail\n",
    "    else:\n",
    "\n",
    "        \n",
    "        if deltas[0] > 0:\n",
    "            new_x = tail[0] + 1\n",
    "        else:\n",
    "            new_x = tail[0] - 1\n",
    "            \n",
    "            \n",
    "        if deltas[1] > 0:\n",
    "            new_y = tail[1] + 1\n",
    "        else:\n",
    "            new_y = tail[1] - 1\n",
    "        \n",
    "        new_tail = [new_x, new_y]\n",
    "        \n",
    "        #print('  moving tail from', tail, \"to\", new_tail, \"deltas\", deltas)\n",
    "        return new_tail\n"
   ]
  },
  {
   "cell_type": "code",
   "execution_count": 42,
   "id": "9df36d86-6b4d-4b7c-a9e6-bc604d4437bc",
   "metadata": {},
   "outputs": [
    {
     "name": "stdout",
     "output_type": "stream",
     "text": [
      "13\n"
     ]
    }
   ],
   "source": [
    "part1(inputExample)"
   ]
  },
  {
   "cell_type": "code",
   "execution_count": 43,
   "id": "cbcf1e08-e193-4915-9aea-05c1c8b0eaf0",
   "metadata": {},
   "outputs": [
    {
     "name": "stdout",
     "output_type": "stream",
     "text": [
      "6339\n"
     ]
    }
   ],
   "source": [
    "part1(inputReal)"
   ]
  },
  {
   "cell_type": "code",
   "execution_count": 47,
   "id": "75aabef9-248a-4929-b0da-e76f69075794",
   "metadata": {},
   "outputs": [],
   "source": [
    "def part2(input):\n",
    "    rope = [[0, 0] for i in range(10)]\n",
    "    \n",
    "    directions = {\n",
    "        'U': [0, -1],\n",
    "        'D': [0, 1],\n",
    "        'L': [-1, 0],\n",
    "        'R': [1, 0]\n",
    "    }\n",
    "    \n",
    "    visited_positions = [[0, 0]]\n",
    "    \n",
    "    for line in input:\n",
    "        if line == \"\":\n",
    "            continue\n",
    "            \n",
    "        (cmd, steps) = line.split(' ')\n",
    "        \n",
    "        for step in range(int(steps)):\n",
    "            # apply step\n",
    "            #print(\"moving head\", cmd, \"from\", head, \"to\", \"\", end=\"\")\n",
    "            rope[0] = [sum(x) for x in zip(rope[0], directions[cmd])]\n",
    "            #print(head)\n",
    "            \n",
    "            for i in range(1,10):\n",
    "                rope[i] = calc_tail(rope[i-1], rope[i])\n",
    "            \n",
    "            if rope[9] not in visited_positions:\n",
    "                visited_positions.append(rope[9])\n",
    "    \n",
    "    print(len(visited_positions))\n"
   ]
  },
  {
   "cell_type": "code",
   "execution_count": 48,
   "id": "191c45db-8104-4dea-82aa-0beeb3116fec",
   "metadata": {},
   "outputs": [
    {
     "name": "stdout",
     "output_type": "stream",
     "text": [
      "1\n"
     ]
    }
   ],
   "source": [
    "part2(inputExample)"
   ]
  },
  {
   "cell_type": "code",
   "execution_count": 49,
   "id": "84c687fc-5c28-45c3-9a37-72fbc731c703",
   "metadata": {},
   "outputs": [
    {
     "name": "stdout",
     "output_type": "stream",
     "text": [
      "2541\n"
     ]
    }
   ],
   "source": [
    "part2(inputReal)"
   ]
  }
 ],
 "metadata": {
  "kernelspec": {
   "display_name": "Python 3 (ipykernel)",
   "language": "python",
   "name": "python3"
  },
  "language_info": {
   "codemirror_mode": {
    "name": "ipython",
    "version": 3
   },
   "file_extension": ".py",
   "mimetype": "text/x-python",
   "name": "python",
   "nbconvert_exporter": "python",
   "pygments_lexer": "ipython3",
   "version": "3.10.7"
  }
 },
 "nbformat": 4,
 "nbformat_minor": 5
}
