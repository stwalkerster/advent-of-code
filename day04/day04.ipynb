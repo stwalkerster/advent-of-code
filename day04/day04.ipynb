{
 "cells": [
  {
   "cell_type": "code",
   "execution_count": 6,
   "id": "ffc3e0f3-6741-40a1-88bb-4fa7f275e6f5",
   "metadata": {},
   "outputs": [],
   "source": [
    "inputExample = open('day04-example.txt', 'r').read().split('\\n\\n')\n",
    "inputReal = open('day04.txt', 'r').read().split('\\n\\n')"
   ]
  },
  {
   "cell_type": "code",
   "execution_count": 7,
   "id": "800156e7-a9de-4ded-80da-1b1712cf9246",
   "metadata": {},
   "outputs": [],
   "source": [
    "def parse(input):\n",
    "    items = []\n",
    "    for p in input:\n",
    "        entries = re.split(' |\\n', p)\n",
    "        passport = {}\n",
    "        for i in entries:\n",
    "            kvp = i.split(':')\n",
    "            passport.update({kvp[0]:kvp[1]})\n",
    "        \n",
    "        items.append(passport)\n",
    "    return items;"
   ]
  },
  {
   "cell_type": "code",
   "execution_count": 8,
   "id": "7f9f5512-9c0c-49fe-80fc-74a65e60d1cc",
   "metadata": {},
   "outputs": [],
   "source": [
    "import re\n",
    "\n",
    "def part1(input):\n",
    "    items = parse(input)\n",
    "    valid = 0\n",
    "    \n",
    "    for p in items:\n",
    "        keys = list(p.keys())\n",
    "        \n",
    "        if len(keys) == 8 :\n",
    "            valid += 1\n",
    "        elif len(keys) == 7 and 'cid' not in keys:\n",
    "            valid += 1\n",
    "            \n",
    "    print(valid)"
   ]
  },
  {
   "cell_type": "code",
   "execution_count": 9,
   "id": "9df36d86-6b4d-4b7c-a9e6-bc604d4437bc",
   "metadata": {},
   "outputs": [
    {
     "name": "stdout",
     "output_type": "stream",
     "text": [
      "2\n"
     ]
    }
   ],
   "source": [
    "part1(inputExample)"
   ]
  },
  {
   "cell_type": "code",
   "execution_count": 10,
   "id": "cbcf1e08-e193-4915-9aea-05c1c8b0eaf0",
   "metadata": {},
   "outputs": [
    {
     "name": "stdout",
     "output_type": "stream",
     "text": [
      "196\n"
     ]
    }
   ],
   "source": [
    "part1(inputReal)"
   ]
  },
  {
   "cell_type": "code",
   "execution_count": 20,
   "id": "75aabef9-248a-4929-b0da-e76f69075794",
   "metadata": {},
   "outputs": [],
   "source": [
    "def part2(input):\n",
    "    items = parse(input)\n",
    "    valid = 0\n",
    "    \n",
    "    for p in items:\n",
    "        keys = list(p.keys())\n",
    "        \n",
    "        if 'byr' not in keys:\n",
    "            continue\n",
    "        else:\n",
    "            if int(p['byr']) < 1920 or int(p['byr']) > 2002:\n",
    "                continue\n",
    "        \n",
    "        if 'iyr' not in keys:\n",
    "            continue\n",
    "        else:\n",
    "            if int(p['iyr']) < 2010 or int(p['iyr']) > 2020:\n",
    "                continue\n",
    "        \n",
    "        if 'eyr' not in keys:\n",
    "            continue\n",
    "        else:\n",
    "            if int(p['eyr']) < 2020 or int(p['eyr']) > 2030:\n",
    "                continue\n",
    "        \n",
    "        if 'hgt' not in keys:\n",
    "            continue\n",
    "        else:\n",
    "            height = int(p['hgt'][:-2])\n",
    "            if p['hgt'][-2:] == \"in\":\n",
    "                if height < 59 or height > 76:\n",
    "                    continue\n",
    "            elif p['hgt'][-2:] == \"cm\":\n",
    "                if height < 150 or height > 193:\n",
    "                    continue\n",
    "            else:\n",
    "                continue        \n",
    "        \n",
    "        if 'hcl' not in keys:\n",
    "            continue\n",
    "        else:\n",
    "            if not re.search('^#[0-9a-f]{6}$', p['hcl']):\n",
    "                continue\n",
    "        \n",
    "        \n",
    "        if 'ecl' not in keys:\n",
    "            continue\n",
    "        else:\n",
    "            if p['ecl'] not in ['amb','blu','brn','gry','grn','hzl','oth']:\n",
    "                continue\n",
    "        \n",
    "        if 'pid' not in keys:\n",
    "            continue\n",
    "        else:\n",
    "            if not re.search('^[0-9]{9}$', p['pid']):\n",
    "                continue\n",
    "        \n",
    "        \n",
    "        valid += 1\n",
    "    print(valid)"
   ]
  },
  {
   "cell_type": "code",
   "execution_count": 21,
   "id": "191c45db-8104-4dea-82aa-0beeb3116fec",
   "metadata": {},
   "outputs": [
    {
     "name": "stdout",
     "output_type": "stream",
     "text": [
      "2\n"
     ]
    }
   ],
   "source": [
    "part2(inputExample)"
   ]
  },
  {
   "cell_type": "code",
   "execution_count": 22,
   "id": "84c687fc-5c28-45c3-9a37-72fbc731c703",
   "metadata": {},
   "outputs": [
    {
     "name": "stdout",
     "output_type": "stream",
     "text": [
      "114\n"
     ]
    }
   ],
   "source": [
    "part2(inputReal)"
   ]
  }
 ],
 "metadata": {
  "kernelspec": {
   "display_name": "Python 3 (ipykernel)",
   "language": "python",
   "name": "python3"
  },
  "language_info": {
   "codemirror_mode": {
    "name": "ipython",
    "version": 3
   },
   "file_extension": ".py",
   "mimetype": "text/x-python",
   "name": "python",
   "nbconvert_exporter": "python",
   "pygments_lexer": "ipython3",
   "version": "3.9.10"
  }
 },
 "nbformat": 4,
 "nbformat_minor": 5
}
