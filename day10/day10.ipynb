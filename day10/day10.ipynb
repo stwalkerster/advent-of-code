{
 "cells": [
  {
   "cell_type": "code",
   "execution_count": 60,
   "id": "ffc3e0f3-6741-40a1-88bb-4fa7f275e6f5",
   "metadata": {},
   "outputs": [],
   "source": [
    "inputExample = open('day10-example1.txt', 'r').read().split('\\n')\n",
    "inputExample = open('day10-example2.txt', 'r').read().split('\\n')\n",
    "inputReal = open('day10.txt', 'r').read().split('\\n')"
   ]
  },
  {
   "cell_type": "code",
   "execution_count": 2,
   "id": "7f9f5512-9c0c-49fe-80fc-74a65e60d1cc",
   "metadata": {},
   "outputs": [],
   "source": [
    "def part1(input):\n",
    "    sortedList = list(map(lambda x: int(x), input))\n",
    "    sortedList.sort()\n",
    "    \n",
    "    # index3 is default 1 because we exclude the device's adaptor from the list. We ignore the value of index0 because it's easier.\n",
    "    joltages = [0, 0, 0, 1]\n",
    "    currentJoltage = 0\n",
    "    \n",
    "    for adaptor in sortedList:\n",
    "        diff = adaptor - currentJoltage\n",
    "        currentJoltage = adaptor\n",
    "        joltages[diff] += 1\n",
    "        #print(\"Using adaptor\", adaptor, \"diff\", diff)\n",
    "    \n",
    "    print(currentJoltage)\n",
    "    print(joltages)\n",
    "    print(joltages[1]*joltages[3])\n",
    "        \n",
    "    "
   ]
  },
  {
   "cell_type": "code",
   "execution_count": 3,
   "id": "9df36d86-6b4d-4b7c-a9e6-bc604d4437bc",
   "metadata": {},
   "outputs": [
    {
     "name": "stdout",
     "output_type": "stream",
     "text": [
      "49\n",
      "[0, 22, 0, 10]\n",
      "220\n"
     ]
    }
   ],
   "source": [
    "part1(inputExample)"
   ]
  },
  {
   "cell_type": "code",
   "execution_count": 4,
   "id": "cbcf1e08-e193-4915-9aea-05c1c8b0eaf0",
   "metadata": {},
   "outputs": [
    {
     "name": "stdout",
     "output_type": "stream",
     "text": [
      "173\n",
      "[0, 74, 0, 34]\n",
      "2516\n"
     ]
    }
   ],
   "source": [
    "part1(inputReal)"
   ]
  },
  {
   "cell_type": "code",
   "execution_count": 64,
   "id": "75aabef9-248a-4929-b0da-e76f69075794",
   "metadata": {},
   "outputs": [],
   "source": [
    "from functools import reduce\n",
    "\n",
    "def part2(input):\n",
    "    sortedList = list(map(lambda x: int(x), input))\n",
    "    sortedList.sort()\n",
    "    \n",
    "    print(sortedList)\n",
    "    \n",
    "    sections = []\n",
    "    last = 0\n",
    "    i = 1\n",
    "    while i < len(sortedList):\n",
    "        if sortedList[i] - sortedList[i-1] == 3:\n",
    "            sections.append(sortedList[last:i])\n",
    "            last = i\n",
    "            \n",
    "        i += 1\n",
    "    sections.append(sortedList[last:len(sortedList)])\n",
    "    \n",
    "    values = []\n",
    "    current = 0\n",
    "    for s in sections:\n",
    "        result = countPermutations(s, current, s[-1], [])\n",
    "        print(\"###\", \"section\", s, \"current\", current, \"target\", s[-1], \"=\", result)\n",
    "        values.append(result)\n",
    "        current = s[-1]\n",
    "    \n",
    "    print(reduce((lambda x,y: x*y), values))\n",
    "    \n",
    "    # print(countPermutations(sortedList, 0, target, []))"
   ]
  },
  {
   "cell_type": "code",
   "execution_count": 62,
   "id": "fa9dd4f5-f22d-4527-a496-c3cf92d452b8",
   "metadata": {},
   "outputs": [],
   "source": [
    "def countPermutations(adaptorList, currentJoltage, target, path):\n",
    "    nextAdaptors = [x for x in adaptorList if x >= currentJoltage and x < (currentJoltage + 4)]\n",
    "    \n",
    "    total = 0\n",
    "    \n",
    "    if currentJoltage == target:\n",
    "        # print(path)\n",
    "        return 1;\n",
    "    \n",
    "    for adaptor in nextAdaptors:\n",
    "        newList = [x for x in adaptorList if x > adaptor]\n",
    "        newPath = path.copy()\n",
    "        newPath.append(adaptor)\n",
    "        # print(adaptor, newList)\n",
    "        total += countPermutations(newList, adaptor, target, newPath)\n",
    "        \n",
    "    return total;"
   ]
  },
  {
   "cell_type": "code",
   "execution_count": 65,
   "id": "191c45db-8104-4dea-82aa-0beeb3116fec",
   "metadata": {},
   "outputs": [
    {
     "name": "stdout",
     "output_type": "stream",
     "text": [
      "[1, 2, 3, 4, 7, 8, 9, 10, 11, 14, 17, 18, 19, 20, 23, 24, 25, 28, 31, 32, 33, 34, 35, 38, 39, 42, 45, 46, 47, 48, 49]\n",
      "### section [1, 2, 3, 4] current 0 target 4 = 7\n",
      "### section [7, 8, 9, 10, 11] current 4 target 11 = 7\n",
      "### section [14] current 11 target 14 = 1\n",
      "### section [17, 18, 19, 20] current 14 target 20 = 4\n",
      "### section [23, 24, 25] current 20 target 25 = 2\n",
      "### section [28] current 25 target 28 = 1\n",
      "### section [31, 32, 33, 34, 35] current 28 target 35 = 7\n",
      "### section [38, 39] current 35 target 39 = 1\n",
      "### section [42] current 39 target 42 = 1\n",
      "### section [45, 46, 47, 48, 49] current 42 target 49 = 7\n",
      "19208\n"
     ]
    }
   ],
   "source": [
    "part2(inputExample)"
   ]
  },
  {
   "cell_type": "code",
   "execution_count": 66,
   "id": "84c687fc-5c28-45c3-9a37-72fbc731c703",
   "metadata": {},
   "outputs": [
    {
     "name": "stdout",
     "output_type": "stream",
     "text": [
      "[1, 2, 3, 6, 9, 10, 13, 14, 15, 18, 21, 22, 23, 26, 27, 28, 31, 32, 33, 36, 37, 38, 39, 40, 43, 46, 47, 48, 49, 52, 53, 54, 55, 56, 59, 62, 65, 66, 67, 68, 71, 72, 73, 76, 77, 78, 79, 80, 83, 86, 87, 88, 89, 92, 93, 94, 95, 96, 99, 100, 101, 102, 103, 106, 107, 108, 109, 110, 113, 116, 117, 118, 119, 122, 123, 124, 125, 128, 131, 132, 133, 134, 135, 138, 141, 144, 145, 146, 147, 148, 151, 152, 153, 154, 157, 158, 159, 160, 161, 164, 165, 166, 169, 170, 171, 172, 173]\n",
      "### section [1, 2, 3] current 0 target 3 = 4\n",
      "### section [6] current 3 target 6 = 1\n",
      "### section [9, 10] current 6 target 10 = 1\n",
      "### section [13, 14, 15] current 10 target 15 = 2\n",
      "### section [18] current 15 target 18 = 1\n",
      "### section [21, 22, 23] current 18 target 23 = 2\n",
      "### section [26, 27, 28] current 23 target 28 = 2\n",
      "### section [31, 32, 33] current 28 target 33 = 2\n",
      "### section [36, 37, 38, 39, 40] current 33 target 40 = 7\n",
      "### section [43] current 40 target 43 = 1\n",
      "### section [46, 47, 48, 49] current 43 target 49 = 4\n",
      "### section [52, 53, 54, 55, 56] current 49 target 56 = 7\n",
      "### section [59] current 56 target 59 = 1\n",
      "### section [62] current 59 target 62 = 1\n",
      "### section [65, 66, 67, 68] current 62 target 68 = 4\n",
      "### section [71, 72, 73] current 68 target 73 = 2\n",
      "### section [76, 77, 78, 79, 80] current 73 target 80 = 7\n",
      "### section [83] current 80 target 83 = 1\n",
      "### section [86, 87, 88, 89] current 83 target 89 = 4\n",
      "### section [92, 93, 94, 95, 96] current 89 target 96 = 7\n",
      "### section [99, 100, 101, 102, 103] current 96 target 103 = 7\n",
      "### section [106, 107, 108, 109, 110] current 103 target 110 = 7\n",
      "### section [113] current 110 target 113 = 1\n",
      "### section [116, 117, 118, 119] current 113 target 119 = 4\n",
      "### section [122, 123, 124, 125] current 119 target 125 = 4\n",
      "### section [128] current 125 target 128 = 1\n",
      "### section [131, 132, 133, 134, 135] current 128 target 135 = 7\n",
      "### section [138] current 135 target 138 = 1\n",
      "### section [141] current 138 target 141 = 1\n",
      "### section [144, 145, 146, 147, 148] current 141 target 148 = 7\n",
      "### section [151, 152, 153, 154] current 148 target 154 = 4\n",
      "### section [157, 158, 159, 160, 161] current 154 target 161 = 7\n",
      "### section [164, 165, 166] current 161 target 166 = 2\n",
      "### section [169, 170, 171, 172, 173] current 166 target 173 = 7\n",
      "296196766695424\n"
     ]
    }
   ],
   "source": [
    "part2(inputReal)"
   ]
  },
  {
   "cell_type": "code",
   "execution_count": null,
   "id": "ea13176b-e410-4d66-b395-72d9d51e3ed2",
   "metadata": {},
   "outputs": [],
   "source": []
  }
 ],
 "metadata": {
  "kernelspec": {
   "display_name": "Python 3 (ipykernel)",
   "language": "python",
   "name": "python3"
  },
  "language_info": {
   "codemirror_mode": {
    "name": "ipython",
    "version": 3
   },
   "file_extension": ".py",
   "mimetype": "text/x-python",
   "name": "python",
   "nbconvert_exporter": "python",
   "pygments_lexer": "ipython3",
   "version": "3.9.10"
  }
 },
 "nbformat": 4,
 "nbformat_minor": 5
}
