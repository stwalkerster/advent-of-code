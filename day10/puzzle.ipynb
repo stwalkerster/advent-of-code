{
 "cells": [
  {
   "cell_type": "code",
   "execution_count": 1,
   "id": "ffc3e0f3-6741-40a1-88bb-4fa7f275e6f5",
   "metadata": {},
   "outputs": [],
   "source": [
    "inputExample = open('example.txt', 'r').read().split('\\n')\n",
    "inputReal = open('input.txt', 'r').read().split('\\n')\n",
    "\n",
    "from functools import reduce"
   ]
  },
  {
   "cell_type": "code",
   "execution_count": 2,
   "id": "7f9f5512-9c0c-49fe-80fc-74a65e60d1cc",
   "metadata": {},
   "outputs": [],
   "source": [
    "def part1(input):\n",
    "    register = 1\n",
    "    saved_values = []\n",
    "    captures = [20, 60, 100, 140, 180, 220]\n",
    "    commands = input.copy()\n",
    "    \n",
    "    \n",
    "    command_in_progress = None\n",
    "    for i in range(1, 221):\n",
    "        if command_in_progress is None:\n",
    "            command_in_progress = commands.pop(0).split(' ')\n",
    "            existing = False\n",
    "        else:\n",
    "            existing = True\n",
    "            \n",
    "        if i in captures:\n",
    "            saved_values.append(register)\n",
    "        \n",
    "        # End of cycle\n",
    "        \n",
    "        if command_in_progress[0] == 'noop':\n",
    "            command_in_progress = None\n",
    "            continue\n",
    "    \n",
    "        if command_in_progress[0] == 'addx' and existing:\n",
    "            register += int(command_in_progress[1])\n",
    "            command_in_progress= None\n",
    "    \n",
    "    print(saved_values)\n",
    "    print(sum([x[0] * x[1] for x in zip(captures, saved_values)]))"
   ]
  },
  {
   "cell_type": "code",
   "execution_count": 3,
   "id": "9df36d86-6b4d-4b7c-a9e6-bc604d4437bc",
   "metadata": {},
   "outputs": [
    {
     "name": "stdout",
     "output_type": "stream",
     "text": [
      "[21, 19, 18, 21, 16, 18]\n",
      "13140\n"
     ]
    }
   ],
   "source": [
    "part1(inputExample)"
   ]
  },
  {
   "cell_type": "code",
   "execution_count": 4,
   "id": "cbcf1e08-e193-4915-9aea-05c1c8b0eaf0",
   "metadata": {},
   "outputs": [
    {
     "name": "stdout",
     "output_type": "stream",
     "text": [
      "[21, 21, 21, 17, 21, 21]\n",
      "14560\n"
     ]
    }
   ],
   "source": [
    "part1(inputReal)"
   ]
  },
  {
   "cell_type": "code",
   "execution_count": 17,
   "id": "75aabef9-248a-4929-b0da-e76f69075794",
   "metadata": {},
   "outputs": [],
   "source": [
    "def part2(input):\n",
    "    register = 1\n",
    "    commands = input.copy()\n",
    "    line = ''\n",
    "    command_in_progress = None\n",
    "    for i in range(0, 240):\n",
    "        if command_in_progress is None:\n",
    "            command_in_progress = commands.pop(0).split(' ')\n",
    "            existing = False\n",
    "        else:\n",
    "            existing = True\n",
    "            \n",
    "        if i % 40 == 0:\n",
    "            print(line)\n",
    "            line = ''\n",
    "            \n",
    "        if abs((i % 40) - register) <= 1:\n",
    "            line = line + '█'\n",
    "            # print('#', end='')\n",
    "        else:\n",
    "            line = line + ' '\n",
    "            #print('.',end='')\n",
    "        \n",
    "        # End of cycle\n",
    "        \n",
    "        if command_in_progress[0] == 'noop':\n",
    "            command_in_progress = None\n",
    "            continue\n",
    "    \n",
    "        if command_in_progress[0] == 'addx' and existing:\n",
    "            register += int(command_in_progress[1])\n",
    "            command_in_progress= None\n",
    "    print(line)\n"
   ]
  },
  {
   "cell_type": "code",
   "execution_count": 18,
   "id": "191c45db-8104-4dea-82aa-0beeb3116fec",
   "metadata": {},
   "outputs": [
    {
     "name": "stdout",
     "output_type": "stream",
     "text": [
      "\n",
      "██  ██  ██  ██  ██  ██  ██  ██  ██  ██  \n",
      "███   ███   ███   ███   ███   ███   ███ \n",
      "████    ████    ████    ████    ████    \n",
      "█████     █████     █████     █████     \n",
      "██████      ██████      ██████      ████\n",
      "███████       ███████       ███████     \n"
     ]
    }
   ],
   "source": [
    "part2(inputExample)"
   ]
  },
  {
   "cell_type": "code",
   "execution_count": 19,
   "id": "84c687fc-5c28-45c3-9a37-72fbc731c703",
   "metadata": {},
   "outputs": [
    {
     "name": "stdout",
     "output_type": "stream",
     "text": [
      "\n",
      "████ █  █ ███  █  █ ████ ███  █  █ ████ \n",
      "█    █ █  █  █ █  █ █    █  █ █  █    █ \n",
      "███  ██   █  █ ████ ███  █  █ █  █   █  \n",
      "█    █ █  ███  █  █ █    ███  █  █  █   \n",
      "█    █ █  █ █  █  █ █    █    █  █ █    \n",
      "████ █  █ █  █ █  █ ████ █     ██  ████ \n"
     ]
    }
   ],
   "source": [
    "part2(inputReal)"
   ]
  }
 ],
 "metadata": {
  "kernelspec": {
   "display_name": "Python 3 (ipykernel)",
   "language": "python",
   "name": "python3"
  },
  "language_info": {
   "codemirror_mode": {
    "name": "ipython",
    "version": 3
   },
   "file_extension": ".py",
   "mimetype": "text/x-python",
   "name": "python",
   "nbconvert_exporter": "python",
   "pygments_lexer": "ipython3",
   "version": "3.9.10"
  }
 },
 "nbformat": 4,
 "nbformat_minor": 5
}
