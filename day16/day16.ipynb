{
 "cells": [
  {
   "cell_type": "code",
   "execution_count": 74,
   "id": "ffc3e0f3-6741-40a1-88bb-4fa7f275e6f5",
   "metadata": {},
   "outputs": [],
   "source": [
    "import re\n",
    "from functools import reduce\n",
    "\n",
    "inputExample = open('day16-example.txt', 'r').read().split('\\n\\n')\n",
    "inputReal = open('day16.txt', 'r').read().split('\\n\\n')"
   ]
  },
  {
   "cell_type": "code",
   "execution_count": 3,
   "id": "76f953de-fdde-4996-a0f4-d9c658f4dec0",
   "metadata": {
    "tags": []
   },
   "outputs": [],
   "source": [
    "def fieldParse(field):\n",
    "    m = re.search('^([^:]+): ([0-9]+)-([0-9]+) or ([0-9]+)-([0-9]+)$', field)\n",
    "    return [m.group(1), int(m.group(2)), int(m.group(3)), int(m.group(4)), int(m.group(5))]"
   ]
  },
  {
   "cell_type": "code",
   "execution_count": 4,
   "id": "0cdfc676-6c34-4410-b3be-747207156b68",
   "metadata": {
    "tags": []
   },
   "outputs": [],
   "source": [
    "def ticketParse(ticket):\n",
    "    return list(map(int, ticket.split(',')))"
   ]
  },
  {
   "cell_type": "code",
   "execution_count": 5,
   "id": "6cafce72-3d93-48cd-b2d6-b6b8ed26051b",
   "metadata": {
    "tags": []
   },
   "outputs": [],
   "source": [
    "def parse(input):\n",
    "    fields = list(map(fieldParse, input[0].split('\\n')))\n",
    "    myTicket = ticketParse(input[1].split('\\n')[1])\n",
    "    nearbyTickets = list(map(ticketParse, input[2].split('\\n')[1:]))  \n",
    "    \n",
    "    return fields, myTicket, nearbyTickets"
   ]
  },
  {
   "cell_type": "code",
   "execution_count": 6,
   "id": "ad6842a8-448f-46e7-9255-6b5654c6dc3d",
   "metadata": {
    "tags": []
   },
   "outputs": [],
   "source": [
    "def valueValid(value, fields):\n",
    "    for field in fields:\n",
    "        if field[1] <= value and value <= field[2]:\n",
    "            return True\n",
    "        \n",
    "        if field[3] <= value and value <= field[4]:\n",
    "            return True\n",
    "    \n",
    "    return False"
   ]
  },
  {
   "cell_type": "code",
   "execution_count": 7,
   "id": "7f9f5512-9c0c-49fe-80fc-74a65e60d1cc",
   "metadata": {
    "jupyter": {
     "source_hidden": true
    },
    "tags": []
   },
   "outputs": [],
   "source": [
    "def part1(input):\n",
    "    (fields, myTicket, nearbyTickets) = parse(input)\n",
    "    \n",
    "    errorRate = 0\n",
    "    \n",
    "    for ticket in nearbyTickets:\n",
    "        for value in ticket:\n",
    "            if not valueValid(value, fields):\n",
    "                errorRate += value\n",
    "    \n",
    "    print(errorRate)"
   ]
  },
  {
   "cell_type": "code",
   "execution_count": 7,
   "id": "9df36d86-6b4d-4b7c-a9e6-bc604d4437bc",
   "metadata": {
    "collapsed": true,
    "jupyter": {
     "outputs_hidden": true,
     "source_hidden": true
    },
    "tags": []
   },
   "outputs": [
    {
     "name": "stdout",
     "output_type": "stream",
     "text": [
      "71\n"
     ]
    }
   ],
   "source": [
    "part1(inputExample)"
   ]
  },
  {
   "cell_type": "code",
   "execution_count": 8,
   "id": "cbcf1e08-e193-4915-9aea-05c1c8b0eaf0",
   "metadata": {
    "collapsed": true,
    "jupyter": {
     "outputs_hidden": true,
     "source_hidden": true
    },
    "tags": []
   },
   "outputs": [
    {
     "name": "stdout",
     "output_type": "stream",
     "text": [
      "25788\n"
     ]
    }
   ],
   "source": [
    "part1(inputReal)"
   ]
  },
  {
   "cell_type": "code",
   "execution_count": 8,
   "id": "1588ac5f-3ac7-4722-897c-6b465afb2e82",
   "metadata": {},
   "outputs": [],
   "source": [
    "def ticketValid(ticket, fields):\n",
    "    for value in ticket:\n",
    "        if not valueValid(value, fields):\n",
    "            return False\n",
    "    return True"
   ]
  },
  {
   "cell_type": "code",
   "execution_count": 75,
   "id": "75aabef9-248a-4929-b0da-e76f69075794",
   "metadata": {},
   "outputs": [],
   "source": [
    "def part2(input):\n",
    "    (fields, myTicket, nearbyTickets) = parse(input)\n",
    "    \n",
    "    validTickets = [ticket for ticket in nearbyTickets if ticketValid(ticket, fields)]\n",
    "\n",
    "    #print(fields)\n",
    "    fieldInfo = {}\n",
    "    for i in range(len(fields)): # ticket fields\n",
    "        fieldInfo.update({i: []})\n",
    "        for f in fields: # fields\n",
    "            validFieldForTickets = True\n",
    "            for t in validTickets:\n",
    "                if f[1] <= t[i] <= f[2]:\n",
    "                    continue\n",
    "                elif f[3] <= t[i] <= f[4]:\n",
    "                    continue\n",
    "                else:\n",
    "                    validFieldForTickets = False\n",
    "                    break\n",
    "\n",
    "            if validFieldForTickets:\n",
    "                fieldInfo[i].append(f[0])\n",
    "\n",
    "    processed = []\n",
    "    changed = True\n",
    "    while changed:\n",
    "        changed = False\n",
    "        for x in fieldInfo:\n",
    "            if len(fieldInfo[x]) == 1 and x not in processed:\n",
    "                for i in fieldInfo:\n",
    "                    if x == i:\n",
    "                        continue\n",
    "                    if (fieldInfo[x][0]) in fieldInfo[i]:\n",
    "                        fieldInfo[i].remove(fieldInfo[x][0])\n",
    "                        changed = True\n",
    "                processed.append(x)\n",
    "\n",
    "\n",
    "    print(fieldInfo)\n",
    "\n",
    "    departureFields = [x for x in fieldInfo if fieldInfo[x][0].startswith('departure')]\n",
    "\n",
    "    print(reduce((lambda x, y: x*y), map(lambda x: myTicket[x], departureFields)))\n",
    "\n",
    "\n",
    "    pass"
   ]
  },
  {
   "cell_type": "code",
   "execution_count": 76,
   "id": "191c45db-8104-4dea-82aa-0beeb3116fec",
   "metadata": {},
   "outputs": [
    {
     "name": "stdout",
     "output_type": "stream",
     "text": [
      "{0: ['row'], 1: ['class'], 2: ['seat']}\n"
     ]
    },
    {
     "ename": "TypeError",
     "evalue": "reduce() of empty sequence with no initial value",
     "output_type": "error",
     "traceback": [
      "\u001b[0;31m---------------------------------------------------------------------------\u001b[0m",
      "\u001b[0;31mTypeError\u001b[0m                                 Traceback (most recent call last)",
      "Input \u001b[0;32mIn [76]\u001b[0m, in \u001b[0;36m<cell line: 1>\u001b[0;34m()\u001b[0m\n\u001b[0;32m----> 1\u001b[0m \u001b[43mpart2\u001b[49m\u001b[43m(\u001b[49m\u001b[43minputExample\u001b[49m\u001b[43m)\u001b[49m\n",
      "Input \u001b[0;32mIn [75]\u001b[0m, in \u001b[0;36mpart2\u001b[0;34m(input)\u001b[0m\n\u001b[1;32m     39\u001b[0m \u001b[38;5;28mprint\u001b[39m(fieldInfo)\n\u001b[1;32m     41\u001b[0m departureFields \u001b[38;5;241m=\u001b[39m [x \u001b[38;5;28;01mfor\u001b[39;00m x \u001b[38;5;129;01min\u001b[39;00m fieldInfo \u001b[38;5;28;01mif\u001b[39;00m fieldInfo[x][\u001b[38;5;241m0\u001b[39m]\u001b[38;5;241m.\u001b[39mstartswith(\u001b[38;5;124m'\u001b[39m\u001b[38;5;124mdeparture\u001b[39m\u001b[38;5;124m'\u001b[39m)]\n\u001b[0;32m---> 43\u001b[0m \u001b[38;5;28mprint\u001b[39m(\u001b[43mreduce\u001b[49m\u001b[43m(\u001b[49m\u001b[43m(\u001b[49m\u001b[38;5;28;43;01mlambda\u001b[39;49;00m\u001b[43m \u001b[49m\u001b[43mx\u001b[49m\u001b[43m,\u001b[49m\u001b[43m \u001b[49m\u001b[43my\u001b[49m\u001b[43m:\u001b[49m\u001b[43m \u001b[49m\u001b[43mx\u001b[49m\u001b[38;5;241;43m*\u001b[39;49m\u001b[43my\u001b[49m\u001b[43m)\u001b[49m\u001b[43m,\u001b[49m\u001b[43m \u001b[49m\u001b[38;5;28;43mmap\u001b[39;49m\u001b[43m(\u001b[49m\u001b[38;5;28;43;01mlambda\u001b[39;49;00m\u001b[43m \u001b[49m\u001b[43mx\u001b[49m\u001b[43m:\u001b[49m\u001b[43m \u001b[49m\u001b[43mmyTicket\u001b[49m\u001b[43m[\u001b[49m\u001b[43mx\u001b[49m\u001b[43m]\u001b[49m\u001b[43m,\u001b[49m\u001b[43m \u001b[49m\u001b[43mdepartureFields\u001b[49m\u001b[43m)\u001b[49m\u001b[43m)\u001b[49m)\n\u001b[1;32m     46\u001b[0m \u001b[38;5;28;01mpass\u001b[39;00m\n",
      "\u001b[0;31mTypeError\u001b[0m: reduce() of empty sequence with no initial value"
     ]
    }
   ],
   "source": [
    "part2(inputExample)"
   ]
  },
  {
   "cell_type": "code",
   "execution_count": 77,
   "id": "84c687fc-5c28-45c3-9a37-72fbc731c703",
   "metadata": {},
   "outputs": [
    {
     "name": "stdout",
     "output_type": "stream",
     "text": [
      "{0: ['arrival track'], 1: ['arrival location'], 2: ['row'], 3: ['train'], 4: ['duration'], 5: ['arrival station'], 6: ['type'], 7: ['departure platform'], 8: ['arrival platform'], 9: ['seat'], 10: ['departure station'], 11: ['route'], 12: ['class'], 13: ['departure location'], 14: ['price'], 15: ['wagon'], 16: ['departure time'], 17: ['departure track'], 18: ['zone'], 19: ['departure date']}\n",
      "3902565915559\n"
     ]
    }
   ],
   "source": [
    "part2(inputReal)"
   ]
  }
 ],
 "metadata": {
  "kernelspec": {
   "display_name": "Python 3 (ipykernel)",
   "language": "python",
   "name": "python3"
  },
  "language_info": {
   "codemirror_mode": {
    "name": "ipython",
    "version": 3
   },
   "file_extension": ".py",
   "mimetype": "text/x-python",
   "name": "python",
   "nbconvert_exporter": "python",
   "pygments_lexer": "ipython3",
   "version": "3.9.10"
  }
 },
 "nbformat": 4,
 "nbformat_minor": 5
}
