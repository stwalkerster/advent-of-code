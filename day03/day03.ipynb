{
 "cells": [
  {
   "cell_type": "code",
   "execution_count": 1,
   "id": "ffc3e0f3-6741-40a1-88bb-4fa7f275e6f5",
   "metadata": {},
   "outputs": [],
   "source": [
    "inputExample = open('day03-example.txt', 'r').read().split('\\n')\n",
    "inputReal = open('day03.txt', 'r').read().split('\\n')"
   ]
  },
  {
   "cell_type": "code",
   "execution_count": 6,
   "id": "48eda80d-cd5e-422c-908b-4586fb38daad",
   "metadata": {},
   "outputs": [],
   "source": [
    "def run(input, dx, dy):\n",
    "    treeCount = 0\n",
    "    \n",
    "    x=0\n",
    "    y=0\n",
    "    rowLen = len(input[0])\n",
    "    rowCount = len(input)\n",
    "    \n",
    "    while(y < (rowCount - 1)):\n",
    "        y += dy\n",
    "        x = (x + dx) % rowLen\n",
    "        \n",
    "        if input[y][x] == '#':\n",
    "            treeCount += 1\n",
    "    \n",
    "    return treeCount"
   ]
  },
  {
   "cell_type": "code",
   "execution_count": 7,
   "id": "7f9f5512-9c0c-49fe-80fc-74a65e60d1cc",
   "metadata": {},
   "outputs": [],
   "source": [
    "def part1(input):\n",
    "    \n",
    "    treeCount = run(input, 3, 1)\n",
    "    \n",
    "    print(treeCount)"
   ]
  },
  {
   "cell_type": "code",
   "execution_count": 8,
   "id": "9df36d86-6b4d-4b7c-a9e6-bc604d4437bc",
   "metadata": {},
   "outputs": [
    {
     "name": "stdout",
     "output_type": "stream",
     "text": [
      "7\n"
     ]
    }
   ],
   "source": [
    "part1(inputExample)"
   ]
  },
  {
   "cell_type": "code",
   "execution_count": 9,
   "id": "cbcf1e08-e193-4915-9aea-05c1c8b0eaf0",
   "metadata": {},
   "outputs": [
    {
     "name": "stdout",
     "output_type": "stream",
     "text": [
      "193\n"
     ]
    }
   ],
   "source": [
    "part1(inputReal)"
   ]
  },
  {
   "cell_type": "code",
   "execution_count": 10,
   "id": "75aabef9-248a-4929-b0da-e76f69075794",
   "metadata": {},
   "outputs": [],
   "source": [
    "def part2(input):\n",
    "    r1d1 = run(input, 1, 1)\n",
    "    r3d1 = run(input, 3, 1)\n",
    "    r5d1 = run(input, 5, 1)\n",
    "    r7d1 = run(input, 7, 1)\n",
    "    r1d2 = run(input, 1, 2)\n",
    "    \n",
    "    print(r1d1, r3d1, r5d1, r7d1, r1d2)\n",
    "    print(r1d1 * r3d1 * r5d1 * r7d1 * r1d2)"
   ]
  },
  {
   "cell_type": "code",
   "execution_count": 11,
   "id": "191c45db-8104-4dea-82aa-0beeb3116fec",
   "metadata": {},
   "outputs": [
    {
     "name": "stdout",
     "output_type": "stream",
     "text": [
      "2 7 3 4 2\n",
      "336\n"
     ]
    }
   ],
   "source": [
    "part2(inputExample)"
   ]
  },
  {
   "cell_type": "code",
   "execution_count": 12,
   "id": "84c687fc-5c28-45c3-9a37-72fbc731c703",
   "metadata": {},
   "outputs": [
    {
     "name": "stdout",
     "output_type": "stream",
     "text": [
      "57 193 64 55 35\n",
      "1355323200\n"
     ]
    }
   ],
   "source": [
    "part2(inputReal)"
   ]
  }
 ],
 "metadata": {
  "kernelspec": {
   "display_name": "Python 3 (ipykernel)",
   "language": "python",
   "name": "python3"
  },
  "language_info": {
   "codemirror_mode": {
    "name": "ipython",
    "version": 3
   },
   "file_extension": ".py",
   "mimetype": "text/x-python",
   "name": "python",
   "nbconvert_exporter": "python",
   "pygments_lexer": "ipython3",
   "version": "3.9.10"
  }
 },
 "nbformat": 4,
 "nbformat_minor": 5
}
