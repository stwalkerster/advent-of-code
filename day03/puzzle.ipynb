{
 "cells": [
  {
   "cell_type": "code",
   "execution_count": 43,
   "id": "ffc3e0f3-6741-40a1-88bb-4fa7f275e6f5",
   "metadata": {},
   "outputs": [],
   "source": [
    "inputExample = open('example.txt', 'r').read().split('\\n')\n",
    "inputReal = open('input.txt', 'r').read().split('\\n')"
   ]
  },
  {
   "cell_type": "code",
   "execution_count": 63,
   "id": "7f9f5512-9c0c-49fe-80fc-74a65e60d1cc",
   "metadata": {},
   "outputs": [],
   "source": [
    "def part1(input):\n",
    "    total = 0\n",
    "\n",
    "    for rucksack in input:\n",
    "        if rucksack == '':\n",
    "            continue\n",
    "\n",
    "        midpoint = int(len(rucksack)/2)\n",
    "        side1 = set(list(rucksack[:midpoint]))\n",
    "        side2 = set(list(rucksack[midpoint:]))\n",
    "        dupeItem = list(side1.intersection(side2))[0]\n",
    "\n",
    "        if dupeItem.isupper():\n",
    "            total += ord(dupeItem) - 38\n",
    "        else:\n",
    "            total += ord(dupeItem) - 96\n",
    "\n",
    "    print(total)"
   ]
  },
  {
   "cell_type": "code",
   "execution_count": 64,
   "id": "9df36d86-6b4d-4b7c-a9e6-bc604d4437bc",
   "metadata": {},
   "outputs": [
    {
     "name": "stdout",
     "output_type": "stream",
     "text": [
      "157\n"
     ]
    }
   ],
   "source": [
    "part1(inputExample)"
   ]
  },
  {
   "cell_type": "code",
   "execution_count": 65,
   "id": "cbcf1e08-e193-4915-9aea-05c1c8b0eaf0",
   "metadata": {},
   "outputs": [
    {
     "name": "stdout",
     "output_type": "stream",
     "text": [
      "7746\n"
     ]
    }
   ],
   "source": [
    "part1(inputReal)"
   ]
  },
  {
   "cell_type": "code",
   "execution_count": 60,
   "id": "75aabef9-248a-4929-b0da-e76f69075794",
   "metadata": {},
   "outputs": [],
   "source": [
    "def part2(input):\n",
    "    if input[-1] == '':\n",
    "        del input[-1]\n",
    "\n",
    "    groups = [input[i:i+3] for i in range(0, len(input), 3)]\n",
    "    total = 0\n",
    "    for g in groups:\n",
    "        badge = list(set(g[0]).intersection(set(g[1]).intersection(set(g[2]))))[0]\n",
    "\n",
    "        if badge.isupper():\n",
    "            total += ord(badge) - 38\n",
    "        else:\n",
    "            total += ord(badge) - 96\n",
    "    print(total)"
   ]
  },
  {
   "cell_type": "code",
   "execution_count": 61,
   "id": "191c45db-8104-4dea-82aa-0beeb3116fec",
   "metadata": {},
   "outputs": [
    {
     "name": "stdout",
     "output_type": "stream",
     "text": [
      "70\n"
     ]
    }
   ],
   "source": [
    "part2(inputExample)"
   ]
  },
  {
   "cell_type": "code",
   "execution_count": 62,
   "id": "84c687fc-5c28-45c3-9a37-72fbc731c703",
   "metadata": {},
   "outputs": [
    {
     "name": "stdout",
     "output_type": "stream",
     "text": [
      "2604\n"
     ]
    }
   ],
   "source": [
    "part2(inputReal)"
   ]
  }
 ],
 "metadata": {
  "kernelspec": {
   "display_name": "Python 3 (ipykernel)",
   "language": "python",
   "name": "python3"
  },
  "language_info": {
   "codemirror_mode": {
    "name": "ipython",
    "version": 3
   },
   "file_extension": ".py",
   "mimetype": "text/x-python",
   "name": "python",
   "nbconvert_exporter": "python",
   "pygments_lexer": "ipython3",
   "version": "3.9.10"
  }
 },
 "nbformat": 4,
 "nbformat_minor": 5
}
