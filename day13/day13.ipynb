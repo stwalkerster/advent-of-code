{
 "cells": [
  {
   "cell_type": "code",
   "execution_count": 2,
   "id": "ffc3e0f3-6741-40a1-88bb-4fa7f275e6f5",
   "metadata": {},
   "outputs": [],
   "source": [
    "inputExample = [\"939\",\"7,13,x,x,59,x,31,19\"]\n",
    "inputReal = open('day13.txt', 'r').read().split('\\n')"
   ]
  },
  {
   "cell_type": "code",
   "execution_count": 3,
   "id": "7f9f5512-9c0c-49fe-80fc-74a65e60d1cc",
   "metadata": {},
   "outputs": [],
   "source": [
    "import math\n",
    "\n",
    "def part1(input):\n",
    "    minTime = int(input[0])\n",
    "    buses = list(map(lambda y: int(y), filter(lambda x: x != \"x\", input[1].split(','))))\n",
    "\n",
    "    firstArrivalTimes = list(map(lambda b: math.ceil(minTime / b) * b , buses))\n",
    "\n",
    "    print(buses)\n",
    "    print(firstArrivalTimes)\n",
    "\n",
    "    idx = firstArrivalTimes.index(min(firstArrivalTimes))\n",
    "    print(\"bus\", buses[idx], \"arrives at\", firstArrivalTimes[idx], \"which is\", firstArrivalTimes[idx] - minTime, \"mins waiting\")\n",
    "    print(buses[idx] * (firstArrivalTimes[idx] - minTime))\n",
    "\n"
   ]
  },
  {
   "cell_type": "code",
   "execution_count": 3,
   "id": "9df36d86-6b4d-4b7c-a9e6-bc604d4437bc",
   "metadata": {},
   "outputs": [
    {
     "name": "stdout",
     "output_type": "stream",
     "text": [
      "[7, 13, 59, 31, 19]\n",
      "[945, 949, 944, 961, 950]\n",
      "bus 59 arrives at 944 which is 5 mins waiting\n",
      "295\n"
     ]
    }
   ],
   "source": [
    "part1(inputExample)"
   ]
  },
  {
   "cell_type": "code",
   "execution_count": 4,
   "id": "cbcf1e08-e193-4915-9aea-05c1c8b0eaf0",
   "metadata": {},
   "outputs": [
    {
     "name": "stdout",
     "output_type": "stream",
     "text": [
      "[19, 41, 523, 17, 13, 29, 853, 37, 23]\n",
      "[1000521, 1000523, 1001022, 1000518, 1000519, 1000529, 1000569, 1000517, 1000523]\n",
      "bus 37 arrives at 1000517 which is 7 mins waiting\n",
      "259\n"
     ]
    }
   ],
   "source": [
    "part1(inputReal)"
   ]
  },
  {
   "cell_type": "code",
   "execution_count": 1,
   "id": "75aabef9-248a-4929-b0da-e76f69075794",
   "metadata": {},
   "outputs": [],
   "source": [
    "import datetime\n",
    "def part2(input):\n",
    "    buses = list(map(lambda y: int(y) if y != 'x' else 1, input[1].split(',')))\n",
    "    print(buses)\n",
    "\n",
    "    mostInfrequent = buses.index(max(buses))\n",
    "    \n",
    "    multiple = 1\n",
    "    while True:\n",
    "        timestamp = (buses[mostInfrequent] * multiple) - mostInfrequent\n",
    "\n",
    "        if multiple % 1000000 == 0 :\n",
    "            fp = open(\"day13-progress.txt\", \"a\")\n",
    "            now = datetime.datetime.now()\n",
    "            print('[', now.strftime(\"%Y-%m-%d %H:%M:%S\"), ']', multiple, timestamp, file = fp)\n",
    "            fp.close()\n",
    "        \n",
    "        complete = True\n",
    "        for i in range(len(buses)):\n",
    "            if (timestamp + i) % buses[i] != 0:\n",
    "                complete = False\n",
    "                break\n",
    "\n",
    "        if complete:\n",
    "            break\n",
    "\n",
    "        multiple += 1\n",
    "\n",
    "    f = open(\"day13-answer.txt\", \"w\")\n",
    "    print(timestamp, file=f)\n",
    "    print(timestamp)\n",
    "    for i in range(len(buses)):\n",
    "        if(buses[i] != 1):\n",
    "            print(\"bus\", buses[i], \"offset\", i, \"check\", (timestamp+i)%buses[i], \"iter\", (timestamp+i)/buses[i])\n",
    "        print(\"bus\", buses[i], \"offset\", i, \"check\", (timestamp+i)%buses[i], \"iter\", (timestamp+i)/buses[i], file = f)\n",
    "    f.close()"
   ]
  },
  {
   "cell_type": "code",
   "execution_count": 4,
   "id": "191c45db-8104-4dea-82aa-0beeb3116fec",
   "metadata": {},
   "outputs": [
    {
     "name": "stdout",
     "output_type": "stream",
     "text": [
      "[7, 13, 1, 1, 59, 1, 31, 19]\n",
      "1068781\n",
      "bus 7 offset 0 check 0 iter 152683.0\n",
      "bus 13 offset 1 check 0 iter 82214.0\n",
      "bus 59 offset 4 check 0 iter 18115.0\n",
      "bus 31 offset 6 check 0 iter 34477.0\n",
      "bus 19 offset 7 check 0 iter 56252.0\n"
     ]
    }
   ],
   "source": [
    "part2(inputExample)"
   ]
  },
  {
   "cell_type": "code",
   "execution_count": null,
   "id": "84c687fc-5c28-45c3-9a37-72fbc731c703",
   "metadata": {
    "pycharm": {
     "is_executing": true
    }
   },
   "outputs": [
    {
     "name": "stdout",
     "output_type": "stream",
     "text": [
      "[19, 1, 1, 1, 1, 1, 1, 1, 1, 41, 1, 1, 1, 1, 1, 1, 1, 1, 1, 523, 1, 1, 1, 1, 1, 1, 1, 1, 1, 1, 1, 1, 1, 1, 1, 1, 17, 13, 1, 1, 1, 1, 1, 1, 1, 1, 1, 1, 29, 1, 853, 1, 1, 1, 1, 1, 37, 1, 1, 1, 1, 1, 1, 1, 1, 1, 1, 1, 1, 1, 1, 1, 1, 23]\n"
     ]
    }
   ],
   "source": [
    "# CAUTION - this took 4d 9h to execute and give the answer 210612924879242\n",
    "part2(inputReal)"
   ]
  }
 ],
 "metadata": {
  "kernelspec": {
   "display_name": "Python 3 (ipykernel)",
   "language": "python",
   "name": "python3"
  },
  "language_info": {
   "codemirror_mode": {
    "name": "ipython",
    "version": 3
   },
   "file_extension": ".py",
   "mimetype": "text/x-python",
   "name": "python",
   "nbconvert_exporter": "python",
   "pygments_lexer": "ipython3",
   "version": "3.9.10"
  }
 },
 "nbformat": 4,
 "nbformat_minor": 5
}
