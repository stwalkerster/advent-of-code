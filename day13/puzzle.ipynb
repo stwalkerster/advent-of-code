{
 "cells": [
  {
   "cell_type": "code",
   "execution_count": 1,
   "id": "ffc3e0f3-6741-40a1-88bb-4fa7f275e6f5",
   "metadata": {},
   "outputs": [],
   "source": [
    "inputExample = open('example.txt', 'r').read()\n",
    "inputReal = open('input.txt', 'r').read()"
   ]
  },
  {
   "cell_type": "code",
   "execution_count": 2,
   "id": "3aea1bbb-ca62-4048-9333-05e04e7262e4",
   "metadata": {},
   "outputs": [],
   "source": [
    "def compare(left, right):\n",
    "    if type(left) is int and type(right) is int:\n",
    "        if left == right:\n",
    "            return None\n",
    "        if left < right:\n",
    "            return True\n",
    "        if left > right:\n",
    "            return False\n",
    "    \n",
    "    \n",
    "    if type(left) is int and type(right) is list:\n",
    "        left = [left]\n",
    "    if type(left) is list and type(right) is int:\n",
    "        right = [right]\n",
    "        \n",
    "    for i in range(max(len(left),len(right))):\n",
    "        \n",
    "        # same length, no result\n",
    "        if len(right) == len(left) == i:\n",
    "            return None\n",
    "        \n",
    "        # one has run out of items before the other\n",
    "        if i == len(left):\n",
    "            return True\n",
    "        if i == len(right):\n",
    "            return False\n",
    "        \n",
    "        i_result = compare(left[i],right[i])\n",
    "        if i_result is not None:\n",
    "            return i_result\n",
    "    \n",
    "    return None\n",
    "    "
   ]
  },
  {
   "cell_type": "code",
   "execution_count": 3,
   "id": "a895f517-3a54-4718-801b-9a78222188d0",
   "metadata": {},
   "outputs": [],
   "source": [
    "def part1(input):\n",
    "    groups = []\n",
    "    \n",
    "    for group in input.split('\\n\\n'):\n",
    "        g = group.split('\\n')\n",
    "        groups.append((eval(g[0]), eval(g[1])))\n",
    "    \n",
    "    total = 0\n",
    "    for i in range(len(groups)):\n",
    "        if compare(*groups[i]):\n",
    "            total += i + 1\n",
    "\n",
    "    print(total)"
   ]
  },
  {
   "cell_type": "code",
   "execution_count": 4,
   "id": "9df36d86-6b4d-4b7c-a9e6-bc604d4437bc",
   "metadata": {},
   "outputs": [
    {
     "name": "stdout",
     "output_type": "stream",
     "text": [
      "13\n"
     ]
    }
   ],
   "source": [
    "part1(inputExample)"
   ]
  },
  {
   "cell_type": "code",
   "execution_count": 5,
   "id": "cbcf1e08-e193-4915-9aea-05c1c8b0eaf0",
   "metadata": {},
   "outputs": [
    {
     "name": "stdout",
     "output_type": "stream",
     "text": [
      "5330\n"
     ]
    }
   ],
   "source": [
    "part1(inputReal)"
   ]
  },
  {
   "cell_type": "code",
   "execution_count": 13,
   "id": "75aabef9-248a-4929-b0da-e76f69075794",
   "metadata": {},
   "outputs": [],
   "source": [
    "def part2(input):\n",
    "    lines = [eval(g) for g in input.split('\\n') if g != '']\n",
    "    \n",
    "    # extra items required\n",
    "    lines.append([[2]])\n",
    "    lines.append([[6]])\n",
    "    \n",
    "    # ucky bubble sort\n",
    "    changed = True\n",
    "    while changed:\n",
    "        changed = False\n",
    "            \n",
    "        for i in range(1, len(lines)):\n",
    "            if not compare(lines[i-1], lines[i]):\n",
    "                changed = True\n",
    "                temp = lines[i]\n",
    "                lines[i] = lines[i-1]\n",
    "                lines[i-1] = temp\n",
    "    \n",
    "    total = 1\n",
    "    for i in range(len(lines)):\n",
    "        if lines[i] == [[2]] or lines[i] == [[6]]:\n",
    "            total = total * (i+1)\n",
    "    \n",
    "    print(total)"
   ]
  },
  {
   "cell_type": "code",
   "execution_count": 14,
   "id": "191c45db-8104-4dea-82aa-0beeb3116fec",
   "metadata": {},
   "outputs": [
    {
     "name": "stdout",
     "output_type": "stream",
     "text": [
      "140\n"
     ]
    }
   ],
   "source": [
    "part2(inputExample)"
   ]
  },
  {
   "cell_type": "code",
   "execution_count": 15,
   "id": "9ee252e3-e9ec-44f3-bd1f-2c9f0907ff35",
   "metadata": {},
   "outputs": [
    {
     "name": "stdout",
     "output_type": "stream",
     "text": [
      "27648\n"
     ]
    }
   ],
   "source": [
    "part2(inputReal)"
   ]
  }
 ],
 "metadata": {
  "kernelspec": {
   "display_name": "Python 3 (ipykernel)",
   "language": "python",
   "name": "python3"
  },
  "language_info": {
   "codemirror_mode": {
    "name": "ipython",
    "version": 3
   },
   "file_extension": ".py",
   "mimetype": "text/x-python",
   "name": "python",
   "nbconvert_exporter": "python",
   "pygments_lexer": "ipython3",
   "version": "3.9.10"
  }
 },
 "nbformat": 4,
 "nbformat_minor": 5
}
