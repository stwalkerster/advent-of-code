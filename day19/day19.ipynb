{
 "cells": [
  {
   "cell_type": "code",
   "execution_count": 3,
   "id": "ffc3e0f3-6741-40a1-88bb-4fa7f275e6f5",
   "metadata": {},
   "outputs": [],
   "source": [
    "inputExample = open('day19-example.txt', 'r').read().split('\\n\\n')\n",
    "inputExample2 = open('day19-example2.txt', 'r').read().split('\\n\\n')\n",
    "inputReal = open('day19.txt', 'r').read().split('\\n\\n')\n",
    "\n",
    "import re"
   ]
  },
  {
   "cell_type": "code",
   "execution_count": 4,
   "id": "afce6e35-6d93-4ca2-9206-743470520ea9",
   "metadata": {},
   "outputs": [],
   "source": [
    "def parse(input):\n",
    "    rules = {}\n",
    "    for r in map(lambda x: x.split(': '), input[0].split('\\n')):\n",
    "        rules.update({int(r[0]) : r[1]})\n",
    "        \n",
    "    testCases = input[1].split('\\n')\n",
    "    \n",
    "    return (rules, testCases)"
   ]
  },
  {
   "cell_type": "code",
   "execution_count": 5,
   "id": "f432ec29",
   "metadata": {
    "collapsed": false
   },
   "outputs": [],
   "source": [
    "def build(rules, rule):\n",
    "    subRules = rules[rule].split(' ')\n",
    "\n",
    "    regex = \"(\"\n",
    "\n",
    "    for sr in subRules:\n",
    "        if sr[0] == '\"':\n",
    "            return sr[1]\n",
    "        elif sr[0] == '|':\n",
    "            regex += \"|\"\n",
    "        else:\n",
    "            regex += build(rules, int(sr))\n",
    "\n",
    "    regex += \")\"\n",
    "    return regex"
   ]
  },
  {
   "cell_type": "code",
   "execution_count": 15,
   "id": "e3d9f02a",
   "metadata": {
    "collapsed": false
   },
   "outputs": [],
   "source": [
    "def part1(input):\n",
    "    (rules, testCases) = parse(input)\n",
    "\n",
    "    expression = (\"^\" + build(rules, 0) + \"$\")\n",
    "\n",
    "    count = 0\n",
    "    for m in testCases:\n",
    "        if re.search(expression, m):\n",
    "            count += 1\n",
    "\n",
    "    print(count)"
   ]
  },
  {
   "cell_type": "code",
   "execution_count": 16,
   "id": "be3d3cd2",
   "metadata": {
    "collapsed": false
   },
   "outputs": [
    {
     "name": "stdout",
     "output_type": "stream",
     "text": [
      "2\n"
     ]
    }
   ],
   "source": [
    "part1(inputExample)"
   ]
  },
  {
   "cell_type": "code",
   "execution_count": 17,
   "id": "556b96c2",
   "metadata": {
    "collapsed": false
   },
   "outputs": [
    {
     "name": "stdout",
     "output_type": "stream",
     "text": [
      "226\n"
     ]
    }
   ],
   "source": [
    "part1(inputReal)"
   ]
  },
  {
   "cell_type": "markdown",
   "id": "dad1249b",
   "metadata": {
    "collapsed": false
   },
   "source": [
    "## Part 2\n",
    "\n",
    "This feels like a substantial step up from part 1. If you've done this like me and recognised the grammar described by the rules is a [Chomsky Type-3 grammar](https://en.wikipedia.org/wiki/Chomsky_hierarchy) (ie, a regex), and used built-in regex tooling to solve the issue.\n",
    "\n",
    "The addition of loops isn't fatal to the use of regular expressions for this the replacement rule 8 (`8: 42 | 42 8`) is representable in regex as `(<RULE42>)+` - all it's doing is repeating rule 42 one or more times.\n",
    "\n",
    "However, the new rule 11 (`11: 42 31 | 42 11 31`) **is** fatal to the use of regexes. This one rule transforms the grammar as a whole from a Type-3 to a Type-2 (context-free) grammar. This is because there has to be a matching number of 42s and 31s.\n",
    "\n",
    "Luck is, however, on our side. I'm not particularly interested in writing a full parser for *all* the rules - that sounds like far too much effort for an AoC problem. However, the new rules 8 and 11 are called from exactly one other rule - rule 0. Additionally, both rules 8 and 11 only call (themselves, or) rules 42 and 31, and everything below those rules can still be considered as a Type-3 grammar. Let's see if we can build a parser, where\n",
    "\n",
    "Through some manual shuffling of the example2 rules, we can determine that the valid examples are all fixed-length of size 15. (Right column is the length of string the rule matches)\n",
    "\n",
    "```\n",
    "0: 8 11            15\n",
    "1: \"a\"             1\n",
    "2: 1 24 | 14 4     3\n",
    "3: 5 14 | 16 1     3\n",
    "4: 1 1             2\n",
    "5: 1 14 | 15 1     2\n",
    "6: 14 14 | 1 14    2\n",
    "7: 14 5 | 1 21     3\n",
    "8: 42              5\n",
    "9: 14 27 | 1 26    4\n",
    "10: 23 14 | 28 1   4\n",
    "11: 42 31          10\n",
    "12: 24 14 | 19 1   3\n",
    "13: 14 3 | 1 12    4\n",
    "14: \"b\"            1\n",
    "15: 1 | 14         1\n",
    "16: 15 1 | 14 14   2\n",
    "17: 14 2 | 1 7     4\n",
    "18: 15 15          2\n",
    "19: 14 1 | 14 14   2\n",
    "20: 14 14 | 1 15   2\n",
    "21: 14 1 | 1 14    2\n",
    "22: 14 14          2\n",
    "23: 25 1 | 22 14   3\n",
    "24: 14 1           2\n",
    "25: 1 1 | 1 14     2\n",
    "26: 14 22 | 1 20   3\n",
    "27: 1 6 | 14 18    3\n",
    "28: 16 1           3\n",
    "31: 14 17 | 1 13   5\n",
    "42: 9 14 | 10 1    5\n",
    "```"
   ]
  },
  {
   "cell_type": "code",
   "execution_count": 48,
   "id": "9aa4322e",
   "metadata": {
    "collapsed": false
   },
   "outputs": [
    {
     "name": "stdout",
     "output_type": "stream",
     "text": [
      "Example:\n",
      "rule 0 length: 15\n",
      "\n",
      "Real input:\n",
      "rule 0 length: 24\n"
     ]
    }
   ],
   "source": [
    "def scanRules(input):\n",
    "    ruleTotals = {}\n",
    "    (unprocessedRules, _) = parse(input)\n",
    "    changed = True\n",
    "    while changed:\n",
    "        changed = False\n",
    "        for r in unprocessedRules:\n",
    "            subRules = unprocessedRules[r].split(' ')\n",
    "            length = 0\n",
    "            secondLength = None\n",
    "            issueEncountered = False\n",
    "            for sr in subRules:\n",
    "                if sr[0] == '\"':\n",
    "                    length = 1\n",
    "                    break\n",
    "                elif sr == '|':\n",
    "                    secondLength = length\n",
    "                    length = 0\n",
    "                else:\n",
    "                    if int(sr) in ruleTotals:\n",
    "                        length += ruleTotals[int(sr)]\n",
    "                    else:\n",
    "                        issueEncountered = True\n",
    "                        break\n",
    "            if issueEncountered:\n",
    "                continue\n",
    "\n",
    "            if secondLength is not None and length != secondLength:\n",
    "                raise Exception(\"Differing lengths detected!\")\n",
    "\n",
    "            unprocessedRules.pop(r)\n",
    "            ruleTotals.update({r: length})\n",
    "            changed = True\n",
    "            break\n",
    "\n",
    "    return ruleTotals\n",
    "\n",
    "print(\"Example:\")\n",
    "ruleTotalsExample = scanRules(inputExample2)\n",
    "print(\"rule 0 length:\", ruleTotalsExample[0])\n",
    "print()\n",
    "print(\"Real input:\")\n",
    "ruleTotalsReal = scanRules(inputReal)\n",
    "print(\"rule 0 length:\", ruleTotalsReal[0])"
   ]
  },
  {
   "cell_type": "markdown",
   "id": "56bbeadb",
   "metadata": {
    "collapsed": false
   },
   "source": [
    "From this, we can see my input *also* has a fixed length (of 24) for rule 0.\n",
    "\n",
    "We need to replace rules 8 and 11 with the following:\n",
    "```\n",
    "8: 42 | 42 8\n",
    "11: 42 31 | 42 11 31\n",
    "```\n",
    "\n",
    "To make this easier, we'll just check the values for rules 42 and 31:"
   ]
  },
  {
   "cell_type": "code",
   "execution_count": 49,
   "id": "0f35d38e",
   "metadata": {
    "collapsed": false
   },
   "outputs": [
    {
     "name": "stdout",
     "output_type": "stream",
     "text": [
      "rule 31 length: 8\n",
      "rule 42 length: 8\n"
     ]
    }
   ],
   "source": [
    "print(\"rule 31 length:\", ruleTotalsReal[31])\n",
    "print(\"rule 42 length:\", ruleTotalsReal[42])"
   ]
  },
  {
   "cell_type": "markdown",
   "id": "b1f2a898",
   "metadata": {
    "collapsed": false
   },
   "source": [
    "Let's just use the regexes for these rules to make the overall parser easier, and treat 31 and 42 as terminal symbols for the grammar."
   ]
  },
  {
   "cell_type": "code",
   "execution_count": 6,
   "id": "63239122",
   "metadata": {
    "collapsed": false
   },
   "outputs": [
    {
     "name": "stdout",
     "output_type": "stream",
     "text": [
      "((b(a(bb|ab)|b((a|b)(a|b)))|a(b(bb)|a(bb|a(a|b))))b|(((aa|ab)a|(bb)b)b|(((a|b)a|bb)a)a)a)\n"
     ]
    }
   ],
   "source": [
    "(rules, testCases) = parse(inputExample2)\n",
    "print(build(rules, 42))"
   ]
  },
  {
   "cell_type": "code",
   "execution_count": 7,
   "id": "37b174e6",
   "metadata": {
    "collapsed": false
   },
   "outputs": [
    {
     "name": "stdout",
     "output_type": "stream",
     "text": [
      "(b(b(a(ba)|b(aa))|a(b(ab|(a|b)a)|a(ba|ab)))|a(b((ab|(a|b)a)b|((a|b)a|bb)a)|a((ba)b|(ba|bb)a)))\n"
     ]
    }
   ],
   "source": [
    "print(build(rules, 31))"
   ]
  },
  {
   "cell_type": "code",
   "execution_count": 55,
   "id": "663fa0aa",
   "metadata": {
    "collapsed": false
   },
   "outputs": [],
   "source": [
    "def matchR42(input, indent, matchStack):\n",
    "    #print(\"match42\")\n",
    "\n",
    "    regex = build(rules, 42)\n",
    "\n",
    "    print(\"  \"*indent, \"match42\", input, regex)\n",
    "    result = re.match(regex, input)\n",
    "\n",
    "    #print(\"m42\", result)\n",
    "    if result:\n",
    "        print(\"  \"*indent, \"match42 pass\")\n",
    "        matchStack.push(result.end())\n",
    "        return result.end()\n",
    "    else:\n",
    "        print(\"  \"*indent, \"match42 fail\")\n",
    "        return 0\n",
    "\n",
    "def matchR31(input, indent, matchStack):\n",
    "    regex = build(rules, 31)\n",
    "    print(\"  \"*indent, \"match31\", input, regex)\n",
    "    result = re.match(regex, input)\n",
    "    if result:\n",
    "        print(\"  \"*indent, \"match31 pass\")\n",
    "        matchStack.push(result.end())\n",
    "        return result.end()\n",
    "    else:\n",
    "        print(\"  \"*indent, \"match31 fail\")\n",
    "        return 0"
   ]
  },
  {
   "cell_type": "code",
   "execution_count": 56,
   "id": "40ee89e2",
   "metadata": {
    "collapsed": false
   },
   "outputs": [],
   "source": [
    "def matchR8(input, indent, matchStack):\n",
    "    # 8: 42 | 42 8\n",
    "    print(\"  \"*indent, \"match8\", input)\n",
    "    first = matchR42(input, indent + 1, matchStack)\n",
    "\n",
    "    if first == 0:\n",
    "        # no match on first 42, so we can't match this iteration\n",
    "        print(\"  \"*indent, \"match8 failed first\")\n",
    "        return 0\n",
    "\n",
    "    # attempt to recurse on the substring\n",
    "    second = matchR8(input[first:], indent + 1, matchStack)\n",
    "\n",
    "    # return the number of characters consumed\n",
    "    if second == 0:\n",
    "        print(\"  \"*indent, \"match8 firstonly\")\n",
    "        return first\n",
    "    else:\n",
    "        print(\"  \"*indent, \"match8 first+second\")\n",
    "        return first + second"
   ]
  },
  {
   "cell_type": "code",
   "execution_count": 57,
   "id": "2628f4bb",
   "metadata": {
    "collapsed": false
   },
   "outputs": [],
   "source": [
    "def matchR11(input, indent, matchStack):\n",
    "    # 11: 42 31 | 42 11 31\n",
    "    print(\"  \"*indent, \"match11\", input)\n",
    "    first = matchR42(input, indent + 1, matchStack)\n",
    "\n",
    "    if first == 0:\n",
    "        # no match on first 42, so we can't match this iteration\n",
    "        print(\"  \"*indent, \"match11 failed first\")\n",
    "        return 0\n",
    "\n",
    "    recurse = matchR11(input[first:], indent + 1, matchStack)\n",
    "    # we don't care whether the return value is 0 or some matching number.\n",
    "\n",
    "    second = matchR31(input[first+recurse:], indent + 1, matchStack)\n",
    "\n",
    "    if second == 0:\n",
    "        print(\"  \"*indent, \"match11 failed second\")\n",
    "        return 0\n",
    "\n",
    "\n",
    "    print(\"  \"*indent, \"match11 pass\")\n",
    "    return first + recurse + second"
   ]
  },
  {
   "cell_type": "code",
   "execution_count": 58,
   "id": "c1d6b6e0",
   "metadata": {
    "collapsed": false
   },
   "outputs": [],
   "source": [
    "def matchR0(input):\n",
    "    # 0: 8 11\n",
    "\n",
    "    matchStack = deque()\n",
    "\n",
    "    print(\"match0\", input)\n",
    "    first = matchR8(input, 1, matchStack)\n",
    "\n",
    "    if first == 0:\n",
    "        print(\"match0 failed first\")\n",
    "        return 0\n",
    "\n",
    "    second = matchR11(input[first:], 1, matchStack)\n",
    "\n",
    "    if second == 0:\n",
    "        print(\"match0 failed second\")\n",
    "        return 0\n",
    "\n",
    "    print(\"match0 pass\")\n",
    "    return first+second"
   ]
  },
  {
   "cell_type": "markdown",
   "id": "5bf98925",
   "metadata": {
    "collapsed": false
   },
   "source": [
    "Let's test some inputs!\n",
    "\n",
    "According to the example, the 12 out of the 15 inputs should now match."
   ]
  },
  {
   "cell_type": "code",
   "execution_count": 54,
   "id": "5415fcf5",
   "metadata": {
    "collapsed": false
   },
   "outputs": [
    {
     "name": "stdout",
     "output_type": "stream",
     "text": [
      "#### bbabbbbaabaabba of length 15\n",
      "match0 bbabbbbaabaabba\n",
      "   match8 bbabbbbaabaabba\n",
      "     match42 bbabbbbaabaabba ((b(a(bb|ab)|b((a|b)(a|b)))|a(b(bb)|a(bb|a(a|b))))b|(((aa|ab)a|(bb)b)b|(((a|b)a|bb)a)a)a)\n",
      "     match42 pass\n",
      "     match8 bbaabaabba\n",
      "       match42 bbaabaabba ((b(a(bb|ab)|b((a|b)(a|b)))|a(b(bb)|a(bb|a(a|b))))b|(((aa|ab)a|(bb)b)b|(((a|b)a|bb)a)a)a)\n",
      "       match42 pass\n",
      "       match8 aabba\n",
      "         match42 aabba ((b(a(bb|ab)|b((a|b)(a|b)))|a(b(bb)|a(bb|a(a|b))))b|(((aa|ab)a|(bb)b)b|(((a|b)a|bb)a)a)a)\n",
      "         match42 fail\n",
      "       match8 failed first\n",
      "     match8 firstonly\n",
      "   match8 first+second\n",
      "   match11 aabba\n",
      "     match42 aabba ((b(a(bb|ab)|b((a|b)(a|b)))|a(b(bb)|a(bb|a(a|b))))b|(((aa|ab)a|(bb)b)b|(((a|b)a|bb)a)a)a)\n",
      "     match42 fail\n",
      "   match11 failed first\n",
      "match0 failed second\n",
      "matched chars: 0\n",
      "\n"
     ]
    }
   ],
   "source": [
    "for t in testCases[1:2]:\n",
    "    print(\"####\", t, \"of length\", len(t))\n",
    "    result = matchR0(t)\n",
    "    print(\"matched chars:\", result)\n",
    "    print()"
   ]
  },
  {
   "cell_type": "code",
   "execution_count": 34,
   "id": "f4c70398",
   "metadata": {
    "collapsed": false
   },
   "outputs": [
    {
     "data": {
      "text/plain": [
       "<re.Match object; span=(0, 5), match='bbabb'>"
      ]
     },
     "execution_count": 34,
     "metadata": {},
     "output_type": "execute_result"
    }
   ],
   "source": [
    "re.match(\"((b(a(bb|ab)|b((a|b)(a|b)))|a(b(bb)|a(bb|a(a|b))))b|(((aa|ab)a|(bb)b)b|(((a|b)a|bb)a)a)a)\", \"bbabbbbaabaabba\")"
   ]
  },
  {
   "cell_type": "code",
   "execution_count": null,
   "id": "75aabef9-248a-4929-b0da-e76f69075794",
   "metadata": {},
   "outputs": [],
   "source": [
    "def part2(input):\n",
    "    (rules, testCases) = parse(input)\n",
    "        \n",
    "    rules.update({8:\"42 | 42 8\"})\n",
    "    rules.update({11:\"42 31 | 42 11 31\"})\n",
    "\n",
    "    for r in [31, 42]:\n",
    "        print(r, build(rules,r))\n",
    "\n",
    "    return\n",
    "\n",
    "    def evalRule(rule, inputString, pos, indent):\n",
    "        if rule in [0, 8, 11, 31, 42]:\n",
    "            pass\n",
    "            # print('  ' *indent,  'eval rule', rule, 'from pos', pos, \"str\", inputString[pos:], \"rule\", rules[rule])\n",
    "            \n",
    "        subRules = rules[rule].split(' ')\n",
    "        \n",
    "        newPos = pos\n",
    "        matchState = True\n",
    "        \n",
    "        for sr in subRules:\n",
    "            if sr[0] == '\"' and matchState:\n",
    "                if newPos >= len(inputString):\n",
    "                    matchState = False\n",
    "                else:\n",
    "                    if inputString[newPos] == sr[1]:\n",
    "                        newPos += 1\n",
    "                    else:\n",
    "                        matchState = False\n",
    "            elif sr[0] == '|':\n",
    "                if matchState:\n",
    "                    #print('  ' *indent, \"rtn\", newPos, \"from first alt\")\n",
    "                    return newPos\n",
    "                else:\n",
    "                    \n",
    "                    #print('  ' *indent, \"reset\")\n",
    "                    matchState = True\n",
    "                    newPos = pos\n",
    "            else:\n",
    "                if indent > (len(inputString)*10):\n",
    "                    matchState = False\n",
    "                    continue\n",
    "                    \n",
    "                returned = evalRule(int(sr), inputString, newPos, indent+1)\n",
    "                if returned >= 0:\n",
    "                    newPos = returned\n",
    "                else:\n",
    "                    matchState = False\n",
    "        \n",
    "        rtn = newPos if matchState else -1\n",
    "        #print('  ' *indent, \"rtn\", rtn)\n",
    "        return rtn\n",
    "    \n",
    "    def evalString(inputString):\n",
    "        result = evalRule(0, inputString, 0,  0)\n",
    "        # print(m, result)\n",
    "        return result == len(inputString)\n",
    "    \n",
    "   \n",
    "    count = 0\n",
    "    for m in testCases:\n",
    "        #print(\"###################################################################################################################\")\n",
    "        #print(m)\n",
    "        if evalString(m):\n",
    "            count += 1\n",
    "    \n",
    "    print(count)"
   ]
  },
  {
   "cell_type": "code",
   "execution_count": null,
   "id": "191c45db-8104-4dea-82aa-0beeb3116fec",
   "metadata": {},
   "outputs": [],
   "source": [
    "part2(inputExample2)"
   ]
  },
  {
   "cell_type": "code",
   "execution_count": null,
   "id": "84c687fc-5c28-45c3-9a37-72fbc731c703",
   "metadata": {},
   "outputs": [],
   "source": [
    "part2(inputReal)"
   ]
  }
 ],
 "metadata": {
  "kernelspec": {
   "display_name": "Python 3 (ipykernel)",
   "language": "python",
   "name": "python3"
  },
  "language_info": {
   "codemirror_mode": {
    "name": "ipython",
    "version": 3
   },
   "file_extension": ".py",
   "mimetype": "text/x-python",
   "name": "python",
   "nbconvert_exporter": "python",
   "pygments_lexer": "ipython3",
   "version": "3.9.10"
  }
 },
 "nbformat": 4,
 "nbformat_minor": 5
}
