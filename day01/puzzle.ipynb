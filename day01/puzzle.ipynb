{
 "cells": [
  {
   "cell_type": "code",
   "execution_count": 1,
   "id": "ffc3e0f3-6741-40a1-88bb-4fa7f275e6f5",
   "metadata": {},
   "outputs": [],
   "source": [
    "inputExample = open('example.txt', 'r').read().split('\\n\\n')\n",
    "inputReal = open('input.txt', 'r').read().split('\\n\\n')"
   ]
  },
  {
   "cell_type": "code",
   "execution_count": 2,
   "id": "7f9f5512-9c0c-49fe-80fc-74a65e60d1cc",
   "metadata": {
    "tags": []
   },
   "outputs": [],
   "source": [
    "from functools import reduce\n",
    "\n",
    "def part1(input):\n",
    "    elves = list(map(lambda x: x.split('\\n'), input))\n",
    "    maxCal = 0\n",
    "        \n",
    "    for e in elves:\n",
    "        maxCal = max(maxCal, reduce((lambda a,b: a+b ), map(lambda x: int(x), e)))\n",
    "    \n",
    "    print(maxCal)\n",
    "    pass"
   ]
  },
  {
   "cell_type": "code",
   "execution_count": 3,
   "id": "9df36d86-6b4d-4b7c-a9e6-bc604d4437bc",
   "metadata": {},
   "outputs": [
    {
     "name": "stdout",
     "output_type": "stream",
     "text": [
      "24000\n"
     ]
    }
   ],
   "source": [
    "part1(inputExample)"
   ]
  },
  {
   "cell_type": "code",
   "execution_count": 4,
   "id": "cbcf1e08-e193-4915-9aea-05c1c8b0eaf0",
   "metadata": {},
   "outputs": [
    {
     "name": "stdout",
     "output_type": "stream",
     "text": [
      "71023\n"
     ]
    }
   ],
   "source": [
    "part1(inputReal)"
   ]
  },
  {
   "cell_type": "code",
   "execution_count": null,
   "id": "75aabef9-248a-4929-b0da-e76f69075794",
   "metadata": {},
   "outputs": [],
   "source": [
    "def part2(input):\n",
    "    pass"
   ]
  },
  {
   "cell_type": "code",
   "execution_count": null,
   "id": "191c45db-8104-4dea-82aa-0beeb3116fec",
   "metadata": {},
   "outputs": [],
   "source": [
    "part2(inputExample)"
   ]
  },
  {
   "cell_type": "code",
   "execution_count": null,
   "id": "84c687fc-5c28-45c3-9a37-72fbc731c703",
   "metadata": {},
   "outputs": [],
   "source": [
    "part2(inputReal)"
   ]
  }
 ],
 "metadata": {
  "kernelspec": {
   "display_name": "Python 3 (ipykernel)",
   "language": "python",
   "name": "python3"
  },
  "language_info": {
   "codemirror_mode": {
    "name": "ipython",
    "version": 3
   },
   "file_extension": ".py",
   "mimetype": "text/x-python",
   "name": "python",
   "nbconvert_exporter": "python",
   "pygments_lexer": "ipython3",
   "version": "3.9.10"
  }
 },
 "nbformat": 4,
 "nbformat_minor": 5
}
