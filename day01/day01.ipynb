{
 "cells": [
  {
   "cell_type": "code",
   "execution_count": 4,
   "id": "5c913d35-a983-41cf-a02c-30bf3e6a552c",
   "metadata": {},
   "outputs": [],
   "source": [
    "inputExample = [1721,979,366,299,675,1456]\n",
    "inputReal = [1918,1869,1821,1852,1981,1987,1989,1597,1634,1537,1991,1603,1543,1949,1879,1800,1761,2010,1810,1458,1755,1938,1500,2005,818,1493,1618,1923,1283,1952,1373,1605,1230,1321,1873,1853,1886,1372,1913,1871,159,733,1400,1880,1462,2007,1801,1982,1728,1640,1442,1525,1953,1791,1906,1946,1641,2009,1627,1935,1936,1908,1826,1291,1978,1884,1799,1464,1538,1365,1678,1872,1964,1863,1388,1912,1928,1471,1632,1336,1396,1948,1974,1331,1290,1992,1096,1889,1874,1341,757,1351,1876,1674,2002,1504,1865,1469,1792,1920,1925,1898,1899,1435,405,1488,1319,1322,1749,1867,1957,1944,1727,1293,1739,1285,1917,1897,1844,1966,1921,1905,1830,1484,1364,1782,1415,1412,1413,833,1857,1370,1890,1393,1262,1311,2008,1545,1896,1362,1862,1617,1864,608,1868,1689,1784,1806,1976,1870,1973,1993,1986,1998,1414,1858,1990,1841,1895,1779,1850,2001,1590,1902,1487,943,1808,782,1546,2004,1656,154,1661,1688,1731,1466,1927,1438,1387,1576,1793,1797,1979,1903,1638,1940,1911,1301,1669,1409,1578,1887,1860,1619,1939,1625,1941,1374,1766,1407]"
   ]
  },
  {
   "cell_type": "code",
   "execution_count": 5,
   "id": "53140a0e-aa39-4d6d-8eb7-a7a732c5cbe6",
   "metadata": {},
   "outputs": [],
   "source": [
    "def part1(input):\n",
    "    i = 0\n",
    "    while i < (len(input)-1):\n",
    "        j = i + 1\n",
    "\n",
    "        while j < len(input):\n",
    "            if input[i]+input[j] == 2020:\n",
    "                print(input[i], input[j], input[i]*input[j])\n",
    "                return\n",
    "            j += 1\n",
    "        i += 1"
   ]
  },
  {
   "cell_type": "code",
   "execution_count": 6,
   "id": "19b0d7ab-c783-4ba3-b574-6ec360eb4aca",
   "metadata": {},
   "outputs": [
    {
     "name": "stdout",
     "output_type": "stream",
     "text": [
      "1721 299 514579\n"
     ]
    }
   ],
   "source": [
    "part1(inputExample)"
   ]
  },
  {
   "cell_type": "code",
   "execution_count": 7,
   "id": "d28ce29e-a507-4fce-9e54-c5c44f0f078e",
   "metadata": {},
   "outputs": [
    {
     "name": "stdout",
     "output_type": "stream",
     "text": [
      "1412 608 858496\n"
     ]
    }
   ],
   "source": [
    "part1(inputReal)"
   ]
  },
  {
   "cell_type": "code",
   "execution_count": 10,
   "id": "8d4a83e8-5b47-4edb-974b-b685e44ceb00",
   "metadata": {},
   "outputs": [],
   "source": [
    "def part2(input):\n",
    "    i = 0\n",
    "    while i < (len(input)-2):\n",
    "        j = i + 1\n",
    "\n",
    "        while j < (len(input)-1):\n",
    "            k = j + 1\n",
    "            \n",
    "            while k < len(input):\n",
    "                if input[i]+input[j]+input[k]  == 2020:\n",
    "                    print(input[i], input[j], input[k], input[i]*input[j]*input[k])\n",
    "                    return\n",
    "                k += 1\n",
    "            j += 1\n",
    "        i += 1"
   ]
  },
  {
   "cell_type": "code",
   "execution_count": 11,
   "id": "4d63afc3-33d0-419f-bef4-4a28d22f9d19",
   "metadata": {},
   "outputs": [
    {
     "name": "stdout",
     "output_type": "stream",
     "text": [
      "979 366 675 241861950\n"
     ]
    }
   ],
   "source": [
    "part2(inputExample)"
   ]
  },
  {
   "cell_type": "code",
   "execution_count": 12,
   "id": "764071e7-175b-4075-abfe-af00113470c4",
   "metadata": {},
   "outputs": [
    {
     "name": "stdout",
     "output_type": "stream",
     "text": [
      "405 833 782 263819430\n"
     ]
    }
   ],
   "source": [
    "part2(inputReal)"
   ]
  },
  {
   "cell_type": "code",
   "execution_count": null,
   "id": "b1b948f1-fcc4-407b-9472-ba48422ef16c",
   "metadata": {},
   "outputs": [],
   "source": []
  }
 ],
 "metadata": {
  "kernelspec": {
   "display_name": "Python 3 (ipykernel)",
   "language": "python",
   "name": "python3"
  },
  "language_info": {
   "codemirror_mode": {
    "name": "ipython",
    "version": 3
   },
   "file_extension": ".py",
   "mimetype": "text/x-python",
   "name": "python",
   "nbconvert_exporter": "python",
   "pygments_lexer": "ipython3",
   "version": "3.9.10"
  }
 },
 "nbformat": 4,
 "nbformat_minor": 5
}
