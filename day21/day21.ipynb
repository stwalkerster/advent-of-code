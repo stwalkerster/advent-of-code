{
 "cells": [
  {
   "cell_type": "code",
   "execution_count": 71,
   "id": "ffc3e0f3-6741-40a1-88bb-4fa7f275e6f5",
   "metadata": {},
   "outputs": [],
   "source": [
    "import re\n",
    "from functools import reduce\n",
    "\n",
    "inputExample = open('day21-example.txt', 'r').read()\n",
    "inputReal = open('day21.txt', 'r').read()"
   ]
  },
  {
   "cell_type": "code",
   "execution_count": 64,
   "id": "76f44379",
   "metadata": {
    "collapsed": false
   },
   "outputs": [],
   "source": [
    "def parse(input):\n",
    "    products = []\n",
    "    ingredients = []\n",
    "    allergens = []\n",
    "\n",
    "    for l in input.split('\\n'):\n",
    "        m = re.match(\"^([a-z ]+) \\(contains ([a-z, ]+)\\)$\", l)\n",
    "        ing = m.group(1).split(' ')\n",
    "        aller = m.group(2).split(', ')\n",
    "\n",
    "        ingredients += ing\n",
    "        allergens += aller\n",
    "        products.append((ing, aller))\n",
    "\n",
    "    return products, ingredients, list(set(allergens))"
   ]
  },
  {
   "cell_type": "code",
   "execution_count": 99,
   "id": "7f9f5512-9c0c-49fe-80fc-74a65e60d1cc",
   "metadata": {},
   "outputs": [],
   "source": [
    "def part1(input):\n",
    "    (products, unknownIngredients, unknownAllergens) = parse(input)\n",
    "    allIngredients = unknownIngredients\n",
    "    unknownIngredients = list(set(unknownIngredients))\n",
    "\n",
    "    knownIngredients = {}\n",
    "\n",
    "    changed = True\n",
    "    while changed and len(unknownAllergens) > 0:\n",
    "        changed = False\n",
    "        for allergen in unknownAllergens:\n",
    "            containingAllergen = list(map(lambda l: set(l), [x[0] for x in list(filter(lambda x : allergen in x[1], products))]))\n",
    "            possibleIngredients = set(unknownIngredients).intersection(*containingAllergen)\n",
    "\n",
    "            if len(possibleIngredients) == 1:\n",
    "                ingredient = list(possibleIngredients)[0]\n",
    "                knownIngredients.update({allergen: ingredient})\n",
    "                changed = True\n",
    "                unknownIngredients.remove(ingredient)\n",
    "                unknownAllergens.remove(allergen)\n",
    "                break\n",
    "\n",
    "    print(\"part 1:\", reduce((lambda x,y: x + y), map(lambda i: allIngredients.count(i) , unknownIngredients)))\n",
    "\n",
    "    print(\"part 2:\", \",\".join(list(map(lambda x: knownIngredients[x], sorted(knownIngredients)))))\n",
    "\n",
    "    pass"
   ]
  },
  {
   "cell_type": "code",
   "execution_count": 97,
   "id": "9df36d86-6b4d-4b7c-a9e6-bc604d4437bc",
   "metadata": {},
   "outputs": [
    {
     "name": "stdout",
     "output_type": "stream",
     "text": [
      "part 1: 5\n",
      "part 2: mxmxvkd,sqjhc,fvjkl\n"
     ]
    }
   ],
   "source": [
    "part1(inputExample)"
   ]
  },
  {
   "cell_type": "code",
   "execution_count": 98,
   "id": "cbcf1e08-e193-4915-9aea-05c1c8b0eaf0",
   "metadata": {},
   "outputs": [
    {
     "name": "stdout",
     "output_type": "stream",
     "text": [
      "part 1: 2389\n",
      "part 2: fsr,skrxt,lqbcg,mgbv,dvjrrkv,ndnlm,xcljh,zbhp\n"
     ]
    }
   ],
   "source": [
    "part1(inputReal)"
   ]
  }
 ],
 "metadata": {
  "kernelspec": {
   "display_name": "Python 3 (ipykernel)",
   "language": "python",
   "name": "python3"
  },
  "language_info": {
   "codemirror_mode": {
    "name": "ipython",
    "version": 3
   },
   "file_extension": ".py",
   "mimetype": "text/x-python",
   "name": "python",
   "nbconvert_exporter": "python",
   "pygments_lexer": "ipython3",
   "version": "3.9.10"
  }
 },
 "nbformat": 4,
 "nbformat_minor": 5
}
